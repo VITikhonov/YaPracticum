{
 "cells": [
  {
   "cell_type": "markdown",
   "metadata": {},
   "source": [
    "## Исследование надёжности заёмщиков\n",
    "\n",
    "Заказчик — кредитный отдел банка. Нужно разобраться, влияет ли семейное положение и количество детей клиента на факт погашения кредита в срок. Входные данные от банка — статистика о платёжеспособности клиентов.\n",
    "\n",
    "Результаты исследования будут учтены при построении модели **кредитного скоринга** — специальной системы, которая оценивает способность потенциального заёмщика вернуть кредит банку."
   ]
  },
  {
   "cell_type": "markdown",
   "metadata": {},
   "source": [
    "### Шаг 1. Откройте файл с данными и изучите общую информацию. "
   ]
  },
  {
   "cell_type": "code",
   "execution_count": 1,
   "metadata": {},
   "outputs": [
    {
     "name": "stdout",
     "output_type": "stream",
     "text": [
      "   children  days_employed  dob_years education  education_id  \\\n",
      "0         1   -8437.673028         42    высшее             0   \n",
      "1         1   -4024.803754         36   среднее             1   \n",
      "2         0   -5623.422610         33   Среднее             1   \n",
      "3         3   -4124.747207         32   среднее             1   \n",
      "4         0  340266.072047         53   среднее             1   \n",
      "\n",
      "      family_status  family_status_id gender income_type  debt   total_income  \\\n",
      "0   женат / замужем                 0      F   сотрудник     0  253875.639453   \n",
      "1   женат / замужем                 0      F   сотрудник     0  112080.014102   \n",
      "2   женат / замужем                 0      M   сотрудник     0  145885.952297   \n",
      "3   женат / замужем                 0      M   сотрудник     0  267628.550329   \n",
      "4  гражданский брак                 1      F   пенсионер     0  158616.077870   \n",
      "\n",
      "                      purpose  \n",
      "0               покупка жилья  \n",
      "1     приобретение автомобиля  \n",
      "2               покупка жилья  \n",
      "3  дополнительное образование  \n",
      "4             сыграть свадьбу  \n",
      "\n",
      "<class 'pandas.core.frame.DataFrame'>\n",
      "RangeIndex: 21525 entries, 0 to 21524\n",
      "Data columns (total 12 columns):\n",
      "children            21525 non-null int64\n",
      "days_employed       19351 non-null float64\n",
      "dob_years           21525 non-null int64\n",
      "education           21525 non-null object\n",
      "education_id        21525 non-null int64\n",
      "family_status       21525 non-null object\n",
      "family_status_id    21525 non-null int64\n",
      "gender              21525 non-null object\n",
      "income_type         21525 non-null object\n",
      "debt                21525 non-null int64\n",
      "total_income        19351 non-null float64\n",
      "purpose             21525 non-null object\n",
      "dtypes: float64(2), int64(5), object(5)\n",
      "memory usage: 2.0+ MB\n",
      "None\n"
     ]
    }
   ],
   "source": [
    "import pandas as pd\n",
    "data = pd.read_csv('/datasets//data.csv')\n",
    "print(data.head(5))\n",
    "print()\n",
    "print(data.info())"
   ]
  },
  {
   "cell_type": "markdown",
   "metadata": {},
   "source": [
    "### Вывод"
   ]
  },
  {
   "cell_type": "markdown",
   "metadata": {},
   "source": [
    "Датасет имеет 21525 записи и 12 колонок с данными, состоящих из информации о количестве детей, стаже, возрасте, образовании и его степени клиента, семейное положение, пол, тип занятости, наличие просроченных платежей, среднемесячный доход и цель получения кредита в банке. На первый взгляд бросаются следующие недочеты в данных: отрицательное количество отработанных дней стажа, в уровне образования (среднее и Среднее), по-разному записаны одни и те же цели получения кредита (на покупку автомобиля и на покупку своего автомобиля), наличие пропусков в данных."
   ]
  },
  {
   "cell_type": "markdown",
   "metadata": {},
   "source": [
    "### Шаг 2. Предобработка данных"
   ]
  },
  {
   "cell_type": "markdown",
   "metadata": {},
   "source": [
    "### Обработка пропусков"
   ]
  },
  {
   "cell_type": "code",
   "execution_count": 2,
   "metadata": {},
   "outputs": [
    {
     "name": "stdout",
     "output_type": "stream",
     "text": [
      "children               0\n",
      "days_employed       2174\n",
      "dob_years              0\n",
      "education              0\n",
      "education_id           0\n",
      "family_status          0\n",
      "family_status_id       0\n",
      "gender                 0\n",
      "income_type            0\n",
      "debt                   0\n",
      "total_income        2174\n",
      "purpose                0\n",
      "dtype: int64\n",
      "\n",
      "66914.72890682236\n",
      "145017.93753253992\n",
      "\n",
      "children            0\n",
      "days_employed       0\n",
      "dob_years           0\n",
      "education           0\n",
      "education_id        0\n",
      "family_status       0\n",
      "family_status_id    0\n",
      "gender              0\n",
      "income_type         0\n",
      "debt                0\n",
      "total_income        0\n",
      "purpose             0\n",
      "dtype: int64\n"
     ]
    }
   ],
   "source": [
    "print(data.isna().sum())\n",
    "print()\n",
    "\n",
    "data['days_employed'] = data['days_employed'].abs()\n",
    "data['total_income'] = data['total_income'].abs()\n",
    "days_employed_mean = data[\"days_employed\"].mean()\n",
    "total_income_median = data[\"total_income\"].median()\n",
    "\n",
    "print(days_employed_mean)\n",
    "print(total_income_median)\n",
    "print()\n",
    "\n",
    "data['days_employed'] = data['days_employed'].fillna(days_employed_mean)\n",
    "data['total_income'] = data['total_income'].fillna(total_income_median)\n",
    "print(data.isna().sum())"
   ]
  },
  {
   "cell_type": "markdown",
   "metadata": {},
   "source": [
    "Пропуски данных были обнаружены в двух столбцах датасета: days_employed - количество отработанных дней, заменили пропущенные значения средним арифметическим (метод mean) и total_income - среднемесячный доход, который заменили на медианное значение по столбцу исходя из того, что неккоректно считать среднее арифметическое для заработной платы. Для получения значений перевел отрицательные значения в положительные. Возможные пропуски связываем с отсутствием дохода и отработанного времени потому что клиент либо безработный, либо только устроился в организацию."
   ]
  },
  {
   "cell_type": "markdown",
   "metadata": {},
   "source": [
    "### Замена типа данных"
   ]
  },
  {
   "cell_type": "code",
   "execution_count": 3,
   "metadata": {},
   "outputs": [
    {
     "name": "stdout",
     "output_type": "stream",
     "text": [
      "<class 'pandas.core.frame.DataFrame'>\n",
      "RangeIndex: 21525 entries, 0 to 21524\n",
      "Data columns (total 12 columns):\n",
      "children            21525 non-null int64\n",
      "days_employed       21525 non-null float64\n",
      "dob_years           21525 non-null int64\n",
      "education           21525 non-null object\n",
      "education_id        21525 non-null int64\n",
      "family_status       21525 non-null object\n",
      "family_status_id    21525 non-null int64\n",
      "gender              21525 non-null object\n",
      "income_type         21525 non-null object\n",
      "debt                21525 non-null int64\n",
      "total_income        21525 non-null float64\n",
      "purpose             21525 non-null object\n",
      "dtypes: float64(2), int64(5), object(5)\n",
      "memory usage: 2.0+ MB\n",
      "None\n",
      "<class 'pandas.core.frame.DataFrame'>\n",
      "RangeIndex: 21525 entries, 0 to 21524\n",
      "Data columns (total 12 columns):\n",
      "children            21525 non-null int64\n",
      "days_employed       21525 non-null int64\n",
      "dob_years           21525 non-null int64\n",
      "education           21525 non-null object\n",
      "education_id        21525 non-null int64\n",
      "family_status       21525 non-null object\n",
      "family_status_id    21525 non-null int64\n",
      "gender              21525 non-null object\n",
      "income_type         21525 non-null object\n",
      "debt                21525 non-null int64\n",
      "total_income        21525 non-null int64\n",
      "purpose             21525 non-null object\n",
      "dtypes: int64(7), object(5)\n",
      "memory usage: 2.0+ MB\n",
      "None\n"
     ]
    }
   ],
   "source": [
    "print(data.info())\n",
    "data = data.astype({\"days_employed\":'int64', \"total_income\":'int64'})\n",
    "print(data.info())"
   ]
  },
  {
   "cell_type": "markdown",
   "metadata": {},
   "source": [
    "### Вывод"
   ]
  },
  {
   "cell_type": "markdown",
   "metadata": {},
   "source": [
    "Чтобы лучше анализировать данные необходимо заменить значения с точкой на целочисленные в следующих столбцах - days_employed и total_income, данные в них меняем методом astype, потому что исходные данные имееют тип float64, что говорит о том, что все значения в столбцах - нецелые или целые числа."
   ]
  },
  {
   "cell_type": "markdown",
   "metadata": {},
   "source": [
    "### Обработка дубликатов"
   ]
  },
  {
   "cell_type": "code",
   "execution_count": 4,
   "metadata": {},
   "outputs": [
    {
     "name": "stdout",
     "output_type": "stream",
     "text": [
      "71\n",
      "0\n"
     ]
    }
   ],
   "source": [
    "data['education'] = data['education'].str.lower()\n",
    "data['family_status'] = data['family_status'].str.lower()\n",
    "data['gender'] = data['gender'].str.lower()\n",
    "data['income_type'] = data['income_type'].str.lower()\n",
    "data['purpose'] = data['purpose'].str.lower()\n",
    "\n",
    "print(data.duplicated().sum())\n",
    "data = data.drop_duplicates().reset_index(drop = True)\n",
    "print(data.duplicated().sum())"
   ]
  },
  {
   "cell_type": "markdown",
   "metadata": {},
   "source": [
    "### Вывод"
   ]
  },
  {
   "cell_type": "markdown",
   "metadata": {},
   "source": [
    "Чтобы начать работать с дубликатами в датасете, уравняем регистр во всех столбцах, содержащих текст. Найден 71 дубликат (0,003% от общего числа данных), удалим их методом drop_duplicates. Причиной появления дубликатов в данных может быть наличие несколько кредитов у удного лица, что привело к удвоению данных о нем, содержащихся в датасете."
   ]
  },
  {
   "cell_type": "markdown",
   "metadata": {},
   "source": [
    "### Лемматизация"
   ]
  },
  {
   "cell_type": "code",
   "execution_count": 5,
   "metadata": {},
   "outputs": [
    {
     "data": {
      "text/html": [
       "<div>\n",
       "<style scoped>\n",
       "    .dataframe tbody tr th:only-of-type {\n",
       "        vertical-align: middle;\n",
       "    }\n",
       "\n",
       "    .dataframe tbody tr th {\n",
       "        vertical-align: top;\n",
       "    }\n",
       "\n",
       "    .dataframe thead th {\n",
       "        text-align: right;\n",
       "    }\n",
       "</style>\n",
       "<table border=\"1\" class=\"dataframe\">\n",
       "  <thead>\n",
       "    <tr style=\"text-align: right;\">\n",
       "      <th></th>\n",
       "      <th>children</th>\n",
       "      <th>days_employed</th>\n",
       "      <th>dob_years</th>\n",
       "      <th>education</th>\n",
       "      <th>education_id</th>\n",
       "      <th>family_status</th>\n",
       "      <th>family_status_id</th>\n",
       "      <th>gender</th>\n",
       "      <th>income_type</th>\n",
       "      <th>debt</th>\n",
       "      <th>total_income</th>\n",
       "      <th>purpose</th>\n",
       "      <th>lem_purpose</th>\n",
       "    </tr>\n",
       "  </thead>\n",
       "  <tbody>\n",
       "    <tr>\n",
       "      <td>0</td>\n",
       "      <td>1</td>\n",
       "      <td>8437</td>\n",
       "      <td>42</td>\n",
       "      <td>высшее</td>\n",
       "      <td>0</td>\n",
       "      <td>женат / замужем</td>\n",
       "      <td>0</td>\n",
       "      <td>f</td>\n",
       "      <td>сотрудник</td>\n",
       "      <td>0</td>\n",
       "      <td>253875</td>\n",
       "      <td>покупка жилья</td>\n",
       "      <td>[покупка,  , жилье, \\n]</td>\n",
       "    </tr>\n",
       "    <tr>\n",
       "      <td>1</td>\n",
       "      <td>1</td>\n",
       "      <td>4024</td>\n",
       "      <td>36</td>\n",
       "      <td>среднее</td>\n",
       "      <td>1</td>\n",
       "      <td>женат / замужем</td>\n",
       "      <td>0</td>\n",
       "      <td>f</td>\n",
       "      <td>сотрудник</td>\n",
       "      <td>0</td>\n",
       "      <td>112080</td>\n",
       "      <td>приобретение автомобиля</td>\n",
       "      <td>[приобретение,  , автомобиль, \\n]</td>\n",
       "    </tr>\n",
       "    <tr>\n",
       "      <td>2</td>\n",
       "      <td>0</td>\n",
       "      <td>5623</td>\n",
       "      <td>33</td>\n",
       "      <td>среднее</td>\n",
       "      <td>1</td>\n",
       "      <td>женат / замужем</td>\n",
       "      <td>0</td>\n",
       "      <td>m</td>\n",
       "      <td>сотрудник</td>\n",
       "      <td>0</td>\n",
       "      <td>145885</td>\n",
       "      <td>покупка жилья</td>\n",
       "      <td>[покупка,  , жилье, \\n]</td>\n",
       "    </tr>\n",
       "  </tbody>\n",
       "</table>\n",
       "</div>"
      ],
      "text/plain": [
       "   children  days_employed  dob_years education  education_id  \\\n",
       "0         1           8437         42    высшее             0   \n",
       "1         1           4024         36   среднее             1   \n",
       "2         0           5623         33   среднее             1   \n",
       "\n",
       "     family_status  family_status_id gender income_type  debt  total_income  \\\n",
       "0  женат / замужем                 0      f   сотрудник     0        253875   \n",
       "1  женат / замужем                 0      f   сотрудник     0        112080   \n",
       "2  женат / замужем                 0      m   сотрудник     0        145885   \n",
       "\n",
       "                   purpose                        lem_purpose  \n",
       "0            покупка жилья            [покупка,  , жилье, \\n]  \n",
       "1  приобретение автомобиля  [приобретение,  , автомобиль, \\n]  \n",
       "2            покупка жилья            [покупка,  , жилье, \\n]  "
      ]
     },
     "execution_count": 5,
     "metadata": {},
     "output_type": "execute_result"
    }
   ],
   "source": [
    "from pymystem3 import Mystem\n",
    "m = Mystem()\n",
    "\n",
    "data['lem_purpose'] = data['purpose'].apply(m.lemmatize)\n",
    "data.head(3)"
   ]
  },
  {
   "cell_type": "markdown",
   "metadata": {},
   "source": [
    "### Вывод"
   ]
  },
  {
   "cell_type": "markdown",
   "metadata": {},
   "source": [
    "Выделили леммы значений столбца purpose с помощью метода m.lemmatize, сохранили полученные значения в новый столбец датасета lem_purpose методом apply."
   ]
  },
  {
   "cell_type": "markdown",
   "metadata": {},
   "source": [
    "### Категоризация данных"
   ]
  },
  {
   "cell_type": "code",
   "execution_count": 6,
   "metadata": {},
   "outputs": [
    {
     "name": "stdout",
     "output_type": "stream",
     "text": [
      "['недвижимость' 'автомобиль' 'образование' 'свадьба']\n",
      "\n"
     ]
    },
    {
     "data": {
      "text/html": [
       "<div>\n",
       "<style scoped>\n",
       "    .dataframe tbody tr th:only-of-type {\n",
       "        vertical-align: middle;\n",
       "    }\n",
       "\n",
       "    .dataframe tbody tr th {\n",
       "        vertical-align: top;\n",
       "    }\n",
       "\n",
       "    .dataframe thead th {\n",
       "        text-align: right;\n",
       "    }\n",
       "</style>\n",
       "<table border=\"1\" class=\"dataframe\">\n",
       "  <thead>\n",
       "    <tr style=\"text-align: right;\">\n",
       "      <th></th>\n",
       "      <th>children</th>\n",
       "      <th>days_employed</th>\n",
       "      <th>dob_years</th>\n",
       "      <th>education</th>\n",
       "      <th>education_id</th>\n",
       "      <th>family_status</th>\n",
       "      <th>family_status_id</th>\n",
       "      <th>gender</th>\n",
       "      <th>income_type</th>\n",
       "      <th>debt</th>\n",
       "      <th>total_income</th>\n",
       "      <th>purpose</th>\n",
       "      <th>lem_purpose</th>\n",
       "      <th>purpose_category</th>\n",
       "    </tr>\n",
       "  </thead>\n",
       "  <tbody>\n",
       "    <tr>\n",
       "      <td>0</td>\n",
       "      <td>1</td>\n",
       "      <td>8437</td>\n",
       "      <td>42</td>\n",
       "      <td>высшее</td>\n",
       "      <td>0</td>\n",
       "      <td>женат / замужем</td>\n",
       "      <td>0</td>\n",
       "      <td>f</td>\n",
       "      <td>сотрудник</td>\n",
       "      <td>0</td>\n",
       "      <td>253875</td>\n",
       "      <td>покупка жилья</td>\n",
       "      <td>[покупка,  , жилье, \\n]</td>\n",
       "      <td>недвижимость</td>\n",
       "    </tr>\n",
       "    <tr>\n",
       "      <td>1</td>\n",
       "      <td>1</td>\n",
       "      <td>4024</td>\n",
       "      <td>36</td>\n",
       "      <td>среднее</td>\n",
       "      <td>1</td>\n",
       "      <td>женат / замужем</td>\n",
       "      <td>0</td>\n",
       "      <td>f</td>\n",
       "      <td>сотрудник</td>\n",
       "      <td>0</td>\n",
       "      <td>112080</td>\n",
       "      <td>приобретение автомобиля</td>\n",
       "      <td>[приобретение,  , автомобиль, \\n]</td>\n",
       "      <td>автомобиль</td>\n",
       "    </tr>\n",
       "    <tr>\n",
       "      <td>2</td>\n",
       "      <td>0</td>\n",
       "      <td>5623</td>\n",
       "      <td>33</td>\n",
       "      <td>среднее</td>\n",
       "      <td>1</td>\n",
       "      <td>женат / замужем</td>\n",
       "      <td>0</td>\n",
       "      <td>m</td>\n",
       "      <td>сотрудник</td>\n",
       "      <td>0</td>\n",
       "      <td>145885</td>\n",
       "      <td>покупка жилья</td>\n",
       "      <td>[покупка,  , жилье, \\n]</td>\n",
       "      <td>недвижимость</td>\n",
       "    </tr>\n",
       "    <tr>\n",
       "      <td>3</td>\n",
       "      <td>3</td>\n",
       "      <td>4124</td>\n",
       "      <td>32</td>\n",
       "      <td>среднее</td>\n",
       "      <td>1</td>\n",
       "      <td>женат / замужем</td>\n",
       "      <td>0</td>\n",
       "      <td>m</td>\n",
       "      <td>сотрудник</td>\n",
       "      <td>0</td>\n",
       "      <td>267628</td>\n",
       "      <td>дополнительное образование</td>\n",
       "      <td>[дополнительный,  , образование, \\n]</td>\n",
       "      <td>образование</td>\n",
       "    </tr>\n",
       "    <tr>\n",
       "      <td>4</td>\n",
       "      <td>0</td>\n",
       "      <td>340266</td>\n",
       "      <td>53</td>\n",
       "      <td>среднее</td>\n",
       "      <td>1</td>\n",
       "      <td>гражданский брак</td>\n",
       "      <td>1</td>\n",
       "      <td>f</td>\n",
       "      <td>пенсионер</td>\n",
       "      <td>0</td>\n",
       "      <td>158616</td>\n",
       "      <td>сыграть свадьбу</td>\n",
       "      <td>[сыграть,  , свадьба, \\n]</td>\n",
       "      <td>свадьба</td>\n",
       "    </tr>\n",
       "  </tbody>\n",
       "</table>\n",
       "</div>"
      ],
      "text/plain": [
       "   children  days_employed  dob_years education  education_id  \\\n",
       "0         1           8437         42    высшее             0   \n",
       "1         1           4024         36   среднее             1   \n",
       "2         0           5623         33   среднее             1   \n",
       "3         3           4124         32   среднее             1   \n",
       "4         0         340266         53   среднее             1   \n",
       "\n",
       "      family_status  family_status_id gender income_type  debt  total_income  \\\n",
       "0   женат / замужем                 0      f   сотрудник     0        253875   \n",
       "1   женат / замужем                 0      f   сотрудник     0        112080   \n",
       "2   женат / замужем                 0      m   сотрудник     0        145885   \n",
       "3   женат / замужем                 0      m   сотрудник     0        267628   \n",
       "4  гражданский брак                 1      f   пенсионер     0        158616   \n",
       "\n",
       "                      purpose                           lem_purpose  \\\n",
       "0               покупка жилья               [покупка,  , жилье, \\n]   \n",
       "1     приобретение автомобиля     [приобретение,  , автомобиль, \\n]   \n",
       "2               покупка жилья               [покупка,  , жилье, \\n]   \n",
       "3  дополнительное образование  [дополнительный,  , образование, \\n]   \n",
       "4             сыграть свадьбу             [сыграть,  , свадьба, \\n]   \n",
       "\n",
       "  purpose_category  \n",
       "0     недвижимость  \n",
       "1       автомобиль  \n",
       "2     недвижимость  \n",
       "3      образование  \n",
       "4          свадьба  "
      ]
     },
     "execution_count": 6,
     "metadata": {},
     "output_type": "execute_result"
    }
   ],
   "source": [
    "def purpose_cat(purpose):\n",
    "    if 'недвижимость' in purpose or 'жилье' in purpose:\n",
    "        return 'недвижимость'\n",
    "    if 'автомобиль' in purpose:\n",
    "        return 'автомобиль'\n",
    "    if 'образование' in purpose:\n",
    "        return 'образование'\n",
    "    if 'свадьба' in purpose:\n",
    "        return 'свадьба'\n",
    "    else:\n",
    "        return 'Undefined'\n",
    "    \n",
    "data['purpose_category'] = data['lem_purpose'].apply(purpose_cat)\n",
    "print(data['purpose_category'].unique())\n",
    "print()\n",
    "data.head(5)"
   ]
  },
  {
   "cell_type": "markdown",
   "metadata": {},
   "source": [
    "### Вывод"
   ]
  },
  {
   "cell_type": "markdown",
   "metadata": {},
   "source": [
    "В результате обработки по столбцу purpose выделены несколько основных целей: недвижимость, автомобиль, образование, свадьба. Эти значения уникальны - проверены методом data['purpose_category'].unique()). Нет ни одного значения Undefined, что говорит о том, что все значения в столбце purpose_category заполнены и мы учили все варианты в фунции purpose_cat."
   ]
  },
  {
   "cell_type": "markdown",
   "metadata": {},
   "source": [
    "### Шаг 3. Ответьте на вопросы"
   ]
  },
  {
   "cell_type": "markdown",
   "metadata": {},
   "source": [
    "- Есть ли зависимость между наличием детей и возвратом кредита в срок?"
   ]
  },
  {
   "cell_type": "code",
   "execution_count": 7,
   "metadata": {},
   "outputs": [
    {
     "data": {
      "text/html": [
       "<style  type=\"text/css\" >\n",
       "</style><table id=\"T_9b330824_db3d_11ea_bebe_02420a39abfe\" ><thead>    <tr>        <th class=\"blank level0\" ></th>        <th class=\"col_heading level0 col0\" >debt</th>    </tr>    <tr>        <th class=\"index_name level0\" >children</th>        <th class=\"blank\" ></th>    </tr></thead><tbody>\n",
       "                <tr>\n",
       "                        <th id=\"T_9b330824_db3d_11ea_bebe_02420a39abfelevel0_row0\" class=\"row_heading level0 row0\" >0</th>\n",
       "                        <td id=\"T_9b330824_db3d_11ea_bebe_02420a39abferow0_col0\" class=\"data row0 col0\" >7.54%</td>\n",
       "            </tr>\n",
       "            <tr>\n",
       "                        <th id=\"T_9b330824_db3d_11ea_bebe_02420a39abfelevel0_row1\" class=\"row_heading level0 row1\" >1</th>\n",
       "                        <td id=\"T_9b330824_db3d_11ea_bebe_02420a39abferow1_col0\" class=\"data row1 col0\" >9.23%</td>\n",
       "            </tr>\n",
       "            <tr>\n",
       "                        <th id=\"T_9b330824_db3d_11ea_bebe_02420a39abfelevel0_row2\" class=\"row_heading level0 row2\" >2</th>\n",
       "                        <td id=\"T_9b330824_db3d_11ea_bebe_02420a39abferow2_col0\" class=\"data row2 col0\" >9.45%</td>\n",
       "            </tr>\n",
       "            <tr>\n",
       "                        <th id=\"T_9b330824_db3d_11ea_bebe_02420a39abfelevel0_row3\" class=\"row_heading level0 row3\" >3</th>\n",
       "                        <td id=\"T_9b330824_db3d_11ea_bebe_02420a39abferow3_col0\" class=\"data row3 col0\" >8.18%</td>\n",
       "            </tr>\n",
       "            <tr>\n",
       "                        <th id=\"T_9b330824_db3d_11ea_bebe_02420a39abfelevel0_row4\" class=\"row_heading level0 row4\" >4</th>\n",
       "                        <td id=\"T_9b330824_db3d_11ea_bebe_02420a39abferow4_col0\" class=\"data row4 col0\" >9.76%</td>\n",
       "            </tr>\n",
       "            <tr>\n",
       "                        <th id=\"T_9b330824_db3d_11ea_bebe_02420a39abfelevel0_row5\" class=\"row_heading level0 row5\" >5</th>\n",
       "                        <td id=\"T_9b330824_db3d_11ea_bebe_02420a39abferow5_col0\" class=\"data row5 col0\" >0.00%</td>\n",
       "            </tr>\n",
       "    </tbody></table>"
      ],
      "text/plain": [
       "<pandas.io.formats.style.Styler at 0x7f93010a6d90>"
      ]
     },
     "execution_count": 7,
     "metadata": {},
     "output_type": "execute_result"
    }
   ],
   "source": [
    "res_children_debt = data.query('children >= 0 and children <= 5').pivot_table(index = 'children', values = 'debt')\n",
    "res_children_debt.style.format(\"{:.2%}\")\n",
    "\n",
    "#data['has_debt'] = data['debt']\n",
    "#res_children_debt2 = data.query('children >= 0 and children <= 4').pivot_table(index = 'children', columns ='has_debt', values = 'debt', aggfunc = 'count')\n",
    "#res_children_debt2['ratio'] = res_children_debt2[1] / res_children_debt2[0] * 100\n",
    "#res_children_debt2"
   ]
  },
  {
   "cell_type": "markdown",
   "metadata": {},
   "source": [
    "### Вывод"
   ]
  },
  {
   "cell_type": "markdown",
   "metadata": {},
   "source": [
    "Проанадизировав зависимость количества детей от возвратности кредита можно отметить, что количество детей в меньшей степени влияет на возвратность кредита. Так, заемщик с одним, двумя и четырьмя детьми в равной степени возвращают кредит (9,5%). Самая высокая доля возвратности у заемщиков, не имеющих детей и имеющих трех детей - 0,92. Прямой ависимости от количества детей не установлено - выбивается процент возвратности заемщиков с тремя детьми."
   ]
  },
  {
   "cell_type": "markdown",
   "metadata": {},
   "source": [
    "- Есть ли зависимость между семейным положением и возвратом кредита в срок?"
   ]
  },
  {
   "cell_type": "code",
   "execution_count": 8,
   "metadata": {},
   "outputs": [
    {
     "data": {
      "text/html": [
       "<style  type=\"text/css\" >\n",
       "</style><table id=\"T_9b38557c_db3d_11ea_bebe_02420a39abfe\" ><thead>    <tr>        <th class=\"blank level0\" ></th>        <th class=\"col_heading level0 col0\" >debt</th>    </tr>    <tr>        <th class=\"index_name level0\" >family_status</th>        <th class=\"blank\" ></th>    </tr></thead><tbody>\n",
       "                <tr>\n",
       "                        <th id=\"T_9b38557c_db3d_11ea_bebe_02420a39abfelevel0_row0\" class=\"row_heading level0 row0\" >в разводе</th>\n",
       "                        <td id=\"T_9b38557c_db3d_11ea_bebe_02420a39abferow0_col0\" class=\"data row0 col0\" >7.11%</td>\n",
       "            </tr>\n",
       "            <tr>\n",
       "                        <th id=\"T_9b38557c_db3d_11ea_bebe_02420a39abfelevel0_row1\" class=\"row_heading level0 row1\" >вдовец / вдова</th>\n",
       "                        <td id=\"T_9b38557c_db3d_11ea_bebe_02420a39abferow1_col0\" class=\"data row1 col0\" >6.57%</td>\n",
       "            </tr>\n",
       "            <tr>\n",
       "                        <th id=\"T_9b38557c_db3d_11ea_bebe_02420a39abfelevel0_row2\" class=\"row_heading level0 row2\" >гражданский брак</th>\n",
       "                        <td id=\"T_9b38557c_db3d_11ea_bebe_02420a39abferow2_col0\" class=\"data row2 col0\" >9.35%</td>\n",
       "            </tr>\n",
       "            <tr>\n",
       "                        <th id=\"T_9b38557c_db3d_11ea_bebe_02420a39abfelevel0_row3\" class=\"row_heading level0 row3\" >женат / замужем</th>\n",
       "                        <td id=\"T_9b38557c_db3d_11ea_bebe_02420a39abferow3_col0\" class=\"data row3 col0\" >7.55%</td>\n",
       "            </tr>\n",
       "            <tr>\n",
       "                        <th id=\"T_9b38557c_db3d_11ea_bebe_02420a39abfelevel0_row4\" class=\"row_heading level0 row4\" >не женат / не замужем</th>\n",
       "                        <td id=\"T_9b38557c_db3d_11ea_bebe_02420a39abferow4_col0\" class=\"data row4 col0\" >9.75%</td>\n",
       "            </tr>\n",
       "    </tbody></table>"
      ],
      "text/plain": [
       "<pandas.io.formats.style.Styler at 0x7f93008a78d0>"
      ]
     },
     "execution_count": 8,
     "metadata": {},
     "output_type": "execute_result"
    }
   ],
   "source": [
    "res_familystatus_debt = data.pivot_table(index = 'family_status', values = 'debt')\n",
    "res_familystatus_debt.style.format(\"{:.2%}\")"
   ]
  },
  {
   "cell_type": "markdown",
   "metadata": {},
   "source": [
    "### Вывод"
   ]
  },
  {
   "cell_type": "markdown",
   "metadata": {},
   "source": [
    "Анализируя зависимость семейного положения заемщика и возвратность кредита выявлено, что минимальная возвратность у не женатых (не замужних) клиентов и клиентов, состоящих в гражданском браке, хорошая возвратность прослеживается у вдовых клиентов, находящихся в разводе, и состоящих в официальном браке. Зависимости от наличия спутника не установлено, так как большая разница между возвратностью клиента состоящего в гражданском браке и женатым/замужним официально, ровно как и между вдовым и не женатым/не замужней."
   ]
  },
  {
   "cell_type": "markdown",
   "metadata": {},
   "source": [
    "- Есть ли зависимость между уровнем дохода и возвратом кредита в срок?"
   ]
  },
  {
   "cell_type": "code",
   "execution_count": 9,
   "metadata": {},
   "outputs": [
    {
     "name": "stdout",
     "output_type": "stream",
     "text": [
      "0.10     78721.10\n",
      "0.35    126296.55\n",
      "0.65    166930.55\n",
      "0.90    269797.40\n",
      "Name: total_income, dtype: float64\n"
     ]
    },
    {
     "data": {
      "text/html": [
       "<style  type=\"text/css\" >\n",
       "</style><table id=\"T_9b447b2c_db3d_11ea_bebe_02420a39abfe\" ><thead>    <tr>        <th class=\"blank level0\" ></th>        <th class=\"col_heading level0 col0\" >debt</th>    </tr>    <tr>        <th class=\"index_name level0\" >ti_category</th>        <th class=\"blank\" ></th>    </tr></thead><tbody>\n",
       "                <tr>\n",
       "                        <th id=\"T_9b447b2c_db3d_11ea_bebe_02420a39abfelevel0_row0\" class=\"row_heading level0 row0\" >1. низкий</th>\n",
       "                        <td id=\"T_9b447b2c_db3d_11ea_bebe_02420a39abferow0_col0\" class=\"data row0 col0\" >7.32%</td>\n",
       "            </tr>\n",
       "            <tr>\n",
       "                        <th id=\"T_9b447b2c_db3d_11ea_bebe_02420a39abfelevel0_row1\" class=\"row_heading level0 row1\" >2. ниже среднего</th>\n",
       "                        <td id=\"T_9b447b2c_db3d_11ea_bebe_02420a39abferow1_col0\" class=\"data row1 col0\" >8.65%</td>\n",
       "            </tr>\n",
       "            <tr>\n",
       "                        <th id=\"T_9b447b2c_db3d_11ea_bebe_02420a39abfelevel0_row2\" class=\"row_heading level0 row2\" >3. средний</th>\n",
       "                        <td id=\"T_9b447b2c_db3d_11ea_bebe_02420a39abferow2_col0\" class=\"data row2 col0\" >8.48%</td>\n",
       "            </tr>\n",
       "            <tr>\n",
       "                        <th id=\"T_9b447b2c_db3d_11ea_bebe_02420a39abfelevel0_row3\" class=\"row_heading level0 row3\" >4. выше среднего</th>\n",
       "                        <td id=\"T_9b447b2c_db3d_11ea_bebe_02420a39abferow3_col0\" class=\"data row3 col0\" >7.89%</td>\n",
       "            </tr>\n",
       "            <tr>\n",
       "                        <th id=\"T_9b447b2c_db3d_11ea_bebe_02420a39abfelevel0_row4\" class=\"row_heading level0 row4\" >5. высокий</th>\n",
       "                        <td id=\"T_9b447b2c_db3d_11ea_bebe_02420a39abferow4_col0\" class=\"data row4 col0\" >7.04%</td>\n",
       "            </tr>\n",
       "    </tbody></table>"
      ],
      "text/plain": [
       "<pandas.io.formats.style.Styler at 0x7f93010c8fd0>"
      ]
     },
     "execution_count": 9,
     "metadata": {},
     "output_type": "execute_result"
    }
   ],
   "source": [
    "data = data.astype({\"total_income\":'int64'})\n",
    "print(data['total_income'].quantile([0.1,0.35,0.65,0.9]))\n",
    "\n",
    "def ti_cat(total_income):\n",
    "    if total_income <= 78721.10:\n",
    "        return '1. низкий'\n",
    "    if total_income > 78721.10 and total_income < 126296.55:\n",
    "        return '2. ниже среднего'\n",
    "    if total_income >  126296.55 and total_income < 166930.55:\n",
    "        return '3. средний'\n",
    "    if total_income > 166930.55 and total_income < 269797.40:\n",
    "        return '4. выше среднего'\n",
    "    if total_income >= 269797.40:\n",
    "        return '5. высокий'\n",
    "    \n",
    "data['ti_category'] = data['total_income'].apply(ti_cat)\n",
    "\n",
    "res_totalincome_debt = data.pivot_table(index = 'ti_category', values = 'debt')\n",
    "res_totalincome_debt.style.format(\"{:.2%}\")"
   ]
  },
  {
   "cell_type": "markdown",
   "metadata": {},
   "source": [
    "### Вывод"
   ]
  },
  {
   "cell_type": "markdown",
   "metadata": {},
   "source": [
    "Клиенты банка с высоким уровнем дохода чаще возвращают кредиты в срок, лидерами по не возврату кредита являются клиенты с доходом ниже среднего и среднего. Прямой завичимости от уровня дохода не установлено."
   ]
  },
  {
   "cell_type": "markdown",
   "metadata": {},
   "source": [
    "- Как разные цели кредита влияют на его возврат в срок?"
   ]
  },
  {
   "cell_type": "code",
   "execution_count": 10,
   "metadata": {},
   "outputs": [
    {
     "data": {
      "text/html": [
       "<style  type=\"text/css\" >\n",
       "</style><table id=\"T_9b4a96f6_db3d_11ea_bebe_02420a39abfe\" ><thead>    <tr>        <th class=\"blank level0\" ></th>        <th class=\"col_heading level0 col0\" >debt</th>    </tr>    <tr>        <th class=\"index_name level0\" >purpose_category</th>        <th class=\"blank\" ></th>    </tr></thead><tbody>\n",
       "                <tr>\n",
       "                        <th id=\"T_9b4a96f6_db3d_11ea_bebe_02420a39abfelevel0_row0\" class=\"row_heading level0 row0\" >автомобиль</th>\n",
       "                        <td id=\"T_9b4a96f6_db3d_11ea_bebe_02420a39abferow0_col0\" class=\"data row0 col0\" >9.36%</td>\n",
       "            </tr>\n",
       "            <tr>\n",
       "                        <th id=\"T_9b4a96f6_db3d_11ea_bebe_02420a39abfelevel0_row1\" class=\"row_heading level0 row1\" >недвижимость</th>\n",
       "                        <td id=\"T_9b4a96f6_db3d_11ea_bebe_02420a39abferow1_col0\" class=\"data row1 col0\" >7.23%</td>\n",
       "            </tr>\n",
       "            <tr>\n",
       "                        <th id=\"T_9b4a96f6_db3d_11ea_bebe_02420a39abfelevel0_row2\" class=\"row_heading level0 row2\" >образование</th>\n",
       "                        <td id=\"T_9b4a96f6_db3d_11ea_bebe_02420a39abferow2_col0\" class=\"data row2 col0\" >9.22%</td>\n",
       "            </tr>\n",
       "            <tr>\n",
       "                        <th id=\"T_9b4a96f6_db3d_11ea_bebe_02420a39abfelevel0_row3\" class=\"row_heading level0 row3\" >свадьба</th>\n",
       "                        <td id=\"T_9b4a96f6_db3d_11ea_bebe_02420a39abferow3_col0\" class=\"data row3 col0\" >8.00%</td>\n",
       "            </tr>\n",
       "    </tbody></table>"
      ],
      "text/plain": [
       "<pandas.io.formats.style.Styler at 0x7f931b8ac450>"
      ]
     },
     "execution_count": 10,
     "metadata": {},
     "output_type": "execute_result"
    }
   ],
   "source": [
    "res_purpose_debt = data.pivot_table(index = 'purpose_category', values = 'debt')\n",
    "res_purpose_debt.style.format(\"{:.2%}\")"
   ]
  },
  {
   "cell_type": "markdown",
   "metadata": {},
   "source": [
    "### Вывод"
   ]
  },
  {
   "cell_type": "markdown",
   "metadata": {},
   "source": [
    "Лидерами по невозвратности кредита являются клиенты, которые взяли кредит на автомобиль или образование. Возвратные же цели присущи для жилищных кредитов и взятых для проведения свадьбы. Полагаем, что это связано с риском разбить автомобиль и не закончить образование. Возвратность жилищных кредитов сопровождается наличием мер поддержки - материнский капитал, возврат налогов с покупки жилья и с уплаченных процентов, а возвратность кредитов на свадьбу обусловлена денежными подарками, за счет которых и погашен кредит."
   ]
  },
  {
   "cell_type": "markdown",
   "metadata": {},
   "source": [
    "### Шаг 4. Общий вывод"
   ]
  },
  {
   "cell_type": "markdown",
   "metadata": {},
   "source": [
    "Анализируя различные зависимости от не пришлось выделить прямой от количества детей, семейного положения и уровня дохода. Полагаю, что эти данные необходимы для построения скоринговых моделей надежности заемщика, рассматриваемого как отдельную единицу по совокупности признаков. Что касаемо целей кредитования, выявлено, что цель кредита связана с возвратностью напрямуюв зависимости от дальнейшего возможных поступлений денежных средств, которые могут быть напрвлены на погашение кредита.  "
   ]
  }
 ],
 "metadata": {
  "kernelspec": {
   "display_name": "Python 3",
   "language": "python",
   "name": "python3"
  },
  "language_info": {
   "codemirror_mode": {
    "name": "ipython",
    "version": 3
   },
   "file_extension": ".py",
   "mimetype": "text/x-python",
   "name": "python",
   "nbconvert_exporter": "python",
   "pygments_lexer": "ipython3",
   "version": "3.7.3"
  }
 },
 "nbformat": 4,
 "nbformat_minor": 2
}
