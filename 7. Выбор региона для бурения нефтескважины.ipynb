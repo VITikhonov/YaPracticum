{
 "cells": [
  {
   "cell_type": "markdown",
   "metadata": {},
   "source": [
    "# Выбор региона для бурения нефтескважины"
   ]
  },
  {
   "cell_type": "markdown",
   "metadata": {},
   "source": [
    "# 1. Загрузка и подготовка данных"
   ]
  },
  {
   "cell_type": "code",
   "execution_count": 52,
   "metadata": {},
   "outputs": [
    {
     "name": "stdout",
     "output_type": "stream",
     "text": [
      "      id        f0        f1        f2     product\n",
      "0  txEyH  0.705745 -0.497823  1.221170  105.280062\n",
      "1  2acmU  1.334711 -0.340164  4.365080   73.037750\n",
      "2  409Wp  1.022732  0.151990  1.419926   85.265647\n",
      "3  iJLyR -0.032172  0.139033  2.978566  168.620776\n",
      "4  Xdl7t  1.988431  0.155413  4.751769  154.036647\n",
      "\n",
      "      id         f0         f1        f2     product\n",
      "0  kBEdx -15.001348  -8.276000 -0.005876    3.179103\n",
      "1  62mP7  14.272088  -3.475083  0.999183   26.953261\n",
      "2  vyE1P   6.263187  -5.948386  5.001160  134.766305\n",
      "3  KcrkZ -13.081196 -11.506057  4.999415  137.945408\n",
      "4  AHL4O  12.702195  -8.147433  5.004363  134.766305\n",
      "\n",
      "      id        f0        f1        f2     product\n",
      "0  fwXo0 -1.146987  0.963328 -0.828965   27.758673\n",
      "1  WJtFt  0.262778  0.269839 -2.530187   56.069697\n",
      "2  ovLUW  0.194587  0.289035 -5.586433   62.871910\n",
      "3  q6cA6  2.236060 -0.553760  0.930038  114.572842\n",
      "4  WPMUX -0.515993  1.716266  5.899011  149.600746\n"
     ]
    }
   ],
   "source": [
    "import numpy as np\n",
    "import pandas as pd\n",
    "from scipy import stats\n",
    "from sklearn.model_selection import train_test_split\n",
    "from sklearn.metrics import r2_score, mean_squared_error, mean_absolute_error\n",
    "from sklearn.dummy import DummyClassifier\n",
    "from sklearn.preprocessing import StandardScaler\n",
    "from sklearn.linear_model import LinearRegression\n",
    "from numpy.random import RandomState\n",
    "state = np.random.RandomState(12345)\n",
    "\n",
    "data_0 = pd.read_csv('/datasets/geo_data_0.csv')\n",
    "print(data_0.head(5))\n",
    "print()\n",
    "data_1 = pd.read_csv('/datasets/geo_data_1.csv')\n",
    "print(data_1.head(5))\n",
    "print()\n",
    "data_2 = pd.read_csv('/datasets/geo_data_2.csv')\n",
    "print(data_2.head(5))"
   ]
  },
  {
   "cell_type": "code",
   "execution_count": 53,
   "metadata": {
    "scrolled": true
   },
   "outputs": [
    {
     "name": "stdout",
     "output_type": "stream",
     "text": [
      "<class 'pandas.core.frame.DataFrame'>\n",
      "RangeIndex: 100000 entries, 0 to 99999\n",
      "Data columns (total 5 columns):\n",
      "id         100000 non-null object\n",
      "f0         100000 non-null float64\n",
      "f1         100000 non-null float64\n",
      "f2         100000 non-null float64\n",
      "product    100000 non-null float64\n",
      "dtypes: float64(4), object(1)\n",
      "memory usage: 3.8+ MB\n"
     ]
    }
   ],
   "source": [
    "data_0.info()"
   ]
  },
  {
   "cell_type": "markdown",
   "metadata": {},
   "source": [
    "Для анализа нам даны 3 датасета, содержащие по 100 тыс. записей о месторождениях нефти в регионе. Данные полные, не содержат пропусков. Каждый датасет имеет столбец id, содержащий информацию вещественного типа об идентификаторе месторождения, для построения модели эта информация не потребуется, поэтому во всех трех датасетах удалим этот столбец."
   ]
  },
  {
   "cell_type": "code",
   "execution_count": 54,
   "metadata": {},
   "outputs": [],
   "source": [
    "del data_0['id']\n",
    "del data_1['id']\n",
    "del data_2['id']"
   ]
  },
  {
   "cell_type": "markdown",
   "metadata": {},
   "source": [
    "# 2. Обучение и проверка модели"
   ]
  },
  {
   "cell_type": "markdown",
   "metadata": {},
   "source": [
    "##### Разобьём данные на обучающую и валидационную выборки"
   ]
  },
  {
   "cell_type": "markdown",
   "metadata": {},
   "source": [
    "Разделим исходные данные на на выборки в следующем процентном соотношении:\n",
    "* data_train - обучающая выборка (75%)\n",
    "* data_valid - валидационная аыборка (25%)"
   ]
  },
  {
   "cell_type": "code",
   "execution_count": 55,
   "metadata": {},
   "outputs": [],
   "source": [
    "data_0_train, data_0_valid = train_test_split(data_0, test_size=0.25, random_state=12345)\n",
    "data_1_train, data_1_valid = train_test_split(data_1, test_size=0.25, random_state=12345)\n",
    "data_2_train, data_2_valid = train_test_split(data_2, test_size=0.25, random_state=12345)"
   ]
  },
  {
   "cell_type": "markdown",
   "metadata": {},
   "source": [
    "Сохраним признаки в отдельных переменных по каждому датасету: features - все признаки, кроме целевого признака (объём запасов в месторождении (тыс. баррелей)), target — целевой признак, столбец product."
   ]
  },
  {
   "cell_type": "code",
   "execution_count": 56,
   "metadata": {},
   "outputs": [],
   "source": [
    "features_train_0 = data_0_train.drop(columns=['product'], axis=1)\n",
    "target_train_0 = data_0_train['product']\n",
    "features_train_1 = data_1_train.drop(columns=['product'], axis=1)\n",
    "target_train_1 = data_1_train['product']\n",
    "features_train_2 = data_2_train.drop(columns=['product'], axis=1)\n",
    "target_train_2 = data_2_train['product']\n",
    "\n",
    "features_valid_0 = data_0_valid.drop(columns=['product'], axis=1)\n",
    "target_valid_0 = data_0_valid['product']\n",
    "features_valid_1 = data_1_valid.drop(columns=['product'], axis=1)\n",
    "target_valid_1 = data_1_valid['product']\n",
    "features_valid_2 = data_2_valid.drop(columns=['product'], axis=1)\n",
    "target_valid_2 = data_2_valid['product']"
   ]
  },
  {
   "cell_type": "markdown",
   "metadata": {},
   "source": [
    "##### Обучим модель и сделаем предсказания на валидационной выборке"
   ]
  },
  {
   "cell_type": "code",
   "execution_count": 57,
   "metadata": {},
   "outputs": [],
   "source": [
    "def model_lr(features_train, features_valid, target_train, target_valid):\n",
    "    model = LinearRegression()\n",
    "    model.fit(features_train, target_train)\n",
    "    prediction_valid = model.predict(features_valid)\n",
    "    print('Средний запас сырья:', prediction_valid.mean())\n",
    "    print('RMSE:', mean_squared_error(target_valid, prediction_valid)**0.5)\n",
    "    print('R2:', r2_score(target_valid, prediction_valid))\n",
    "    print('MAE:', mean_absolute_error(target_valid, prediction_valid))\n",
    "    return prediction_valid, target_valid"
   ]
  },
  {
   "cell_type": "code",
   "execution_count": 58,
   "metadata": {},
   "outputs": [
    {
     "name": "stdout",
     "output_type": "stream",
     "text": [
      "Region 0\n",
      "Средний запас сырья: 92.59256778438038\n",
      "RMSE: 37.5794217150813\n",
      "R2: 0.27994321524487786\n",
      "MAE: 30.919600777151313\n"
     ]
    }
   ],
   "source": [
    "print('Region 0')\n",
    "prediction_valid_0, target_valid_0 = model_lr(features_train_0, features_valid_0, target_train_0, target_valid_0)"
   ]
  },
  {
   "cell_type": "code",
   "execution_count": 59,
   "metadata": {},
   "outputs": [
    {
     "name": "stdout",
     "output_type": "stream",
     "text": [
      "Region 1\n",
      "Средний запас сырья: 68.728546895446\n",
      "RMSE: 0.893099286775616\n",
      "R2: 0.9996233978805127\n",
      "MAE: 0.718766244212475\n"
     ]
    }
   ],
   "source": [
    "print('Region 1')\n",
    "prediction_valid_1, target_valid_1 = model_lr(features_train_1, features_valid_1, target_train_1, target_valid_1)"
   ]
  },
  {
   "cell_type": "code",
   "execution_count": 60,
   "metadata": {},
   "outputs": [
    {
     "name": "stdout",
     "output_type": "stream",
     "text": [
      "Region 2\n",
      "Средний запас сырья: 94.96504596800489\n",
      "RMSE: 40.02970873393434\n",
      "R2: 0.20524758386040443\n",
      "MAE: 32.792652105481814\n"
     ]
    }
   ],
   "source": [
    "print('Region 2')\n",
    "prediction_valid_2, target_valid_2 = model_lr(features_train_2, features_valid_2, target_train_2, target_valid_2)"
   ]
  },
  {
   "cell_type": "markdown",
   "metadata": {},
   "source": [
    "Анализируя средний запас на месторождения по регионам можно сказать, что наибольшее значение у Region_2 равное примерно 95 тыс. баррелей на месторождение. Если обращаться к другим метрикам, то смотря на среднеквадратическое отклонение (RMSE) можно отметить, что больший разброс по значению от среднего наблюдается у Region_2 и Region_0 - примено 38-39 тыс. баррелей. Что касаемо Region_1, то там данный показатель на уровне меньше 1 тысячи баррелей, значит, запасы нефти на месторождениях в нем примерно на одном уровне. \n",
    "\n",
    "Рассматривая коэффициент детерминации (R2), который показывает качество предсказаний модели, лучший показатель у Region_1, близкий к единице, это означает, что такая модель предсказывает все ответы идеально. Остальные регионы с метрикой на уровне 0,2-0,27, что говорит о том, что модель предсказывает правильные ответы чуть более лучше, чем средняя."
   ]
  },
  {
   "cell_type": "markdown",
   "metadata": {},
   "source": [
    "# 3. Подготовка к расчёту прибыли"
   ]
  },
  {
   "cell_type": "markdown",
   "metadata": {},
   "source": [
    "##### Посчитаем минимальный средний объём сырья в месторождениях региона, достаточный для его разработки"
   ]
  },
  {
   "cell_type": "markdown",
   "metadata": {},
   "source": [
    "3.1. Сохраните в коде все ключевые значения для расчётов.\n",
    "\n",
    "3.2. Посчитайте минимальный средний объём сырья в месторождениях региона, достаточный для его разработки. Напишите выводы.\n",
    "\n",
    "3.3. Напишите функцию для расчёта прибыли по набору отобранных месторождений и предсказаний модели."
   ]
  },
  {
   "cell_type": "code",
   "execution_count": 61,
   "metadata": {},
   "outputs": [
    {
     "name": "stdout",
     "output_type": "stream",
     "text": [
      "Количество скважин в рамках бюджета: 200.0\n",
      "Минимальное количество баррелей для нулевой рентабельности: 11.11111111111111\n"
     ]
    }
   ],
   "source": [
    "BUDGET = 10000000000\n",
    "BUDGET_FOR_ONE_WELL = 50000000\n",
    "ONE_BARREL_VALUE = 4500\n",
    "\n",
    "q_well = BUDGET / BUDGET_FOR_ONE_WELL\n",
    "q_barrel = (BUDGET_FOR_ONE_WELL / ONE_BARREL_VALUE) / 1000\n",
    "\n",
    "print('Количество скважин в рамках бюджета:', q_well)\n",
    "print('Минимальное количество баррелей для нулевой рентабельности:', q_barrel)"
   ]
  },
  {
   "cell_type": "markdown",
   "metadata": {},
   "source": [
    "Имеющихся денежных ресурсов компании хватит на бурение 200 скважин. Если оценивать сколько необходимо добыть баррелей нефти для того, чтобы операционная прибыль по скважине была равной нулю, то это значение равно примерно 11,1 тыс. баррелей при цене 4500 рублей за баррель. Нам видится, что данное значение достижимо в среднем для всех регионов (среднее запасов в разы больше 11 тыс. баррелей)"
   ]
  },
  {
   "cell_type": "markdown",
   "metadata": {},
   "source": [
    "##### Создадим функцию для расчёта прибыли по набору отобранных месторождений и предсказаний модели"
   ]
  },
  {
   "cell_type": "code",
   "execution_count": 62,
   "metadata": {},
   "outputs": [],
   "source": [
    "def revenue(target_subsample, probs_subsample, count):\n",
    "    prediction = probs_subsample.sort_values(ascending = False).head(count)\n",
    "    selected = target_subsample[prediction.index] * 1000 * ONE_BARREL_VALUE\n",
    "    return selected.sum() - (BUDGET_FOR_ONE_WELL * count)"
   ]
  },
  {
   "cell_type": "markdown",
   "metadata": {},
   "source": [
    "# 4. Расчёт прибыли и рисков "
   ]
  },
  {
   "cell_type": "markdown",
   "metadata": {},
   "source": [
    "##### Применим технику Bootstrap, чтобы найти распределение прибыли"
   ]
  },
  {
   "cell_type": "code",
   "execution_count": 63,
   "metadata": {},
   "outputs": [],
   "source": [
    "def bootstrap (target_valid, prediction_valid):\n",
    "    \n",
    "    values = []\n",
    "\n",
    "    for i in range(1000):\n",
    "        target_valid = pd.Series(target_valid)\n",
    "        prediction_valid = pd.Series(prediction_valid)\n",
    "        target_subsample = target_valid.sample(n=500, replace=True, random_state=state)\n",
    "        prediction_subsample = prediction_valid[target_subsample.index]\n",
    "        values.append(revenue(target_subsample, prediction_subsample, 200))\n",
    "\n",
    "    values = pd.Series(values)    \n",
    "    lower = values.quantile(0.025)\n",
    "    upper = values.quantile(0.975)\n",
    "    revenue_mean = values.mean()\n",
    "    values = values.sort_values(ascending = False).head(200)\n",
    "\n",
    "    print('Средняя выручка:', revenue_mean)\n",
    "    print('2.5%-квантиль:', lower)\n",
    "    print('97.5%-квантиль:', upper)\n",
    "    return  lower, upper, revenue_mean, values"
   ]
  },
  {
   "cell_type": "markdown",
   "metadata": {},
   "source": [
    "##### Найдем среднюю прибыль, 95%-й доверительный интервал для каждого региона, а также оценим риски убытков"
   ]
  },
  {
   "cell_type": "code",
   "execution_count": 64,
   "metadata": {},
   "outputs": [
    {
     "name": "stderr",
     "output_type": "stream",
     "text": [
      "/opt/conda/lib/python3.7/site-packages/pandas/core/series.py:1143: FutureWarning: \n",
      "Passing list-likes to .loc or [] with any missing label will raise\n",
      "KeyError in the future, you can use .reindex() as an alternative.\n",
      "\n",
      "See the documentation here:\n",
      "https://pandas.pydata.org/pandas-docs/stable/user_guide/indexing.html#deprecate-loc-reindex-listlike\n",
      "  return self.loc[key]\n"
     ]
    },
    {
     "name": "stdout",
     "output_type": "stream",
     "text": [
      "Средняя выручка: 74428833535.76396\n",
      "2.5%-квантиль: 67929222865.43791\n",
      "97.5%-квантиль: 80494545871.98251\n",
      "Риск убыточности: 0.0\n"
     ]
    }
   ],
   "source": [
    "lower_0, upper_0, revenue_mean_0, values_0 = bootstrap(target_valid_0, prediction_valid_0)\n",
    "print (\"Риск убыточности:\", stats.percentileofscore(values_0, 0))"
   ]
  },
  {
   "cell_type": "code",
   "execution_count": 65,
   "metadata": {},
   "outputs": [
    {
     "name": "stdout",
     "output_type": "stream",
     "text": [
      "Средняя выручка: 53109372601.8785\n",
      "2.5%-квантиль: 47099633430.93045\n",
      "97.5%-квантиль: 59340296245.5019\n",
      "Риск убыточности: 0.0\n"
     ]
    }
   ],
   "source": [
    "lower_1, upper_1, revenue_mean_1, values_1 = bootstrap(target_valid_1, prediction_valid_1)\n",
    "print (\"Риск убыточности:\", stats.percentileofscore(values_1, 0))"
   ]
  },
  {
   "cell_type": "code",
   "execution_count": 66,
   "metadata": {},
   "outputs": [
    {
     "name": "stdout",
     "output_type": "stream",
     "text": [
      "Средняя выручка: 76860166312.80507\n",
      "2.5%-квантиль: 70637189055.62447\n",
      "97.5%-квантиль: 83166998307.12842\n",
      "Риск убыточности: 0.0\n"
     ]
    }
   ],
   "source": [
    "lower_2, upper_2, revenue_mean_2, values_2 = bootstrap(target_valid_2, prediction_valid_2)\n",
    "print (\"Риск убыточности:\", stats.percentileofscore(values_2, 0))"
   ]
  },
  {
   "cell_type": "markdown",
   "metadata": {},
   "source": [
    "##### Вывод"
   ]
  },
  {
   "cell_type": "markdown",
   "metadata": {},
   "source": [
    "Проанализировав запасы нефти на месторождениях в трех регионах можно отметить следующее. При оценке средних объемов добычи и среднеквадратического отклонения решили, что наиболее лучшие показатели у Region_0 и Region_2. Средние запасы более 90 тыс баррелей на одно месторождение и примерно одинаковое среднеквадратическое отклонение (большое, но примерно одинаковое). Для того, чтобы понять какую модель необходимо рекомендовать провели бутстреп-анализ. Средняя прибыль выше в третьем анализируемом регионе Region_2 с доверительным интревалом от 77,1 до 83,4 млрд рублей с одного региона по 200 самым лучшим месторождениям. Рассичтанный риск безубыточности нулевой у всех трех регионов, поэтому выбор останавливаем на Region_2."
   ]
  }
 ],
 "metadata": {
  "kernelspec": {
   "display_name": "Python 3",
   "language": "python",
   "name": "python3"
  },
  "language_info": {
   "codemirror_mode": {
    "name": "ipython",
    "version": 3
   },
   "file_extension": ".py",
   "mimetype": "text/x-python",
   "name": "python",
   "nbconvert_exporter": "python",
   "pygments_lexer": "ipython3",
   "version": "3.7.3"
  }
 },
 "nbformat": 4,
 "nbformat_minor": 2
}
