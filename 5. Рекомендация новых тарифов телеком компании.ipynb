{
 "cells": [
  {
   "cell_type": "markdown",
   "metadata": {},
   "source": [
    "# Рекомендация новых тарифов телеком компании"
   ]
  },
  {
   "cell_type": "markdown",
   "metadata": {},
   "source": [
    "## 1. Откройте и изучите файл"
   ]
  },
  {
   "cell_type": "code",
   "execution_count": 72,
   "metadata": {},
   "outputs": [],
   "source": [
    "import numpy as np\n",
    "import pandas as pd\n",
    "from sklearn.model_selection import train_test_split\n",
    "from sklearn.tree import DecisionTreeClassifier\n",
    "from sklearn.ensemble import RandomForestClassifier\n",
    "from sklearn.metrics import accuracy_score\n",
    "from sklearn.dummy import DummyClassifier"
   ]
  },
  {
   "cell_type": "code",
   "execution_count": 73,
   "metadata": {},
   "outputs": [
    {
     "name": "stdout",
     "output_type": "stream",
     "text": [
      "<class 'pandas.core.frame.DataFrame'>\n",
      "RangeIndex: 3214 entries, 0 to 3213\n",
      "Data columns (total 5 columns):\n",
      "calls       3214 non-null float64\n",
      "minutes     3214 non-null float64\n",
      "messages    3214 non-null float64\n",
      "mb_used     3214 non-null float64\n",
      "is_ultra    3214 non-null int64\n",
      "dtypes: float64(4), int64(1)\n",
      "memory usage: 125.7 KB\n"
     ]
    },
    {
     "data": {
      "text/html": [
       "<div>\n",
       "<style scoped>\n",
       "    .dataframe tbody tr th:only-of-type {\n",
       "        vertical-align: middle;\n",
       "    }\n",
       "\n",
       "    .dataframe tbody tr th {\n",
       "        vertical-align: top;\n",
       "    }\n",
       "\n",
       "    .dataframe thead th {\n",
       "        text-align: right;\n",
       "    }\n",
       "</style>\n",
       "<table border=\"1\" class=\"dataframe\">\n",
       "  <thead>\n",
       "    <tr style=\"text-align: right;\">\n",
       "      <th></th>\n",
       "      <th>calls</th>\n",
       "      <th>minutes</th>\n",
       "      <th>messages</th>\n",
       "      <th>mb_used</th>\n",
       "      <th>is_ultra</th>\n",
       "    </tr>\n",
       "  </thead>\n",
       "  <tbody>\n",
       "    <tr>\n",
       "      <td>0</td>\n",
       "      <td>40.0</td>\n",
       "      <td>311.90</td>\n",
       "      <td>83.0</td>\n",
       "      <td>19915.42</td>\n",
       "      <td>0</td>\n",
       "    </tr>\n",
       "    <tr>\n",
       "      <td>1</td>\n",
       "      <td>85.0</td>\n",
       "      <td>516.75</td>\n",
       "      <td>56.0</td>\n",
       "      <td>22696.96</td>\n",
       "      <td>0</td>\n",
       "    </tr>\n",
       "    <tr>\n",
       "      <td>2</td>\n",
       "      <td>77.0</td>\n",
       "      <td>467.66</td>\n",
       "      <td>86.0</td>\n",
       "      <td>21060.45</td>\n",
       "      <td>0</td>\n",
       "    </tr>\n",
       "    <tr>\n",
       "      <td>3</td>\n",
       "      <td>106.0</td>\n",
       "      <td>745.53</td>\n",
       "      <td>81.0</td>\n",
       "      <td>8437.39</td>\n",
       "      <td>1</td>\n",
       "    </tr>\n",
       "    <tr>\n",
       "      <td>4</td>\n",
       "      <td>66.0</td>\n",
       "      <td>418.74</td>\n",
       "      <td>1.0</td>\n",
       "      <td>14502.75</td>\n",
       "      <td>0</td>\n",
       "    </tr>\n",
       "    <tr>\n",
       "      <td>5</td>\n",
       "      <td>58.0</td>\n",
       "      <td>344.56</td>\n",
       "      <td>21.0</td>\n",
       "      <td>15823.37</td>\n",
       "      <td>0</td>\n",
       "    </tr>\n",
       "    <tr>\n",
       "      <td>6</td>\n",
       "      <td>57.0</td>\n",
       "      <td>431.64</td>\n",
       "      <td>20.0</td>\n",
       "      <td>3738.90</td>\n",
       "      <td>1</td>\n",
       "    </tr>\n",
       "  </tbody>\n",
       "</table>\n",
       "</div>"
      ],
      "text/plain": [
       "   calls  minutes  messages   mb_used  is_ultra\n",
       "0   40.0   311.90      83.0  19915.42         0\n",
       "1   85.0   516.75      56.0  22696.96         0\n",
       "2   77.0   467.66      86.0  21060.45         0\n",
       "3  106.0   745.53      81.0   8437.39         1\n",
       "4   66.0   418.74       1.0  14502.75         0\n",
       "5   58.0   344.56      21.0  15823.37         0\n",
       "6   57.0   431.64      20.0   3738.90         1"
      ]
     },
     "execution_count": 73,
     "metadata": {},
     "output_type": "execute_result"
    }
   ],
   "source": [
    "data = pd.read_csv('/datasets/users_behavior.csv')\n",
    "data.info()\n",
    "data.head(7)"
   ]
  },
  {
   "cell_type": "markdown",
   "metadata": {},
   "source": [
    "Датасет содержит информацию о разходовании клиентом пакетов двух тарифных планов. Фрейм занимает 3214 строк информации. Для построения модели классификации, которая будет подбирать подходящий тариф выберем столбец шв_гдекф в качестве целевого признака, а все остальные столбцы с данными будем использованть в качестве признака. Датасет не содержит пропусков, все данные заполнены имеют необходимый тип."
   ]
  },
  {
   "cell_type": "markdown",
   "metadata": {},
   "source": [
    "## 2. Разбейте данные на выборки"
   ]
  },
  {
   "cell_type": "markdown",
   "metadata": {},
   "source": [
    "Разделим исходные данные на на выборки в следующем процентном соотношении:\n",
    "* data_train - обучающая выборка (60%)\n",
    "* data_test - тестовая выборка (20%)\n",
    "* data_valid - валидационная аыборка (20%)\n",
    "\n",
    "Использовали модель для деления 3:1:1 так как, помимо валидационной выборки выделяли так же тестовую выборку для дальнейшего тестирования поведения модели."
   ]
  },
  {
   "cell_type": "code",
   "execution_count": 74,
   "metadata": {},
   "outputs": [],
   "source": [
    "data_train, data_test_valid = train_test_split(data, test_size=0.4, random_state=12345)\n",
    "data_test, data_valid = train_test_split(data_test_valid, test_size=0.5, random_state=12345)"
   ]
  },
  {
   "cell_type": "markdown",
   "metadata": {},
   "source": [
    "## 3. Исследуйте модели"
   ]
  },
  {
   "cell_type": "markdown",
   "metadata": {},
   "source": [
    "Сохраненим признаки в отдельных переменных. features - все признаки, кроме целевого признака (название тарифа), target — целевой признак, столбец is_ultra (где 1 - Ультра-тариф, 0 - Смарт)."
   ]
  },
  {
   "cell_type": "code",
   "execution_count": 75,
   "metadata": {},
   "outputs": [],
   "source": [
    "features_train = data_train.drop(columns=['is_ultra'], axis=1)\n",
    "target_train = data_train['is_ultra']\n",
    "\n",
    "features_valid = data_valid.drop(columns=['is_ultra'], axis=1)\n",
    "target_valid = data_valid['is_ultra']\n",
    "\n",
    "features_test = data_test.drop(columns=['is_ultra'], axis=1)\n",
    "target_test = data_test['is_ultra']"
   ]
  },
  {
   "cell_type": "markdown",
   "metadata": {},
   "source": [
    "Построим модель дерева решений. И найдем качество этой модели (accuracy)."
   ]
  },
  {
   "cell_type": "code",
   "execution_count": 76,
   "metadata": {},
   "outputs": [
    {
     "name": "stdout",
     "output_type": "stream",
     "text": [
      "Валидационная выборка: 0.7309486780715396\n"
     ]
    }
   ],
   "source": [
    "model = DecisionTreeClassifier(random_state=12345)\n",
    "model.fit(features_train, target_train)\n",
    "\n",
    "valid_predictions = model.predict(features_valid)\n",
    "valid_accuracy = accuracy_score(target_valid, valid_predictions)\n",
    "\n",
    "print(\"Валидационная выборка:\", valid_accuracy)"
   ]
  },
  {
   "cell_type": "markdown",
   "metadata": {},
   "source": [
    "Проверка качества модели на валидационной модели дало результат примерно 0,73, что, в принципе соответствует желаемому. Попробуем подобрать такие гиперпараметры модели, чтобы значение accuracy было выше 0,75. Для этого проанализируем как меняется accuracy при изменении максимальной глубины дерева."
   ]
  },
  {
   "cell_type": "code",
   "execution_count": 77,
   "metadata": {},
   "outputs": [
    {
     "name": "stdout",
     "output_type": "stream",
     "text": [
      "max_depth = 1 accuracy = 0.7356143079315708\n",
      "max_depth = 2 accuracy = 0.7744945567651633\n",
      "max_depth = 3 accuracy = 0.7791601866251944\n",
      "max_depth = 4 accuracy = 0.7744945567651633\n",
      "max_depth = 5 accuracy = 0.7838258164852255\n",
      "max_depth = 6 accuracy = 0.776049766718507\n",
      "max_depth = 7 accuracy = 0.7993779160186625\n",
      "max_depth = 8 accuracy = 0.7931570762052877\n"
     ]
    }
   ],
   "source": [
    "for depth in range(1, 9):\n",
    "    model = DecisionTreeClassifier(max_depth = depth, random_state=12345)\n",
    "    model.fit(features_train, target_train)\n",
    "    valid_predictions = model.predict(features_valid)\n",
    "    valid_accuracy = accuracy_score(target_valid, valid_predictions)\n",
    "    print(\"max_depth =\", depth, \"accuracy =\", valid_accuracy)"
   ]
  },
  {
   "cell_type": "markdown",
   "metadata": {},
   "source": [
    "Из результатов видим, что наилучшее accuracy тогда, когда глубина модели равнна 7, используем это значение, когда будем проверять работу модели на тестовой выборке."
   ]
  },
  {
   "cell_type": "markdown",
   "metadata": {},
   "source": [
    "Построим модель Случайного леса. Так же посмотрим значения качества accuracy."
   ]
  },
  {
   "cell_type": "code",
   "execution_count": 78,
   "metadata": {},
   "outputs": [
    {
     "name": "stdout",
     "output_type": "stream",
     "text": [
      "Обучающая выборка: 0.9507261410788381\n",
      "Валидационная выборка: 0.7573872472783826\n"
     ]
    }
   ],
   "source": [
    "model = RandomForestClassifier(random_state=12345, n_estimators=3)\n",
    "model.fit(features_train, target_train)\n",
    "\n",
    "train_predictions = model.predict(features_train)\n",
    "train_accuracy = accuracy_score(target_train, train_predictions)\n",
    "\n",
    "valid_predictions = model.predict(features_valid)\n",
    "valid_accuracy = accuracy_score(target_valid, valid_predictions)\n",
    "\n",
    "print(\"Обучающая выборка:\", train_accuracy)\n",
    "print(\"Валидационная выборка:\", valid_accuracy)"
   ]
  },
  {
   "cell_type": "markdown",
   "metadata": {},
   "source": [
    "Проверка качества модели на валидационной модели дало результат примерно 0,75, что, в принципе соответствует желаемому. Гиперпараметром в данном случае является n_estimators (количество деревьев в лесу), обучали, указав его равным трем. Попробуем посмотреть другие значения данного гиперпараметра, чтобы увеличить значение accuracy."
   ]
  },
  {
   "cell_type": "code",
   "execution_count": 79,
   "metadata": {},
   "outputs": [
    {
     "name": "stdout",
     "output_type": "stream",
     "text": [
      "n_estimators = 10 max_depth = 1 random_state = 12345 accuracy = 0.7402799377916018\n",
      "n_estimators = 10 max_depth = 1 random_state = 24690 accuracy = 0.749611197511664\n",
      "n_estimators = 10 max_depth = 1 random_state = 37035 accuracy = 0.7356143079315708\n",
      "n_estimators = 10 max_depth = 3 random_state = 12345 accuracy = 0.776049766718507\n",
      "n_estimators = 10 max_depth = 3 random_state = 24690 accuracy = 0.7791601866251944\n",
      "n_estimators = 10 max_depth = 3 random_state = 37035 accuracy = 0.7776049766718507\n",
      "n_estimators = 10 max_depth = 5 random_state = 12345 accuracy = 0.7900466562986003\n",
      "n_estimators = 10 max_depth = 5 random_state = 24690 accuracy = 0.7978227060653188\n",
      "n_estimators = 10 max_depth = 5 random_state = 37035 accuracy = 0.7900466562986003\n",
      "n_estimators = 10 max_depth = 7 random_state = 12345 accuracy = 0.8009331259720062\n",
      "n_estimators = 10 max_depth = 7 random_state = 24690 accuracy = 0.8040435458786936\n",
      "n_estimators = 10 max_depth = 7 random_state = 37035 accuracy = 0.7993779160186625\n",
      "n_estimators = 10 max_depth = 9 random_state = 12345 accuracy = 0.8133748055987559\n",
      "n_estimators = 10 max_depth = 9 random_state = 24690 accuracy = 0.7993779160186625\n",
      "n_estimators = 10 max_depth = 9 random_state = 37035 accuracy = 0.7962674961119751\n",
      "n_estimators = 10 max_depth = 11 random_state = 12345 accuracy = 0.7916018662519441\n",
      "n_estimators = 10 max_depth = 11 random_state = 24690 accuracy = 0.7962674961119751\n",
      "n_estimators = 10 max_depth = 11 random_state = 37035 accuracy = 0.7853810264385692\n",
      "n_estimators = 10 max_depth = 13 random_state = 12345 accuracy = 0.7993779160186625\n",
      "n_estimators = 10 max_depth = 13 random_state = 24690 accuracy = 0.7931570762052877\n",
      "n_estimators = 10 max_depth = 13 random_state = 37035 accuracy = 0.7916018662519441\n",
      "n_estimators = 10 max_depth = 15 random_state = 12345 accuracy = 0.7962674961119751\n",
      "n_estimators = 10 max_depth = 15 random_state = 24690 accuracy = 0.7884914463452566\n",
      "n_estimators = 10 max_depth = 15 random_state = 37035 accuracy = 0.7884914463452566\n",
      "n_estimators = 30 max_depth = 1 random_state = 12345 accuracy = 0.7527216174183515\n",
      "n_estimators = 30 max_depth = 1 random_state = 24690 accuracy = 0.7418351477449455\n",
      "n_estimators = 30 max_depth = 1 random_state = 37035 accuracy = 0.7356143079315708\n",
      "n_estimators = 30 max_depth = 3 random_state = 12345 accuracy = 0.7807153965785381\n",
      "n_estimators = 30 max_depth = 3 random_state = 24690 accuracy = 0.776049766718507\n",
      "n_estimators = 30 max_depth = 3 random_state = 37035 accuracy = 0.7776049766718507\n",
      "n_estimators = 30 max_depth = 5 random_state = 12345 accuracy = 0.7869362363919129\n",
      "n_estimators = 30 max_depth = 5 random_state = 24690 accuracy = 0.7931570762052877\n",
      "n_estimators = 30 max_depth = 5 random_state = 37035 accuracy = 0.7916018662519441\n",
      "n_estimators = 30 max_depth = 7 random_state = 12345 accuracy = 0.8040435458786936\n",
      "n_estimators = 30 max_depth = 7 random_state = 24690 accuracy = 0.8009331259720062\n",
      "n_estimators = 30 max_depth = 7 random_state = 37035 accuracy = 0.7947122861586314\n",
      "n_estimators = 30 max_depth = 9 random_state = 12345 accuracy = 0.8055987558320373\n",
      "n_estimators = 30 max_depth = 9 random_state = 24690 accuracy = 0.8009331259720062\n",
      "n_estimators = 30 max_depth = 9 random_state = 37035 accuracy = 0.8055987558320373\n",
      "n_estimators = 30 max_depth = 11 random_state = 12345 accuracy = 0.8040435458786936\n",
      "n_estimators = 30 max_depth = 11 random_state = 24690 accuracy = 0.7978227060653188\n",
      "n_estimators = 30 max_depth = 11 random_state = 37035 accuracy = 0.8009331259720062\n",
      "n_estimators = 30 max_depth = 13 random_state = 12345 accuracy = 0.7900466562986003\n",
      "n_estimators = 30 max_depth = 13 random_state = 24690 accuracy = 0.8009331259720062\n",
      "n_estimators = 30 max_depth = 13 random_state = 37035 accuracy = 0.8009331259720062\n",
      "n_estimators = 30 max_depth = 15 random_state = 12345 accuracy = 0.7916018662519441\n",
      "n_estimators = 30 max_depth = 15 random_state = 24690 accuracy = 0.7916018662519441\n",
      "n_estimators = 30 max_depth = 15 random_state = 37035 accuracy = 0.7916018662519441\n",
      "n_estimators = 50 max_depth = 1 random_state = 12345 accuracy = 0.744945567651633\n",
      "n_estimators = 50 max_depth = 1 random_state = 24690 accuracy = 0.7682737169517885\n",
      "n_estimators = 50 max_depth = 1 random_state = 37035 accuracy = 0.7356143079315708\n",
      "n_estimators = 50 max_depth = 3 random_state = 12345 accuracy = 0.7776049766718507\n",
      "n_estimators = 50 max_depth = 3 random_state = 24690 accuracy = 0.7776049766718507\n",
      "n_estimators = 50 max_depth = 3 random_state = 37035 accuracy = 0.7791601866251944\n",
      "n_estimators = 50 max_depth = 5 random_state = 12345 accuracy = 0.7853810264385692\n",
      "n_estimators = 50 max_depth = 5 random_state = 24690 accuracy = 0.7900466562986003\n",
      "n_estimators = 50 max_depth = 5 random_state = 37035 accuracy = 0.7900466562986003\n",
      "n_estimators = 50 max_depth = 7 random_state = 12345 accuracy = 0.80248833592535\n",
      "n_estimators = 50 max_depth = 7 random_state = 24690 accuracy = 0.7993779160186625\n",
      "n_estimators = 50 max_depth = 7 random_state = 37035 accuracy = 0.8009331259720062\n",
      "n_estimators = 50 max_depth = 9 random_state = 12345 accuracy = 0.80248833592535\n",
      "n_estimators = 50 max_depth = 9 random_state = 24690 accuracy = 0.8040435458786936\n",
      "n_estimators = 50 max_depth = 9 random_state = 37035 accuracy = 0.80248833592535\n",
      "n_estimators = 50 max_depth = 11 random_state = 12345 accuracy = 0.7993779160186625\n",
      "n_estimators = 50 max_depth = 11 random_state = 24690 accuracy = 0.8040435458786936\n",
      "n_estimators = 50 max_depth = 11 random_state = 37035 accuracy = 0.8040435458786936\n",
      "n_estimators = 50 max_depth = 13 random_state = 12345 accuracy = 0.7962674961119751\n",
      "n_estimators = 50 max_depth = 13 random_state = 24690 accuracy = 0.80248833592535\n",
      "n_estimators = 50 max_depth = 13 random_state = 37035 accuracy = 0.80248833592535\n",
      "n_estimators = 50 max_depth = 15 random_state = 12345 accuracy = 0.7993779160186625\n",
      "n_estimators = 50 max_depth = 15 random_state = 24690 accuracy = 0.7993779160186625\n",
      "n_estimators = 50 max_depth = 15 random_state = 37035 accuracy = 0.7947122861586314\n",
      "n_estimators = 70 max_depth = 1 random_state = 12345 accuracy = 0.744945567651633\n",
      "n_estimators = 70 max_depth = 1 random_state = 24690 accuracy = 0.7636080870917574\n",
      "n_estimators = 70 max_depth = 1 random_state = 37035 accuracy = 0.7465007776049767\n",
      "n_estimators = 70 max_depth = 3 random_state = 12345 accuracy = 0.7791601866251944\n",
      "n_estimators = 70 max_depth = 3 random_state = 24690 accuracy = 0.7776049766718507\n",
      "n_estimators = 70 max_depth = 3 random_state = 37035 accuracy = 0.7807153965785381\n",
      "n_estimators = 70 max_depth = 5 random_state = 12345 accuracy = 0.7931570762052877\n",
      "n_estimators = 70 max_depth = 5 random_state = 24690 accuracy = 0.7962674961119751\n",
      "n_estimators = 70 max_depth = 5 random_state = 37035 accuracy = 0.7884914463452566\n",
      "n_estimators = 70 max_depth = 7 random_state = 12345 accuracy = 0.80248833592535\n",
      "n_estimators = 70 max_depth = 7 random_state = 24690 accuracy = 0.7978227060653188\n",
      "n_estimators = 70 max_depth = 7 random_state = 37035 accuracy = 0.7993779160186625\n",
      "n_estimators = 70 max_depth = 9 random_state = 12345 accuracy = 0.807153965785381\n",
      "n_estimators = 70 max_depth = 9 random_state = 24690 accuracy = 0.7962674961119751\n",
      "n_estimators = 70 max_depth = 9 random_state = 37035 accuracy = 0.8009331259720062\n",
      "n_estimators = 70 max_depth = 11 random_state = 12345 accuracy = 0.7978227060653188\n",
      "n_estimators = 70 max_depth = 11 random_state = 24690 accuracy = 0.8055987558320373\n",
      "n_estimators = 70 max_depth = 11 random_state = 37035 accuracy = 0.8040435458786936\n",
      "n_estimators = 70 max_depth = 13 random_state = 12345 accuracy = 0.7916018662519441\n",
      "n_estimators = 70 max_depth = 13 random_state = 24690 accuracy = 0.8040435458786936\n",
      "n_estimators = 70 max_depth = 13 random_state = 37035 accuracy = 0.8009331259720062\n",
      "n_estimators = 70 max_depth = 15 random_state = 12345 accuracy = 0.7931570762052877\n",
      "n_estimators = 70 max_depth = 15 random_state = 24690 accuracy = 0.7993779160186625\n",
      "n_estimators = 70 max_depth = 15 random_state = 37035 accuracy = 0.7993779160186625\n",
      "n_estimators = 90 max_depth = 1 random_state = 12345 accuracy = 0.7511664074650077\n",
      "n_estimators = 90 max_depth = 1 random_state = 24690 accuracy = 0.7387247278382582\n",
      "n_estimators = 90 max_depth = 1 random_state = 37035 accuracy = 0.7682737169517885\n",
      "n_estimators = 90 max_depth = 3 random_state = 12345 accuracy = 0.7791601866251944\n",
      "n_estimators = 90 max_depth = 3 random_state = 24690 accuracy = 0.7776049766718507\n",
      "n_estimators = 90 max_depth = 3 random_state = 37035 accuracy = 0.7807153965785381\n",
      "n_estimators = 90 max_depth = 5 random_state = 12345 accuracy = 0.7900466562986003\n",
      "n_estimators = 90 max_depth = 5 random_state = 24690 accuracy = 0.7947122861586314\n",
      "n_estimators = 90 max_depth = 5 random_state = 37035 accuracy = 0.7884914463452566\n",
      "n_estimators = 90 max_depth = 7 random_state = 12345 accuracy = 0.80248833592535\n",
      "n_estimators = 90 max_depth = 7 random_state = 24690 accuracy = 0.7978227060653188\n",
      "n_estimators = 90 max_depth = 7 random_state = 37035 accuracy = 0.8009331259720062\n",
      "n_estimators = 90 max_depth = 9 random_state = 12345 accuracy = 0.7993779160186625\n",
      "n_estimators = 90 max_depth = 9 random_state = 24690 accuracy = 0.8009331259720062\n",
      "n_estimators = 90 max_depth = 9 random_state = 37035 accuracy = 0.8040435458786936\n",
      "n_estimators = 90 max_depth = 11 random_state = 12345 accuracy = 0.80248833592535\n",
      "n_estimators = 90 max_depth = 11 random_state = 24690 accuracy = 0.80248833592535\n",
      "n_estimators = 90 max_depth = 11 random_state = 37035 accuracy = 0.8040435458786936\n",
      "n_estimators = 90 max_depth = 13 random_state = 12345 accuracy = 0.7931570762052877\n",
      "n_estimators = 90 max_depth = 13 random_state = 24690 accuracy = 0.8009331259720062\n",
      "n_estimators = 90 max_depth = 13 random_state = 37035 accuracy = 0.8009331259720062\n",
      "n_estimators = 90 max_depth = 15 random_state = 12345 accuracy = 0.7978227060653188\n",
      "n_estimators = 90 max_depth = 15 random_state = 24690 accuracy = 0.7947122861586314\n",
      "n_estimators = 90 max_depth = 15 random_state = 37035 accuracy = 0.7962674961119751\n"
     ]
    }
   ],
   "source": [
    "for estimator in range(10, 100, 20):\n",
    "    for depth in range(1, 16, 2):\n",
    "        for state in range(12345, 37036, 12345):\n",
    "            model = RandomForestClassifier(n_estimators=estimator, max_depth=depth, random_state=state)\n",
    "            model.fit(features_train, target_train)\n",
    "            valid_predictions = model.predict(features_valid)\n",
    "            valid_accuracy = accuracy_score(target_valid, valid_predictions)\n",
    "            print(\"n_estimators =\", estimator, \"max_depth =\", depth, \"random_state =\", state, \"accuracy =\", valid_accuracy)"
   ]
  },
  {
   "cell_type": "markdown",
   "metadata": {},
   "source": [
    "Из результатов подбора видим, что наилучшее accuracy тогда, когда:\n",
    "\n",
    "n_estimators = 10 max_depth = 9 random_state = 12345 accuracy = 0.8133748055987559\n",
    "\n",
    "Используем эти значения гиперпараметров, когда будем проверять работу модели на тестовой выборке."
   ]
  },
  {
   "cell_type": "markdown",
   "metadata": {},
   "source": [
    "## 4. Проверьте модель на тестовой выборке"
   ]
  },
  {
   "cell_type": "markdown",
   "metadata": {},
   "source": [
    "Проверим модель Дерево решений на тестовой выборке, найдем значение качества accuracy."
   ]
  },
  {
   "cell_type": "code",
   "execution_count": 80,
   "metadata": {},
   "outputs": [
    {
     "name": "stdout",
     "output_type": "stream",
     "text": [
      "Обучающая выборка: 0.8558091286307054\n",
      "Тестовая выборка: 0.7822706065318819\n"
     ]
    }
   ],
   "source": [
    "model = DecisionTreeClassifier(random_state=12345, max_depth = 7)\n",
    "model.fit(features_train, target_train)\n",
    "\n",
    "train_predictions = model.predict(features_train)\n",
    "train_accuracy = accuracy_score(target_train, train_predictions)\n",
    "\n",
    "test_predictions = model.predict(features_test)\n",
    "test_accuracy = accuracy_score(target_test, test_predictions)\n",
    "\n",
    "print(\"Обучающая выборка:\", train_accuracy)\n",
    "print(\"Тестовая выборка:\", test_accuracy)"
   ]
  },
  {
   "cell_type": "markdown",
   "metadata": {},
   "source": [
    "Модель хорошо показала себя при проверке на тестовой выборке. Значение accuracy равно примерно 0,78, что удовлетворяет условиям задачи."
   ]
  },
  {
   "cell_type": "markdown",
   "metadata": {},
   "source": [
    "Проверим модель Случайный лес на тестовой выборке, так же найдем значение качества модели (accuracy)."
   ]
  },
  {
   "cell_type": "code",
   "execution_count": 81,
   "metadata": {},
   "outputs": [
    {
     "name": "stdout",
     "output_type": "stream",
     "text": [
      "Обучающая выборка: 0.8729253112033195\n",
      "Тестовая выборка: 0.7962674961119751\n"
     ]
    }
   ],
   "source": [
    "model = RandomForestClassifier(n_estimators = 10, max_depth = 9, random_state = 12345)\n",
    "model.fit(features_train, target_train)\n",
    "\n",
    "train_predictions = model.predict(features_train)\n",
    "train_accuracy = accuracy_score(target_train, train_predictions)\n",
    "\n",
    "test_predictions = model.predict(features_test)\n",
    "test_accuracy = accuracy_score(target_test, test_predictions)\n",
    "\n",
    "print(\"Обучающая выборка:\", train_accuracy)\n",
    "print(\"Тестовая выборка:\", valid_accuracy)"
   ]
  },
  {
   "cell_type": "markdown",
   "metadata": {},
   "source": [
    "Модель хорошо показала себя при обучении на данных тестовой выборке. Значение accuracy равно примерно 0,78, что удовлетворяет условиям задачи."
   ]
  },
  {
   "cell_type": "markdown",
   "metadata": {},
   "source": [
    "После изменения гиперпараметров, на которых обучаем модель, ее качество улучшилось до, примерно, 0,8."
   ]
  },
  {
   "cell_type": "markdown",
   "metadata": {},
   "source": [
    "## 5. (бонус) Проверьте модели на адекватность"
   ]
  },
  {
   "cell_type": "markdown",
   "metadata": {},
   "source": [
    "Проверим модель на адекватность методом DummyClassifier(), данный метод подставляет для обучения рандомные значения и проверяет какое значение accuracy покажет модель. Если качество модели на рандомных значениях выше accuracy нашей модели (Случайного леса или Дерева решений), то наша модель не прошла проверку на адекватность."
   ]
  },
  {
   "cell_type": "code",
   "execution_count": 82,
   "metadata": {},
   "outputs": [
    {
     "data": {
      "text/plain": [
       "0.5191908713692946"
      ]
     },
     "execution_count": 82,
     "metadata": {},
     "output_type": "execute_result"
    }
   ],
   "source": [
    "dummy_clf = DummyClassifier(strategy=\"uniform\")\n",
    "dummy_clf.fit(features_train, target_train)\n",
    "predictions_clf = dummy_clf.predict(features_train)\n",
    "dummy_clf.score(target_train, predictions_clf)"
   ]
  },
  {
   "cell_type": "markdown",
   "metadata": {},
   "source": [
    "Accuracy модели DummyClassifier() примерно на уровне 0,49. Это дает нам основание полагать, что наша модель адекватна и готова принимать данные для анализа подходящего для клиента тарифа."
   ]
  }
 ],
 "metadata": {
  "kernelspec": {
   "display_name": "Python 3",
   "language": "python",
   "name": "python3"
  },
  "language_info": {
   "codemirror_mode": {
    "name": "ipython",
    "version": 3
   },
   "file_extension": ".py",
   "mimetype": "text/x-python",
   "name": "python",
   "nbconvert_exporter": "python",
   "pygments_lexer": "ipython3",
   "version": "3.7.3"
  }
 },
 "nbformat": 4,
 "nbformat_minor": 2
}
