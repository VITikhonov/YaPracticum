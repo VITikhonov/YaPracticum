{
 "cells": [
  {
   "cell_type": "markdown",
   "metadata": {},
   "source": [
    "# Анализ оттока клиентов банка"
   ]
  },
  {
   "cell_type": "markdown",
   "metadata": {},
   "source": [
    "# 1. Подготовка данных"
   ]
  },
  {
   "cell_type": "code",
   "execution_count": 1,
   "metadata": {},
   "outputs": [
    {
     "data": {
      "text/html": [
       "<div>\n",
       "<style scoped>\n",
       "    .dataframe tbody tr th:only-of-type {\n",
       "        vertical-align: middle;\n",
       "    }\n",
       "\n",
       "    .dataframe tbody tr th {\n",
       "        vertical-align: top;\n",
       "    }\n",
       "\n",
       "    .dataframe thead th {\n",
       "        text-align: right;\n",
       "    }\n",
       "</style>\n",
       "<table border=\"1\" class=\"dataframe\">\n",
       "  <thead>\n",
       "    <tr style=\"text-align: right;\">\n",
       "      <th></th>\n",
       "      <th>RowNumber</th>\n",
       "      <th>CustomerId</th>\n",
       "      <th>Surname</th>\n",
       "      <th>CreditScore</th>\n",
       "      <th>Geography</th>\n",
       "      <th>Gender</th>\n",
       "      <th>Age</th>\n",
       "      <th>Tenure</th>\n",
       "      <th>Balance</th>\n",
       "      <th>NumOfProducts</th>\n",
       "      <th>HasCrCard</th>\n",
       "      <th>IsActiveMember</th>\n",
       "      <th>EstimatedSalary</th>\n",
       "      <th>Exited</th>\n",
       "    </tr>\n",
       "  </thead>\n",
       "  <tbody>\n",
       "    <tr>\n",
       "      <td>0</td>\n",
       "      <td>1</td>\n",
       "      <td>15634602</td>\n",
       "      <td>Hargrave</td>\n",
       "      <td>619</td>\n",
       "      <td>France</td>\n",
       "      <td>Female</td>\n",
       "      <td>42</td>\n",
       "      <td>2.0</td>\n",
       "      <td>0.00</td>\n",
       "      <td>1</td>\n",
       "      <td>1</td>\n",
       "      <td>1</td>\n",
       "      <td>101348.88</td>\n",
       "      <td>1</td>\n",
       "    </tr>\n",
       "    <tr>\n",
       "      <td>1</td>\n",
       "      <td>2</td>\n",
       "      <td>15647311</td>\n",
       "      <td>Hill</td>\n",
       "      <td>608</td>\n",
       "      <td>Spain</td>\n",
       "      <td>Female</td>\n",
       "      <td>41</td>\n",
       "      <td>1.0</td>\n",
       "      <td>83807.86</td>\n",
       "      <td>1</td>\n",
       "      <td>0</td>\n",
       "      <td>1</td>\n",
       "      <td>112542.58</td>\n",
       "      <td>0</td>\n",
       "    </tr>\n",
       "    <tr>\n",
       "      <td>2</td>\n",
       "      <td>3</td>\n",
       "      <td>15619304</td>\n",
       "      <td>Onio</td>\n",
       "      <td>502</td>\n",
       "      <td>France</td>\n",
       "      <td>Female</td>\n",
       "      <td>42</td>\n",
       "      <td>8.0</td>\n",
       "      <td>159660.80</td>\n",
       "      <td>3</td>\n",
       "      <td>1</td>\n",
       "      <td>0</td>\n",
       "      <td>113931.57</td>\n",
       "      <td>1</td>\n",
       "    </tr>\n",
       "    <tr>\n",
       "      <td>3</td>\n",
       "      <td>4</td>\n",
       "      <td>15701354</td>\n",
       "      <td>Boni</td>\n",
       "      <td>699</td>\n",
       "      <td>France</td>\n",
       "      <td>Female</td>\n",
       "      <td>39</td>\n",
       "      <td>1.0</td>\n",
       "      <td>0.00</td>\n",
       "      <td>2</td>\n",
       "      <td>0</td>\n",
       "      <td>0</td>\n",
       "      <td>93826.63</td>\n",
       "      <td>0</td>\n",
       "    </tr>\n",
       "    <tr>\n",
       "      <td>4</td>\n",
       "      <td>5</td>\n",
       "      <td>15737888</td>\n",
       "      <td>Mitchell</td>\n",
       "      <td>850</td>\n",
       "      <td>Spain</td>\n",
       "      <td>Female</td>\n",
       "      <td>43</td>\n",
       "      <td>2.0</td>\n",
       "      <td>125510.82</td>\n",
       "      <td>1</td>\n",
       "      <td>1</td>\n",
       "      <td>1</td>\n",
       "      <td>79084.10</td>\n",
       "      <td>0</td>\n",
       "    </tr>\n",
       "    <tr>\n",
       "      <td>...</td>\n",
       "      <td>...</td>\n",
       "      <td>...</td>\n",
       "      <td>...</td>\n",
       "      <td>...</td>\n",
       "      <td>...</td>\n",
       "      <td>...</td>\n",
       "      <td>...</td>\n",
       "      <td>...</td>\n",
       "      <td>...</td>\n",
       "      <td>...</td>\n",
       "      <td>...</td>\n",
       "      <td>...</td>\n",
       "      <td>...</td>\n",
       "      <td>...</td>\n",
       "    </tr>\n",
       "    <tr>\n",
       "      <td>9995</td>\n",
       "      <td>9996</td>\n",
       "      <td>15606229</td>\n",
       "      <td>Obijiaku</td>\n",
       "      <td>771</td>\n",
       "      <td>France</td>\n",
       "      <td>Male</td>\n",
       "      <td>39</td>\n",
       "      <td>5.0</td>\n",
       "      <td>0.00</td>\n",
       "      <td>2</td>\n",
       "      <td>1</td>\n",
       "      <td>0</td>\n",
       "      <td>96270.64</td>\n",
       "      <td>0</td>\n",
       "    </tr>\n",
       "    <tr>\n",
       "      <td>9996</td>\n",
       "      <td>9997</td>\n",
       "      <td>15569892</td>\n",
       "      <td>Johnstone</td>\n",
       "      <td>516</td>\n",
       "      <td>France</td>\n",
       "      <td>Male</td>\n",
       "      <td>35</td>\n",
       "      <td>10.0</td>\n",
       "      <td>57369.61</td>\n",
       "      <td>1</td>\n",
       "      <td>1</td>\n",
       "      <td>1</td>\n",
       "      <td>101699.77</td>\n",
       "      <td>0</td>\n",
       "    </tr>\n",
       "    <tr>\n",
       "      <td>9997</td>\n",
       "      <td>9998</td>\n",
       "      <td>15584532</td>\n",
       "      <td>Liu</td>\n",
       "      <td>709</td>\n",
       "      <td>France</td>\n",
       "      <td>Female</td>\n",
       "      <td>36</td>\n",
       "      <td>7.0</td>\n",
       "      <td>0.00</td>\n",
       "      <td>1</td>\n",
       "      <td>0</td>\n",
       "      <td>1</td>\n",
       "      <td>42085.58</td>\n",
       "      <td>1</td>\n",
       "    </tr>\n",
       "    <tr>\n",
       "      <td>9998</td>\n",
       "      <td>9999</td>\n",
       "      <td>15682355</td>\n",
       "      <td>Sabbatini</td>\n",
       "      <td>772</td>\n",
       "      <td>Germany</td>\n",
       "      <td>Male</td>\n",
       "      <td>42</td>\n",
       "      <td>3.0</td>\n",
       "      <td>75075.31</td>\n",
       "      <td>2</td>\n",
       "      <td>1</td>\n",
       "      <td>0</td>\n",
       "      <td>92888.52</td>\n",
       "      <td>1</td>\n",
       "    </tr>\n",
       "    <tr>\n",
       "      <td>9999</td>\n",
       "      <td>10000</td>\n",
       "      <td>15628319</td>\n",
       "      <td>Walker</td>\n",
       "      <td>792</td>\n",
       "      <td>France</td>\n",
       "      <td>Female</td>\n",
       "      <td>28</td>\n",
       "      <td>NaN</td>\n",
       "      <td>130142.79</td>\n",
       "      <td>1</td>\n",
       "      <td>1</td>\n",
       "      <td>0</td>\n",
       "      <td>38190.78</td>\n",
       "      <td>0</td>\n",
       "    </tr>\n",
       "  </tbody>\n",
       "</table>\n",
       "<p>10000 rows × 14 columns</p>\n",
       "</div>"
      ],
      "text/plain": [
       "      RowNumber  CustomerId    Surname  CreditScore Geography  Gender  Age  \\\n",
       "0             1    15634602   Hargrave          619    France  Female   42   \n",
       "1             2    15647311       Hill          608     Spain  Female   41   \n",
       "2             3    15619304       Onio          502    France  Female   42   \n",
       "3             4    15701354       Boni          699    France  Female   39   \n",
       "4             5    15737888   Mitchell          850     Spain  Female   43   \n",
       "...         ...         ...        ...          ...       ...     ...  ...   \n",
       "9995       9996    15606229   Obijiaku          771    France    Male   39   \n",
       "9996       9997    15569892  Johnstone          516    France    Male   35   \n",
       "9997       9998    15584532        Liu          709    France  Female   36   \n",
       "9998       9999    15682355  Sabbatini          772   Germany    Male   42   \n",
       "9999      10000    15628319     Walker          792    France  Female   28   \n",
       "\n",
       "      Tenure    Balance  NumOfProducts  HasCrCard  IsActiveMember  \\\n",
       "0        2.0       0.00              1          1               1   \n",
       "1        1.0   83807.86              1          0               1   \n",
       "2        8.0  159660.80              3          1               0   \n",
       "3        1.0       0.00              2          0               0   \n",
       "4        2.0  125510.82              1          1               1   \n",
       "...      ...        ...            ...        ...             ...   \n",
       "9995     5.0       0.00              2          1               0   \n",
       "9996    10.0   57369.61              1          1               1   \n",
       "9997     7.0       0.00              1          0               1   \n",
       "9998     3.0   75075.31              2          1               0   \n",
       "9999     NaN  130142.79              1          1               0   \n",
       "\n",
       "      EstimatedSalary  Exited  \n",
       "0           101348.88       1  \n",
       "1           112542.58       0  \n",
       "2           113931.57       1  \n",
       "3            93826.63       0  \n",
       "4            79084.10       0  \n",
       "...               ...     ...  \n",
       "9995         96270.64       0  \n",
       "9996        101699.77       0  \n",
       "9997         42085.58       1  \n",
       "9998         92888.52       1  \n",
       "9999         38190.78       0  \n",
       "\n",
       "[10000 rows x 14 columns]"
      ]
     },
     "execution_count": 1,
     "metadata": {},
     "output_type": "execute_result"
    }
   ],
   "source": [
    "import numpy as np\n",
    "import pandas as pd\n",
    "from sklearn.model_selection import train_test_split\n",
    "from sklearn.tree import DecisionTreeClassifier\n",
    "from sklearn.ensemble import RandomForestClassifier\n",
    "from sklearn.metrics import accuracy_score, f1_score, precision_score, recall_score, roc_auc_score, confusion_matrix\n",
    "from sklearn.dummy import DummyClassifier\n",
    "from sklearn.preprocessing import StandardScaler\n",
    "data = pd.read_csv('/datasets/Churn.csv')\n",
    "data"
   ]
  },
  {
   "cell_type": "code",
   "execution_count": 2,
   "metadata": {},
   "outputs": [
    {
     "name": "stdout",
     "output_type": "stream",
     "text": [
      "<class 'pandas.core.frame.DataFrame'>\n",
      "RangeIndex: 10000 entries, 0 to 9999\n",
      "Data columns (total 14 columns):\n",
      "RowNumber          10000 non-null int64\n",
      "CustomerId         10000 non-null int64\n",
      "Surname            10000 non-null object\n",
      "CreditScore        10000 non-null int64\n",
      "Geography          10000 non-null object\n",
      "Gender             10000 non-null object\n",
      "Age                10000 non-null int64\n",
      "Tenure             9091 non-null float64\n",
      "Balance            10000 non-null float64\n",
      "NumOfProducts      10000 non-null int64\n",
      "HasCrCard          10000 non-null int64\n",
      "IsActiveMember     10000 non-null int64\n",
      "EstimatedSalary    10000 non-null float64\n",
      "Exited             10000 non-null int64\n",
      "dtypes: float64(3), int64(8), object(3)\n",
      "memory usage: 1.1+ MB\n"
     ]
    }
   ],
   "source": [
    "data.info()"
   ]
  },
  {
   "cell_type": "markdown",
   "metadata": {},
   "source": [
    "Датасет содержит информацию о десяти тысячах клиентах банка \"Бета-Банк\", включая их кредитный рейтинг, пол, страну проживания, баланс, количество недвижимости у клиента, факт ухода клиента и другое. На первый взгляд необходимо осуществить следующие корректировки в данных: удалить не нужные столбца с данными, которые могут негативно повлиять на построение модели, но сами по себе не несут особой значимости - RowNumber (порядковый номер), CustomerId (идентификатор клиента), Surname (фамилия клиента). \n",
    "\n",
    "Так же необходимо избавиться от пропусков в столбце Tenure (количество недвижимости у клиента), для этого заменим их на 0, предполагая, что если не указано количество недвижимости, то оно отсутствует и при заполнении профиля клиента данный параметр был не заполнен.\n",
    "\n",
    "Следует также перевести вещественный тип данных столбцов в int, необходимый для исследования. Исходя из того, что данные разнятся в зависимости от названия столбца (что логично). необходимо признаки масштабировать, чтобы они находились в одной плоскости."
   ]
  },
  {
   "cell_type": "code",
   "execution_count": 3,
   "metadata": {},
   "outputs": [],
   "source": [
    "data['Tenure'] = data['Tenure'].fillna(0)\n",
    "data.drop(['RowNumber', 'CustomerId', 'Surname'], axis='columns', inplace=True)\n",
    "data = pd.get_dummies(data, drop_first=True)\n",
    "\n",
    "data['Geography_Germany'] = data['Geography_Germany'].astype('int')\n",
    "data['Geography_Spain'] = data['Geography_Spain'].astype('int')\n",
    "data['Gender_Male'] = data['Gender_Male'].astype('int')"
   ]
  },
  {
   "cell_type": "code",
   "execution_count": 4,
   "metadata": {},
   "outputs": [],
   "source": [
    "numeric = ['CreditScore', 'Age', 'Tenure', 'Balance', 'EstimatedSalary']\n",
    "data_scaled = data\n",
    "\n",
    "scaler = StandardScaler()\n",
    "scaler.fit(data[numeric])\n",
    "data[numeric] = scaler.transform(data[numeric])"
   ]
  },
  {
   "cell_type": "code",
   "execution_count": 5,
   "metadata": {},
   "outputs": [
    {
     "data": {
      "text/html": [
       "<div>\n",
       "<style scoped>\n",
       "    .dataframe tbody tr th:only-of-type {\n",
       "        vertical-align: middle;\n",
       "    }\n",
       "\n",
       "    .dataframe tbody tr th {\n",
       "        vertical-align: top;\n",
       "    }\n",
       "\n",
       "    .dataframe thead th {\n",
       "        text-align: right;\n",
       "    }\n",
       "</style>\n",
       "<table border=\"1\" class=\"dataframe\">\n",
       "  <thead>\n",
       "    <tr style=\"text-align: right;\">\n",
       "      <th></th>\n",
       "      <th>CreditScore</th>\n",
       "      <th>Age</th>\n",
       "      <th>Tenure</th>\n",
       "      <th>Balance</th>\n",
       "      <th>NumOfProducts</th>\n",
       "      <th>HasCrCard</th>\n",
       "      <th>IsActiveMember</th>\n",
       "      <th>EstimatedSalary</th>\n",
       "      <th>Exited</th>\n",
       "      <th>Geography_Germany</th>\n",
       "      <th>Geography_Spain</th>\n",
       "      <th>Gender_Male</th>\n",
       "    </tr>\n",
       "  </thead>\n",
       "  <tbody>\n",
       "    <tr>\n",
       "      <td>0</td>\n",
       "      <td>-0.326221</td>\n",
       "      <td>0.293517</td>\n",
       "      <td>-0.817441</td>\n",
       "      <td>-1.225848</td>\n",
       "      <td>1</td>\n",
       "      <td>1</td>\n",
       "      <td>1</td>\n",
       "      <td>0.021886</td>\n",
       "      <td>1</td>\n",
       "      <td>0</td>\n",
       "      <td>0</td>\n",
       "      <td>0</td>\n",
       "    </tr>\n",
       "    <tr>\n",
       "      <td>1</td>\n",
       "      <td>-0.440036</td>\n",
       "      <td>0.198164</td>\n",
       "      <td>-1.138838</td>\n",
       "      <td>0.117350</td>\n",
       "      <td>1</td>\n",
       "      <td>0</td>\n",
       "      <td>1</td>\n",
       "      <td>0.216534</td>\n",
       "      <td>0</td>\n",
       "      <td>0</td>\n",
       "      <td>1</td>\n",
       "      <td>0</td>\n",
       "    </tr>\n",
       "    <tr>\n",
       "      <td>2</td>\n",
       "      <td>-1.536794</td>\n",
       "      <td>0.293517</td>\n",
       "      <td>1.110941</td>\n",
       "      <td>1.333053</td>\n",
       "      <td>3</td>\n",
       "      <td>1</td>\n",
       "      <td>0</td>\n",
       "      <td>0.240687</td>\n",
       "      <td>1</td>\n",
       "      <td>0</td>\n",
       "      <td>0</td>\n",
       "      <td>0</td>\n",
       "    </tr>\n",
       "    <tr>\n",
       "      <td>3</td>\n",
       "      <td>0.501521</td>\n",
       "      <td>0.007457</td>\n",
       "      <td>-1.138838</td>\n",
       "      <td>-1.225848</td>\n",
       "      <td>2</td>\n",
       "      <td>0</td>\n",
       "      <td>0</td>\n",
       "      <td>-0.108918</td>\n",
       "      <td>0</td>\n",
       "      <td>0</td>\n",
       "      <td>0</td>\n",
       "      <td>0</td>\n",
       "    </tr>\n",
       "    <tr>\n",
       "      <td>4</td>\n",
       "      <td>2.063884</td>\n",
       "      <td>0.388871</td>\n",
       "      <td>-0.817441</td>\n",
       "      <td>0.785728</td>\n",
       "      <td>1</td>\n",
       "      <td>1</td>\n",
       "      <td>1</td>\n",
       "      <td>-0.365276</td>\n",
       "      <td>0</td>\n",
       "      <td>0</td>\n",
       "      <td>1</td>\n",
       "      <td>0</td>\n",
       "    </tr>\n",
       "  </tbody>\n",
       "</table>\n",
       "</div>"
      ],
      "text/plain": [
       "   CreditScore       Age    Tenure   Balance  NumOfProducts  HasCrCard  \\\n",
       "0    -0.326221  0.293517 -0.817441 -1.225848              1          1   \n",
       "1    -0.440036  0.198164 -1.138838  0.117350              1          0   \n",
       "2    -1.536794  0.293517  1.110941  1.333053              3          1   \n",
       "3     0.501521  0.007457 -1.138838 -1.225848              2          0   \n",
       "4     2.063884  0.388871 -0.817441  0.785728              1          1   \n",
       "\n",
       "   IsActiveMember  EstimatedSalary  Exited  Geography_Germany  \\\n",
       "0               1         0.021886       1                  0   \n",
       "1               1         0.216534       0                  0   \n",
       "2               0         0.240687       1                  0   \n",
       "3               0        -0.108918       0                  0   \n",
       "4               1        -0.365276       0                  0   \n",
       "\n",
       "   Geography_Spain  Gender_Male  \n",
       "0                0            0  \n",
       "1                1            0  \n",
       "2                0            0  \n",
       "3                0            0  \n",
       "4                1            0  "
      ]
     },
     "execution_count": 5,
     "metadata": {},
     "output_type": "execute_result"
    }
   ],
   "source": [
    "data.head(5)"
   ]
  },
  {
   "cell_type": "markdown",
   "metadata": {},
   "source": [
    "Так выглядит таблица после преобразований, все данные числительные, столбцы указывающие на гендер и страну клиента преобразованы."
   ]
  },
  {
   "cell_type": "markdown",
   "metadata": {},
   "source": [
    "# 2. Исследование задачи"
   ]
  },
  {
   "cell_type": "markdown",
   "metadata": {},
   "source": [
    "Разделим исходные данные на на выборки в следующем процентном соотношении:\n",
    "* data_train - обучающая выборка (70%)\n",
    "* data_test - тестовая выборка (15%)\n",
    "* data_valid - валидационная аыборка (15%)\n",
    "\n",
    "Использовали модель для деления 14:3:3 так как, помимо валидационной выборки выделяем так же тестовую выборку (равную ей) для дальнейшего тестирования поведения модели."
   ]
  },
  {
   "cell_type": "code",
   "execution_count": 6,
   "metadata": {},
   "outputs": [],
   "source": [
    "data_train, data_test_valid = train_test_split(data, test_size=0.3, random_state=12345)\n",
    "data_test, data_valid = train_test_split(data_test_valid, test_size=0.5, random_state=12345)"
   ]
  },
  {
   "cell_type": "markdown",
   "metadata": {},
   "source": [
    "Сохраненим признаки в отдельных переменных: features - все признаки, кроме целевого признака (факт ухода клиента из банка), target — целевой признак, столбец Exited (где 1 - клиент покинул банк, 0 - остался клиентом банка)."
   ]
  },
  {
   "cell_type": "code",
   "execution_count": 7,
   "metadata": {},
   "outputs": [],
   "source": [
    "features_train = data_train.drop(columns=['Exited'], axis=1)\n",
    "target_train = data_train['Exited']\n",
    "\n",
    "features_valid = data_valid.drop(columns=['Exited'], axis=1)\n",
    "target_valid = data_valid['Exited']\n",
    "\n",
    "features_test = data_test.drop(columns=['Exited'], axis=1)\n",
    "target_test = data_test['Exited']"
   ]
  },
  {
   "cell_type": "markdown",
   "metadata": {},
   "source": [
    "Построим модель дерева решений. И найдем лучшее значение качества этой модели (accuracy)."
   ]
  },
  {
   "cell_type": "code",
   "execution_count": 8,
   "metadata": {},
   "outputs": [
    {
     "name": "stdout",
     "output_type": "stream",
     "text": [
      "max_depth = 1 accuracy = 0.7873333333333333\n",
      "max_depth = 2 accuracy = 0.8173333333333334\n",
      "max_depth = 3 accuracy = 0.8286666666666667\n",
      "max_depth = 4 accuracy = 0.8333333333333334\n",
      "max_depth = 5 accuracy = 0.844\n",
      "max_depth = 6 accuracy = 0.8406666666666667\n",
      "max_depth = 7 accuracy = 0.8413333333333334\n",
      "max_depth = 8 accuracy = 0.834\n"
     ]
    }
   ],
   "source": [
    "for depth in range(1, 9):\n",
    "    model = DecisionTreeClassifier(max_depth = depth, random_state=12345)\n",
    "    model.fit(features_train, target_train)\n",
    "    valid_predictions = model.predict(features_valid)\n",
    "    valid_accuracy = accuracy_score(target_valid, valid_predictions)\n",
    "    print(\"max_depth =\", depth, \"accuracy =\", valid_accuracy)"
   ]
  },
  {
   "cell_type": "markdown",
   "metadata": {},
   "source": [
    "При max_depth равному 5 мы будем иметь наилучшее качество модели."
   ]
  },
  {
   "cell_type": "code",
   "execution_count": 9,
   "metadata": {},
   "outputs": [
    {
     "name": "stdout",
     "output_type": "stream",
     "text": [
      "Валидационная выборка: 0.844\n"
     ]
    }
   ],
   "source": [
    "model = DecisionTreeClassifier(random_state=12345, max_depth = 5)\n",
    "model.fit(features_train, target_train)\n",
    "\n",
    "valid_predictions = model.predict(features_valid)\n",
    "valid_accuracy = accuracy_score(target_valid, valid_predictions)\n",
    "\n",
    "print(\"Валидационная выборка:\", valid_accuracy)"
   ]
  },
  {
   "cell_type": "markdown",
   "metadata": {},
   "source": [
    "Проверка качества модели на валидационной модели дало результат примерно 0,844, что очень неплохой результат. Проведем проверку адекватности модели для этого проанализируем частоты классов в результатах предсказаний решающего дерева."
   ]
  },
  {
   "cell_type": "code",
   "execution_count": 10,
   "metadata": {},
   "outputs": [
    {
     "name": "stdout",
     "output_type": "stream",
     "text": [
      "0    0.860667\n",
      "1    0.139333\n",
      "dtype: float64\n"
     ]
    },
    {
     "data": {
      "text/plain": [
       "<matplotlib.axes._subplots.AxesSubplot at 0x7fa95811a9d0>"
      ]
     },
     "execution_count": 10,
     "metadata": {},
     "output_type": "execute_result"
    },
    {
     "data": {
      "image/png": "[encoded data removed]",
      "text/plain": [
       "<Figure size 432x288 with 1 Axes>"
      ]
     },
     "metadata": {
      "needs_background": "light"
     },
     "output_type": "display_data"
    }
   ],
   "source": [
    "vp = pd.Series(valid_predictions)\n",
    "class_frequency = vp.value_counts(normalize=True)\n",
    "print(class_frequency)\n",
    "class_frequency.plot(kind='bar')"
   ]
  },
  {
   "cell_type": "markdown",
   "metadata": {},
   "source": [
    "Классы имеют очень большой разрыв в количестве значений, что наблюдается из графика. Необходимо сбалансировать классы."
   ]
  },
  {
   "cell_type": "code",
   "execution_count": 11,
   "metadata": {},
   "outputs": [
    {
     "name": "stdout",
     "output_type": "stream",
     "text": [
      "F1-мера = 0.5568181818181818\n",
      "ROC-AUC-мера = 0.8453385500306578\n"
     ]
    }
   ],
   "source": [
    "print('F1-мера =', f1_score(target_valid, valid_predictions))\n",
    "\n",
    "probabilities_valid = model.predict_proba(features_valid)\n",
    "probabilities_one_valid = probabilities_valid[:, 1]\n",
    "print('ROC-AUC-мера =', roc_auc_score(target_valid, probabilities_one_valid))"
   ]
  },
  {
   "cell_type": "markdown",
   "metadata": {},
   "source": [
    "Так как классы не сбалансированы для измерения точности и полноты предсказаний модели необходимо использовать среднегармонический параметр - f1-мера. Близкая к нулю f1-мера показывает, что прогноз класса 1 не удался.\n",
    "ROC-AUC-мера усредняется по всем возможным порогам, в отличие от f1-меры, которая зависит от точности и полноты.\n",
    "Сравнивая значения этих двух параметров стоит отметить, что наиболее важна при оценке несбалансированных данных f1-мера со значением 0,56."
   ]
  },
  {
   "cell_type": "markdown",
   "metadata": {},
   "source": [
    "Построим модель Случайного леса. Подберем такие значения гиперпараметров глубины и ширины деревьев, которые будут соответствовать наилучшему числу accurcy."
   ]
  },
  {
   "cell_type": "code",
   "execution_count": 12,
   "metadata": {},
   "outputs": [
    {
     "name": "stdout",
     "output_type": "stream",
     "text": [
      "n_estimators = 10 max_depth = 1 accuracy = 0.7873333333333333\n",
      "n_estimators = 10 max_depth = 3 accuracy = 0.8066666666666666\n",
      "n_estimators = 10 max_depth = 5 accuracy = 0.8386666666666667\n",
      "n_estimators = 10 max_depth = 7 accuracy = 0.8433333333333334\n",
      "n_estimators = 10 max_depth = 9 accuracy = 0.8413333333333334\n",
      "n_estimators = 10 max_depth = 11 accuracy = 0.8466666666666667\n",
      "n_estimators = 10 max_depth = 13 accuracy = 0.8393333333333334\n",
      "n_estimators = 10 max_depth = 15 accuracy = 0.8346666666666667\n",
      "n_estimators = 30 max_depth = 1 accuracy = 0.7873333333333333\n",
      "n_estimators = 30 max_depth = 3 accuracy = 0.806\n",
      "n_estimators = 30 max_depth = 5 accuracy = 0.8346666666666667\n",
      "n_estimators = 30 max_depth = 7 accuracy = 0.8426666666666667\n",
      "n_estimators = 30 max_depth = 9 accuracy = 0.8466666666666667\n",
      "n_estimators = 30 max_depth = 11 accuracy = 0.8433333333333334\n",
      "n_estimators = 30 max_depth = 13 accuracy = 0.838\n",
      "n_estimators = 30 max_depth = 15 accuracy = 0.8413333333333334\n",
      "n_estimators = 50 max_depth = 1 accuracy = 0.7873333333333333\n",
      "n_estimators = 50 max_depth = 3 accuracy = 0.8073333333333333\n",
      "n_estimators = 50 max_depth = 5 accuracy = 0.8366666666666667\n",
      "n_estimators = 50 max_depth = 7 accuracy = 0.842\n",
      "n_estimators = 50 max_depth = 9 accuracy = 0.8466666666666667\n",
      "n_estimators = 50 max_depth = 11 accuracy = 0.8413333333333334\n",
      "n_estimators = 50 max_depth = 13 accuracy = 0.838\n",
      "n_estimators = 50 max_depth = 15 accuracy = 0.846\n",
      "n_estimators = 70 max_depth = 1 accuracy = 0.7873333333333333\n",
      "n_estimators = 70 max_depth = 3 accuracy = 0.8073333333333333\n",
      "n_estimators = 70 max_depth = 5 accuracy = 0.834\n",
      "n_estimators = 70 max_depth = 7 accuracy = 0.842\n",
      "n_estimators = 70 max_depth = 9 accuracy = 0.8453333333333334\n",
      "n_estimators = 70 max_depth = 11 accuracy = 0.8426666666666667\n",
      "n_estimators = 70 max_depth = 13 accuracy = 0.8393333333333334\n",
      "n_estimators = 70 max_depth = 15 accuracy = 0.8473333333333334\n",
      "n_estimators = 90 max_depth = 1 accuracy = 0.7873333333333333\n",
      "n_estimators = 90 max_depth = 3 accuracy = 0.806\n",
      "n_estimators = 90 max_depth = 5 accuracy = 0.8326666666666667\n",
      "n_estimators = 90 max_depth = 7 accuracy = 0.84\n",
      "n_estimators = 90 max_depth = 9 accuracy = 0.8446666666666667\n",
      "n_estimators = 90 max_depth = 11 accuracy = 0.8433333333333334\n",
      "n_estimators = 90 max_depth = 13 accuracy = 0.8413333333333334\n",
      "n_estimators = 90 max_depth = 15 accuracy = 0.8466666666666667\n"
     ]
    }
   ],
   "source": [
    "for estimator in range(10, 100, 20):\n",
    "    for depth in range(1, 16, 2):\n",
    "        model = RandomForestClassifier(n_estimators=estimator, max_depth=depth, random_state=12345)\n",
    "        model.fit(features_train, target_train)\n",
    "        valid_predictions = model.predict(features_valid)\n",
    "        valid_accuracy = accuracy_score(target_valid, valid_predictions)\n",
    "        print(\"n_estimators =\", estimator, \"max_depth =\", depth, \"accuracy =\", valid_accuracy)"
   ]
  },
  {
   "cell_type": "markdown",
   "metadata": {},
   "source": [
    "Наилучшим сочетанием гиперпараметров является:\n",
    "\n",
    "n_estimators = 70 max_depth = 15 accuracy = 0.8473333333333334\n",
    "\n",
    "Его и будем использовать для проверки модели."
   ]
  },
  {
   "cell_type": "code",
   "execution_count": 13,
   "metadata": {},
   "outputs": [
    {
     "name": "stdout",
     "output_type": "stream",
     "text": [
      "Валидационная выборка: 0.8473333333333334\n"
     ]
    }
   ],
   "source": [
    "model = RandomForestClassifier(random_state=12345, n_estimators=70, max_depth = 15)\n",
    "model.fit(features_train, target_train)\n",
    "\n",
    "valid_predictions = model.predict(features_valid)\n",
    "valid_accuracy = accuracy_score(target_valid, valid_predictions)\n",
    "\n",
    "print(\"Валидационная выборка:\", valid_accuracy)"
   ]
  },
  {
   "cell_type": "markdown",
   "metadata": {},
   "source": [
    "Проверка качества модели на валидационной модели дало результат примерно 0,847, что, в принципе соответствует желаемому. Посмотрим значения f1-меры и roc_auc. "
   ]
  },
  {
   "cell_type": "code",
   "execution_count": 14,
   "metadata": {},
   "outputs": [
    {
     "name": "stdout",
     "output_type": "stream",
     "text": [
      "F1-мера =  0.5465346534653466\n",
      "ROC-AUC-мера =  0.8509246454441934\n"
     ]
    }
   ],
   "source": [
    "print('F1-мера = ', f1_score(target_valid, valid_predictions))\n",
    "\n",
    "probabilities_valid = model.predict_proba(features_valid)\n",
    "probabilities_one_valid = probabilities_valid[:, 1]\n",
    "print('ROC-AUC-мера = ', roc_auc_score(target_valid, probabilities_one_valid))"
   ]
  },
  {
   "cell_type": "markdown",
   "metadata": {},
   "source": [
    "Опять же значение f1-меры гораздо меньше roc_auc параметра. При несбалансированных данных f1-мера наиболее актуальна. roc_auc говорит о данных максимально качесвенной модели. В сравнении с значениями этих праметров решающего дерева f1-мера уменьшилась, тогда как roc_auc-мера увеличилась.\n",
    "\n",
    "Посчитаем дисбаланс классов:"
   ]
  },
  {
   "cell_type": "code",
   "execution_count": 15,
   "metadata": {},
   "outputs": [
    {
     "name": "stdout",
     "output_type": "stream",
     "text": [
      "0    0.7963\n",
      "1    0.2037\n",
      "Name: Exited, dtype: float64\n"
     ]
    },
    {
     "data": {
      "text/plain": [
       "<matplotlib.axes._subplots.AxesSubplot at 0x7fa95720cf10>"
      ]
     },
     "execution_count": 15,
     "metadata": {},
     "output_type": "execute_result"
    },
    {
     "data": {
      "image/png": "[encoded data removed]",
      "text/plain": [
       "<Figure size 432x288 with 1 Axes>"
      ]
     },
     "metadata": {
      "needs_background": "light"
     },
     "output_type": "display_data"
    }
   ],
   "source": [
    "vp = data['Exited']\n",
    "class_frequency = vp.value_counts(normalize=True)\n",
    "print(class_frequency)\n",
    "class_frequency.plot(kind='bar')"
   ]
  },
  {
   "cell_type": "markdown",
   "metadata": {},
   "source": [
    "Выше приведен график соотношения классов по всем данным столбца Exited всего датасета. Так 0-значений гораздо больше, чем 1-значений.\n",
    "\n",
    "Ниже график соотношения классов на валидационной выборке."
   ]
  },
  {
   "cell_type": "code",
   "execution_count": 232,
   "metadata": {
    "scrolled": true
   },
   "outputs": [
    {
     "name": "stdout",
     "output_type": "stream",
     "text": [
      "0    0.876\n",
      "1    0.124\n",
      "dtype: float64\n"
     ]
    },
    {
     "data": {
      "text/plain": [
       "<matplotlib.axes._subplots.AxesSubplot at 0x7f118c968c90>"
      ]
     },
     "execution_count": 232,
     "metadata": {},
     "output_type": "execute_result"
    },
    {
     "data": {
      "image/png": "[encoded data removed]",
      "text/plain": [
       "<Figure size 432x288 with 1 Axes>"
      ]
     },
     "metadata": {
      "needs_background": "light"
     },
     "output_type": "display_data"
    }
   ],
   "source": [
    "vp = pd.Series(valid_predictions)\n",
    "class_frequency = vp.value_counts(normalize=True)\n",
    "print(class_frequency)\n",
    "class_frequency.plot(kind='bar')"
   ]
  },
  {
   "cell_type": "code",
   "execution_count": 233,
   "metadata": {},
   "outputs": [
    {
     "name": "stdout",
     "output_type": "stream",
     "text": [
      "0.7984285714285714\n"
     ]
    }
   ],
   "source": [
    "target_pred_constant = pd.Series(0, index=target_train.index)\n",
    "\n",
    "print(accuracy_score(target_train, target_pred_constant))"
   ]
  },
  {
   "cell_type": "markdown",
   "metadata": {},
   "source": [
    "Посмотрев на accuracy константной модели можно сказать, что она не сильно отличается от accuracy моделей решающего дерева и случайного леса. Этот факт так же свидетельствует о том, что наблюдается дисбаланс классов."
   ]
  },
  {
   "cell_type": "markdown",
   "metadata": {},
   "source": [
    "# 3. Борьба с дисбалансом"
   ]
  },
  {
   "cell_type": "markdown",
   "metadata": {},
   "source": [
    "Борьба с дисбалансом модели решающего дерева.\n",
    "\n",
    "Применим гиперпараметр, при расчете который делает данные для модели сбалансированными."
   ]
  },
  {
   "cell_type": "code",
   "execution_count": 16,
   "metadata": {},
   "outputs": [
    {
     "name": "stdout",
     "output_type": "stream",
     "text": [
      "F1-мера =  0.5784447476125513\n",
      "ROC-AUC-мера =  0.8358080793334378\n"
     ]
    }
   ],
   "source": [
    "model_cwb_DTC = DecisionTreeClassifier(random_state=12345, max_depth = 5, class_weight='balanced')\n",
    "model_cwb_DTC.fit(features_train, target_train)\n",
    "\n",
    "valid_predictions = model_cwb_DTC.predict(features_valid)\n",
    "print('F1-мера = ', f1_score(target_valid, valid_predictions))\n",
    "\n",
    "probabilities_valid = model_cwb_DTC.predict_proba(features_valid)\n",
    "probabilities_one_valid = probabilities_valid[:, 1]\n",
    "print('ROC-AUC-мера = ', roc_auc_score(target_valid, probabilities_one_valid))"
   ]
  },
  {
   "cell_type": "markdown",
   "metadata": {},
   "source": [
    "После балансировки можем наблюдать увеличение значения f1-меры и уменьшение roc_auc-меры. Но в целом, при проверке на валидационной выборке f1-мера не достигает целевого показателя в 0,59.\n",
    "\n",
    "Попробуем использовать метод upsampling для уменьшения дисбаланса классов, увеличив выборку в 3 раза (дает наиболее оптимальное значение f1-меры при подборе):"
   ]
  },
  {
   "cell_type": "code",
   "execution_count": 17,
   "metadata": {},
   "outputs": [
    {
     "name": "stdout",
     "output_type": "stream",
     "text": [
      "F1-мера =  0.6011730205278594\n",
      "ROC-AUC-мера =  0.8358080793334378\n"
     ]
    }
   ],
   "source": [
    "def upsample(features, target, repeat):\n",
    "    features_zeros = features[target == 0]\n",
    "    features_ones = features[target == 1]\n",
    "    target_zeros = target_train[target_train == 0]\n",
    "    target_ones = target_train[target_train == 1]\n",
    "    features_upsampled = pd.concat([features_zeros] + [features_ones] * repeat)\n",
    "    target_upsampled = pd.concat([target_zeros] + [target_ones] * repeat)\n",
    "    return features_upsampled, target_upsampled\n",
    "    \n",
    "features_upsampled, target_upsampled = upsample(features_train, target_train, 3)\n",
    "model_ups_DTC = DecisionTreeClassifier(random_state=12345, max_depth = 5)\n",
    "model_ups_DTC.fit(features_upsampled, target_upsampled)\n",
    "\n",
    "valid_predictions = model_ups_DTC.predict(features_valid)\n",
    "print('F1-мера = ', f1_score(target_valid, valid_predictions))\n",
    "\n",
    "probabilities_valid = model_ups_DTC.predict_proba(features_valid)\n",
    "probabilities_one_valid = probabilities_valid[:, 1]\n",
    "print('ROC-AUC-мера = ', roc_auc_score(target_valid, probabilities_one_valid))"
   ]
  },
  {
   "cell_type": "markdown",
   "metadata": {},
   "source": [
    "Удалось еще больше увеличить значение f1-меры. Так же можем констатировать взаимосвязь между f1 и roc_auc - чем выше f1, тем меньше становится значение roc_auc-меры.\n",
    "\n",
    "Повторим манипуляции с моделью Случайного леса:"
   ]
  },
  {
   "cell_type": "code",
   "execution_count": 18,
   "metadata": {},
   "outputs": [
    {
     "name": "stdout",
     "output_type": "stream",
     "text": [
      "F1-мера =  0.5390625000000001\n",
      "ROC-AUC-мера =  0.8496014482174661\n"
     ]
    }
   ],
   "source": [
    "model_cwb_RFC = RandomForestClassifier(random_state=12345, n_estimators = 70, max_depth = 15, class_weight='balanced')\n",
    "model_cwb_RFC.fit(features_train, target_train)\n",
    "\n",
    "valid_predictions = model_cwb_RFC.predict(features_valid)\n",
    "print('F1-мера = ', f1_score(target_valid, valid_predictions))\n",
    "\n",
    "probabilities_valid = model_cwb_RFC.predict_proba(features_valid)\n",
    "probabilities_one_valid = probabilities_valid[:, 1]\n",
    "print('ROC-AUC-мера = ', roc_auc_score(target_valid, probabilities_one_valid))"
   ]
  },
  {
   "cell_type": "markdown",
   "metadata": {},
   "source": [
    "Балансировка подобным методом снизила f1-меру по отношению к несбалансированной, что еще больше отдалило от целевого значения в 0,59. Попробуем применить upsampeling."
   ]
  },
  {
   "cell_type": "code",
   "execution_count": 19,
   "metadata": {},
   "outputs": [
    {
     "name": "stdout",
     "output_type": "stream",
     "text": [
      "F1-мера =  0.5980066445182723\n",
      "ROC-AUC-мера =  0.8464693063367477\n"
     ]
    }
   ],
   "source": [
    "def upsample(features, target, repeat):\n",
    "    features_zeros = features[target == 0]\n",
    "    features_ones = features[target == 1]\n",
    "    target_zeros = target_train[target_train == 0]\n",
    "    target_ones = target_train[target_train == 1]\n",
    "    features_upsampled = pd.concat([features_zeros] + [features_ones] * repeat)\n",
    "    target_upsampled = pd.concat([target_zeros] + [target_ones] * repeat)\n",
    "    return features_upsampled, target_upsampled\n",
    "    \n",
    "features_upsampled, target_upsampled = upsample(features_train, target_train, 3)\n",
    "\n",
    "model_ups_RFC = RandomForestClassifier(random_state=12345, n_estimators = 70, max_depth = 15)\n",
    "model_ups_RFC.fit(features_upsampled, target_upsampled)\n",
    "\n",
    "valid_predictions = model_ups_RFC.predict(features_valid)\n",
    "print('F1-мера = ', f1_score(target_valid, valid_predictions))\n",
    "\n",
    "probabilities_valid = model_ups_RFC.predict_proba(features_valid)\n",
    "probabilities_one_valid = probabilities_valid[:, 1]\n",
    "print('ROC-AUC-мера = ', roc_auc_score(target_valid, probabilities_one_valid))"
   ]
  },
  {
   "cell_type": "markdown",
   "metadata": {},
   "source": [
    "Данное преобразование позволило достичь f1 выше целевого значения. \n",
    "\n",
    "Найдем тестовые показатели этих двух мер на всех моделях на тестовой выборке."
   ]
  },
  {
   "cell_type": "markdown",
   "metadata": {},
   "source": [
    "# 4. Тестирование модели"
   ]
  },
  {
   "cell_type": "code",
   "execution_count": 20,
   "metadata": {},
   "outputs": [
    {
     "name": "stdout",
     "output_type": "stream",
     "text": [
      "F1-мера =  0.5933147632311978\n",
      "ROC-AUC-мера =  0.8467034902293781\n"
     ]
    }
   ],
   "source": [
    "predicted_test = model_cwb_DTC.predict(features_test)\n",
    "print('F1-мера = ', f1_score(target_test, predicted_test))\n",
    "\n",
    "probabilities_test = model_ups_RFC.predict_proba(features_test)\n",
    "probabilities_one_test = probabilities_test[:, 1]\n",
    "print('ROC-AUC-мера = ', roc_auc_score(target_test, probabilities_one_test))"
   ]
  },
  {
   "cell_type": "code",
   "execution_count": 21,
   "metadata": {},
   "outputs": [
    {
     "name": "stdout",
     "output_type": "stream",
     "text": [
      "F1-мера =  0.6024096385542168\n",
      "ROC-AUC-мера =  0.8467034902293781\n"
     ]
    }
   ],
   "source": [
    "predicted_test = model_ups_DTC.predict(features_test)\n",
    "print('F1-мера = ', f1_score(target_test, predicted_test))\n",
    "\n",
    "probabilities_test = model_ups_RFC.predict_proba(features_test)\n",
    "probabilities_one_test = probabilities_test[:, 1]\n",
    "print('ROC-AUC-мера = ', roc_auc_score(target_test, probabilities_one_test))"
   ]
  },
  {
   "cell_type": "code",
   "execution_count": 22,
   "metadata": {},
   "outputs": [
    {
     "name": "stdout",
     "output_type": "stream",
     "text": [
      "F1-мера =  0.5956607495069033\n",
      "ROC-AUC-мера =  0.8467034902293781\n"
     ]
    }
   ],
   "source": [
    "predicted_test = model_cwb_RFC.predict(features_test)\n",
    "print('F1-мера = ', f1_score(target_test, predicted_test))\n",
    "\n",
    "probabilities_test = model_ups_RFC.predict_proba(features_test)\n",
    "probabilities_one_test = probabilities_test[:, 1]\n",
    "print('ROC-AUC-мера = ', roc_auc_score(target_test, probabilities_one_test))"
   ]
  },
  {
   "cell_type": "code",
   "execution_count": 23,
   "metadata": {},
   "outputs": [
    {
     "name": "stdout",
     "output_type": "stream",
     "text": [
      "F1-мера =  0.600349040139616\n",
      "ROC-AUC-мера =  0.8467034902293781\n"
     ]
    }
   ],
   "source": [
    "predicted_test = model_ups_RFC.predict(features_test)\n",
    "print('F1-мера = ', f1_score(target_test, predicted_test))\n",
    "\n",
    "probabilities_test = model_ups_RFC.predict_proba(features_test)\n",
    "probabilities_one_test = probabilities_test[:, 1]\n",
    "print('ROC-AUC-мера = ', roc_auc_score(target_test, probabilities_one_test))"
   ]
  },
  {
   "cell_type": "markdown",
   "metadata": {},
   "source": [
    "Все модели достигли челевого показателя f1-меры обозначенного в 0,59 на тестовой выборке. Значение показателя roc_auc является неизменным для всех моделей, так как он строится на одинаковых данных, учитывая все пороговые значения."
   ]
  },
  {
   "cell_type": "markdown",
   "metadata": {},
   "source": [
    "### Общий вывод"
   ]
  },
  {
   "cell_type": "markdown",
   "metadata": {},
   "source": [
    "В результате проекта, были загружены и подготовлены для дальнейшего анализа данные. Перед нами стояла задача повысить значение f1-меры и посмотреть как зависит от нее значение roc-auc-меры. Были исследованы модели решающего дерева и случайного леса без учета дисбаланса классов и с их учетом. \n",
    "\n",
    "В ходе обучения моделей наилучшей в своем поведении можно признать модель решающего дерева сбалансированную методом апсемплинга, проверенную на тестовой выборке, получены значения f1-меры - 0,6, и roc-auc-меры 0,85. Что касаемо взаиосвязи f1-меры и roc_auc-меры, чем меньше первая, тем больше вторая, и наоборот. При дисбалансе классов необходимо опираться на f1-меру. "
   ]
  }
 ],
 "metadata": {
  "kernelspec": {
   "display_name": "Python 3",
   "language": "python",
   "name": "python3"
  },
  "language_info": {
   "codemirror_mode": {
    "name": "ipython",
    "version": 3
   },
   "file_extension": ".py",
   "mimetype": "text/x-python",
   "name": "python",
   "nbconvert_exporter": "python",
   "pygments_lexer": "ipython3",
   "version": "3.7.3"
  }
 },
 "nbformat": 4,
 "nbformat_minor": 2
}
