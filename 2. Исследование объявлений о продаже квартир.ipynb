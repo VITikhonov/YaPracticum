{
 "cells": [
  {
   "cell_type": "markdown",
   "metadata": {},
   "source": [
    "# Исследование объявлений о продаже квартир\n",
    "\n",
    "В вашем распоряжении данные сервиса Яндекс.Недвижимость — архив объявлений о продаже квартир в Санкт-Петербурге и соседних населённых пунктов за несколько лет. Нужно научиться определять рыночную стоимость объектов недвижимости. Ваша задача — установить параметры. Это позволит построить автоматизированную систему: она отследит аномалии и мошенническую деятельность. \n",
    "\n",
    "По каждой квартире на продажу доступны два вида данных. Первые вписаны пользователем, вторые — получены автоматически на основе картографических данных. Например, расстояние до центра, аэропорта, ближайшего парка и водоёма. "
   ]
  },
  {
   "cell_type": "markdown",
   "metadata": {},
   "source": [
    "### Шаг 1. Откройте файл с данными и изучите общую информацию. "
   ]
  },
  {
   "cell_type": "code",
   "execution_count": 185,
   "metadata": {},
   "outputs": [
    {
     "name": "stdout",
     "output_type": "stream",
     "text": [
      "   total_images  last_price  total_area first_day_exposition  rooms  \\\n",
      "0            20  13000000.0       108.0  2019-03-07T00:00:00      3   \n",
      "1             7   3350000.0        40.4  2018-12-04T00:00:00      1   \n",
      "2            10   5196000.0        56.0  2015-08-20T00:00:00      2   \n",
      "3             0  64900000.0       159.0  2015-07-24T00:00:00      3   \n",
      "4             2  10000000.0       100.0  2018-06-19T00:00:00      2   \n",
      "\n",
      "   ceiling_height  floors_total  living_area  floor is_apartment  ...  \\\n",
      "0            2.70          16.0         51.0      8          NaN  ...   \n",
      "1             NaN          11.0         18.6      1          NaN  ...   \n",
      "2             NaN           5.0         34.3      4          NaN  ...   \n",
      "3             NaN          14.0          NaN      9          NaN  ...   \n",
      "4            3.03          14.0         32.0     13          NaN  ...   \n",
      "\n",
      "   kitchen_area  balcony    locality_name  airports_nearest  \\\n",
      "0          25.0      NaN  Санкт-Петербург           18863.0   \n",
      "1          11.0      2.0   посёлок Шушары           12817.0   \n",
      "2           8.3      0.0  Санкт-Петербург           21741.0   \n",
      "3           NaN      0.0  Санкт-Петербург           28098.0   \n",
      "4          41.0      NaN  Санкт-Петербург           31856.0   \n",
      "\n",
      "  cityCenters_nearest  parks_around3000  parks_nearest  ponds_around3000  \\\n",
      "0             16028.0               1.0          482.0               2.0   \n",
      "1             18603.0               0.0            NaN               0.0   \n",
      "2             13933.0               1.0           90.0               2.0   \n",
      "3              6800.0               2.0           84.0               3.0   \n",
      "4              8098.0               2.0          112.0               1.0   \n",
      "\n",
      "   ponds_nearest  days_exposition  \n",
      "0          755.0              NaN  \n",
      "1            NaN             81.0  \n",
      "2          574.0            558.0  \n",
      "3          234.0            424.0  \n",
      "4           48.0            121.0  \n",
      "\n",
      "[5 rows x 22 columns]\n",
      "\n",
      "<class 'pandas.core.frame.DataFrame'>\n",
      "RangeIndex: 23699 entries, 0 to 23698\n",
      "Data columns (total 22 columns):\n",
      "total_images            23699 non-null int64\n",
      "last_price              23699 non-null float64\n",
      "total_area              23699 non-null float64\n",
      "first_day_exposition    23699 non-null object\n",
      "rooms                   23699 non-null int64\n",
      "ceiling_height          14504 non-null float64\n",
      "floors_total            23613 non-null float64\n",
      "living_area             21796 non-null float64\n",
      "floor                   23699 non-null int64\n",
      "is_apartment            2775 non-null object\n",
      "studio                  23699 non-null bool\n",
      "open_plan               23699 non-null bool\n",
      "kitchen_area            21421 non-null float64\n",
      "balcony                 12180 non-null float64\n",
      "locality_name           23650 non-null object\n",
      "airports_nearest        18157 non-null float64\n",
      "cityCenters_nearest     18180 non-null float64\n",
      "parks_around3000        18181 non-null float64\n",
      "parks_nearest           8079 non-null float64\n",
      "ponds_around3000        18181 non-null float64\n",
      "ponds_nearest           9110 non-null float64\n",
      "days_exposition         20518 non-null float64\n",
      "dtypes: bool(2), float64(14), int64(3), object(3)\n",
      "memory usage: 3.7+ MB\n",
      "None\n"
     ]
    }
   ],
   "source": [
    "import pandas as pd\n",
    "import matplotlib.pyplot as plt\n",
    "import numpy as np\n",
    "\n",
    "data = pd.read_csv('/datasets/real_estate_data.csv', sep='\\t')\n",
    "print(data.head())\n",
    "print()\n",
    "print(data.info())"
   ]
  },
  {
   "cell_type": "markdown",
   "metadata": {},
   "source": [
    "### Вывод"
   ]
  },
  {
   "cell_type": "markdown",
   "metadata": {},
   "source": [
    "Датасет имеет 23699 строк и 22 колонки с данными, состоящих из информации указанных в объявлениях о продаже квартир в Санкт-Петербурге и в соседних населенных пунктах (количество этажей в доме, высота потолков, площадь кухни и др.). На первый взгляд можно отметить наличие пропусков в некоторых столбцах: высота потолков - возможно, не указаны в объявлении тем, кто его размещал; жилая площадь - скорее всего, не указано из-за того, не указана площадь кухни или объект является студией; в столбце is_apartment есть пропуски из-за того, что в столбце указывается сам факт наличия, соответственно все пропуски - это подтвержение факта отсутствия данного признака, будем считать NaN в is_apartment как не апартаменты; пропуски в столбце balcony указывают на отсутствие балкона в квартире/студии; пропуски в столбцах, указывающих на растояние до объекта, возможно, появились вследствии того, что эти данные не были указаны в объявлении. Так же встречается неверный тип данных в некоторых столбцах, например, last_price явно целочисленное значение и должно иметь тип данных int64, столбец first_day_exposition содержит в себе дату размещения объявления, соответственно вместо типа object должен бытть тип datetime64, а столбец is_apartment должен иметь bool тип в связи с тем, что столбец отвечает на вопрос апартаменты ли это, с ответом \"да\" (True) и \"нет\" (False), также необходимо заменить тип данных в столбцах floors_total, balcony, airports_nearest, cityCenters_nearest, parks_around3000, parks_nearest, ponds_around3000, ponds_nearest, days_exposition."
   ]
  },
  {
   "cell_type": "markdown",
   "metadata": {},
   "source": [
    "### Шаг 2. Предобработка данных"
   ]
  },
  {
   "cell_type": "code",
   "execution_count": 186,
   "metadata": {},
   "outputs": [
    {
     "name": "stdout",
     "output_type": "stream",
     "text": [
      "0\n",
      "\n",
      "total_images                0\n",
      "last_price                  0\n",
      "total_area                  0\n",
      "first_day_exposition        0\n",
      "rooms                       0\n",
      "ceiling_height           9195\n",
      "floors_total               86\n",
      "living_area              1903\n",
      "floor                       0\n",
      "is_apartment            20924\n",
      "studio                      0\n",
      "open_plan                   0\n",
      "kitchen_area             2278\n",
      "balcony                 11519\n",
      "locality_name              49\n",
      "airports_nearest         5542\n",
      "cityCenters_nearest      5519\n",
      "parks_around3000         5518\n",
      "parks_nearest           15620\n",
      "ponds_around3000         5518\n",
      "ponds_nearest           14589\n",
      "days_exposition          3181\n",
      "dtype: int64\n"
     ]
    }
   ],
   "source": [
    "print(data.duplicated().sum())\n",
    "print()\n",
    "print(data.isna().sum())"
   ]
  },
  {
   "cell_type": "markdown",
   "metadata": {},
   "source": [
    "Проверяя данные следует отметить, что дубликатов не обнаружено, следует заменить пропущенные значения. В столбце is_apartment заменим пропуски на False, тем самым укажем, объект не является апартаментами. Пропуски в столбцах living_area и  ceiling_height заменим медианным значением, на наш взягляд это релевантно. В столбцах floors_total и locality_name имеется незначительное количество пропущенных значений от общего объема данных - 0,004% и 0,002% соответственно, поэтому удалим строки содержащие пропуски в этих столбцах. В столбце kitchen_area заменим проопущенные значения для студий нулем, для всех остальных объектов - медианным значением. Пропуски в balcony заменим нулем, объявляя тем самым отсутствие балкона в данном объекте недвижимости. Пропуски обнаруженные в других столбцах не имеет смысла заменять на мединаные и средние значения ввиду последующего искажения данных, данные пропуски заменим на 0 и в дальнейшем учтем это при анализе данных в заимосвязях."
   ]
  },
  {
   "cell_type": "code",
   "execution_count": 188,
   "metadata": {},
   "outputs": [],
   "source": [
    "data['is_apartment'] = data['is_apartment'].fillna(False)\n",
    "\n",
    "ceiling_height_median = data['ceiling_height'].median()\n",
    "data['ceiling_height'] = data['ceiling_height'].fillna(ceiling_height_median)\n",
    "\n",
    "data.dropna(subset = ['floors_total'], inplace = True)\n",
    "data.dropna(subset = ['locality_name'], inplace = True)\n",
    "\n",
    "living_area_median = data['living_area'].median()\n",
    "data['living_area'] = data['living_area'].fillna(living_area_median)\n",
    "\n",
    "data.query('studio==True')['kitchen_area'].fillna(value=0, inplace=True)\n",
    "data.query('studio==True')['kitchen_area'].isna().sum()\n",
    "data.loc[data['studio'] & data['kitchen_area'].isna(), 'kitchen_area'] = 0.0\n",
    "kitchen_area_median = data['kitchen_area'].median()\n",
    "data['kitchen_area'] = data['kitchen_area'].fillna(kitchen_area_median)\n",
    "\n",
    "data['balcony'] = data['balcony'].fillna(0)\n",
    "\n",
    "data['airports_nearest'] = data['airports_nearest'].fillna(0)\n",
    "data['cityCenters_nearest'] = data['cityCenters_nearest'].fillna(0)\n",
    "data['parks_around3000'] = data['parks_around3000'].fillna(0)\n",
    "data['parks_nearest'] = data['parks_around3000'].fillna(0)\n",
    "data['ponds_around3000'] = data['ponds_around3000'].fillna(0)\n",
    "data['ponds_nearest'] = data['parks_around3000'].fillna(0)\n",
    "data['days_exposition'] = data['days_exposition'].fillna(0)"
   ]
  },
  {
   "cell_type": "code",
   "execution_count": 189,
   "metadata": {},
   "outputs": [
    {
     "name": "stdout",
     "output_type": "stream",
     "text": [
      "total_images            0\n",
      "last_price              0\n",
      "total_area              0\n",
      "first_day_exposition    0\n",
      "rooms                   0\n",
      "ceiling_height          0\n",
      "floors_total            0\n",
      "living_area             0\n",
      "floor                   0\n",
      "is_apartment            0\n",
      "studio                  0\n",
      "open_plan               0\n",
      "kitchen_area            0\n",
      "balcony                 0\n",
      "locality_name           0\n",
      "airports_nearest        0\n",
      "cityCenters_nearest     0\n",
      "parks_around3000        0\n",
      "parks_nearest           0\n",
      "ponds_around3000        0\n",
      "ponds_nearest           0\n",
      "days_exposition         0\n",
      "dtype: int64\n"
     ]
    }
   ],
   "source": [
    "print(data.isna().sum())"
   ]
  },
  {
   "cell_type": "markdown",
   "metadata": {},
   "source": [
    "Все пропуски успешно заменены наиболее подходящими значениями, теперь изменим тип данных."
   ]
  },
  {
   "cell_type": "code",
   "execution_count": 190,
   "metadata": {},
   "outputs": [
    {
     "name": "stdout",
     "output_type": "stream",
     "text": [
      "<class 'pandas.core.frame.DataFrame'>\n",
      "Int64Index: 23565 entries, 0 to 23698\n",
      "Data columns (total 22 columns):\n",
      "total_images            23565 non-null int64\n",
      "last_price              23565 non-null int64\n",
      "total_area              23565 non-null float64\n",
      "first_day_exposition    23565 non-null datetime64[ns]\n",
      "rooms                   23565 non-null int64\n",
      "ceiling_height          23565 non-null int64\n",
      "floors_total            23565 non-null int64\n",
      "living_area             23565 non-null float64\n",
      "floor                   23565 non-null int64\n",
      "is_apartment            23565 non-null bool\n",
      "studio                  23565 non-null bool\n",
      "open_plan               23565 non-null bool\n",
      "kitchen_area            23565 non-null float64\n",
      "balcony                 23565 non-null int64\n",
      "locality_name           23565 non-null object\n",
      "airports_nearest        23565 non-null int64\n",
      "cityCenters_nearest     23565 non-null int64\n",
      "parks_around3000        23565 non-null int64\n",
      "parks_nearest           23565 non-null int64\n",
      "ponds_around3000        23565 non-null int64\n",
      "ponds_nearest           23565 non-null int64\n",
      "days_exposition         23565 non-null int64\n",
      "dtypes: bool(3), datetime64[ns](1), float64(3), int64(14), object(1)\n",
      "memory usage: 3.7+ MB\n",
      "None\n"
     ]
    }
   ],
   "source": [
    "data = data.astype({\"last_price\":'int64',\n",
    "                    \"floors_total\":'int64',\n",
    "                    \"balcony\":'int64',\n",
    "                    \"airports_nearest\":'int64',\n",
    "                    \"cityCenters_nearest\":'int64',\n",
    "                    \"parks_around3000\":'int64',\n",
    "                    \"parks_nearest\":'int64',\n",
    "                    \"ponds_around3000\":'int64',\n",
    "                    \"ponds_nearest\":'int64',\n",
    "                    \"days_exposition\":'int64',\n",
    "                    \"ceiling_height\":'int64'})\n",
    "\n",
    "data['living_area'] = pd.to_numeric(data['living_area'], errors='coerce')\n",
    "data['first_day_exposition'] = pd.to_datetime(data['first_day_exposition'], format = '%Y-%m-%dT%H:%M:%S')\n",
    "\n",
    "print(data.info())"
   ]
  },
  {
   "cell_type": "markdown",
   "metadata": {},
   "source": [
    "Замена типа данных завершена, каждый столбец теперь соответствует требованиям обозначенным в начале проекта.\n",
    "Все целочисленные значения переведены в тип данных int64 (такие как количество комнат, количество этажей, последняя цена), а нецелочисленные приведены к типу данных float64 (площади). Оставлены без изменения булевы данные (is_apartment, studio, open_plan), а также данные о названии населенного пункта locality_name с типом данных object."
   ]
  },
  {
   "cell_type": "markdown",
   "metadata": {},
   "source": [
    "### Шаг 3. Посчитайте и добавьте в таблицу"
   ]
  },
  {
   "cell_type": "markdown",
   "metadata": {},
   "source": [
    "Добавим в таблицу столбец, содержащий стоимость квадратного метра."
   ]
  },
  {
   "cell_type": "code",
   "execution_count": 191,
   "metadata": {},
   "outputs": [],
   "source": [
    "data['price_per_meter'] = data['last_price']/data['total_area']"
   ]
  },
  {
   "cell_type": "markdown",
   "metadata": {},
   "source": [
    "Добавим столбцы с днем недели, месяцем и годом пуликации объявления"
   ]
  },
  {
   "cell_type": "code",
   "execution_count": 192,
   "metadata": {},
   "outputs": [],
   "source": [
    "data['day_of_week'] = data['first_day_exposition'].dt.weekday\n",
    "data['month'] = data['first_day_exposition'].dt.month\n",
    "data['year'] = data['first_day_exposition'].dt.year"
   ]
  },
  {
   "cell_type": "markdown",
   "metadata": {},
   "source": [
    "Добавим словесное описание этажа, на котором располагается объект (первый, последний, другой)"
   ]
  },
  {
   "cell_type": "code",
   "execution_count": 193,
   "metadata": {},
   "outputs": [],
   "source": [
    "def what_floor(row):\n",
    "    f_t = row['floors_total']\n",
    "    f = row['floor']\n",
    "    if 1 == f:\n",
    "        return '1. первый'\n",
    "    if f_t == f:\n",
    "        return '3. последний'\n",
    "    else:\n",
    "        return '2. другой'\n",
    "    \n",
    "data['what_floor'] = data.apply(what_floor, axis = 1)"
   ]
  },
  {
   "cell_type": "markdown",
   "metadata": {},
   "source": [
    "Добавим соотношение жилой площади к общей и соотношение площади кухни к общей площади."
   ]
  },
  {
   "cell_type": "code",
   "execution_count": 194,
   "metadata": {},
   "outputs": [],
   "source": [
    "data['living_total_area_ratio'] = data['living_area']/data['total_area']\n",
    "data['kitchen_total_area_ratio'] = data['kitchen_area']/data['total_area']"
   ]
  },
  {
   "cell_type": "markdown",
   "metadata": {},
   "source": [
    "### Шаг 4. Проведите исследовательский анализ данных и выполните инструкции:"
   ]
  },
  {
   "cell_type": "markdown",
   "metadata": {},
   "source": [
    "Изучим следующие параметры: площадь, цена, число комнат, высота потолков. Построим гистограммы для каждого параметра."
   ]
  },
  {
   "cell_type": "code",
   "execution_count": 195,
   "metadata": {},
   "outputs": [
    {
     "name": "stdout",
     "output_type": "stream",
     "text": [
      "count    23565.000000\n",
      "mean        60.322824\n",
      "std         35.657060\n",
      "min         12.000000\n",
      "25%         40.000000\n",
      "50%         52.000000\n",
      "75%         69.700000\n",
      "max        900.000000\n",
      "Name: total_area, dtype: float64\n",
      "52.0\n"
     ]
    },
    {
     "data": {
      "image/png": "[encoded data removed]",
      "text/plain": [
       "<Figure size 432x288 with 1 Axes>"
      ]
     },
     "metadata": {
      "needs_background": "light"
     },
     "output_type": "display_data"
    },
    {
     "name": "stdout",
     "output_type": "stream",
     "text": [
      "count    2.356500e+04\n",
      "mean     6.540058e+06\n",
      "std      1.091093e+07\n",
      "min      1.219000e+04\n",
      "25%      3.400000e+06\n",
      "50%      4.646000e+06\n",
      "75%      6.790000e+06\n",
      "max      7.630000e+08\n",
      "Name: last_price, dtype: float64\n",
      "4646000.0\n"
     ]
    },
    {
     "data": {
      "image/png": "[encoded data removed]",
      "text/plain": [
       "<Figure size 432x288 with 1 Axes>"
      ]
     },
     "metadata": {
      "needs_background": "light"
     },
     "output_type": "display_data"
    },
    {
     "name": "stdout",
     "output_type": "stream",
     "text": [
      "count    23565.000000\n",
      "mean         2.070656\n",
      "std          1.078591\n",
      "min          0.000000\n",
      "25%          1.000000\n",
      "50%          2.000000\n",
      "75%          3.000000\n",
      "max         19.000000\n",
      "Name: rooms, dtype: float64\n",
      "2.0\n"
     ]
    },
    {
     "data": {
      "image/png": "[encoded data removed]",
      "text/plain": [
       "<Figure size 432x288 with 1 Axes>"
      ]
     },
     "metadata": {
      "needs_background": "light"
     },
     "output_type": "display_data"
    },
    {
     "name": "stdout",
     "output_type": "stream",
     "text": [
      "count    23565.000000\n",
      "mean         2.142839\n",
      "std          1.036042\n",
      "min          1.000000\n",
      "25%          2.000000\n",
      "50%          2.000000\n",
      "75%          2.000000\n",
      "max        100.000000\n",
      "Name: ceiling_height, dtype: float64\n",
      "2.0\n"
     ]
    },
    {
     "data": {
      "image/png": "[encoded data removed]",
      "text/plain": [
       "<Figure size 432x288 with 1 Axes>"
      ]
     },
     "metadata": {
      "needs_background": "light"
     },
     "output_type": "display_data"
    }
   ],
   "source": [
    "print(data['total_area'].describe())\n",
    "print(data['total_area'].median())\n",
    "data['total_area'].hist(bins=300, range=(11, 901))\n",
    "plt.xlabel('Total area')\n",
    "plt.ylabel('Quantity')\n",
    "plt.show()\n",
    "\n",
    "print(data['last_price'].describe())\n",
    "print(data['last_price'].median())\n",
    "data['last_price'].hist(bins=50, range=(12000, 763000001))\n",
    "plt.xlabel('Last price')\n",
    "plt.ylabel('Quantity')\n",
    "plt.show()\n",
    "\n",
    "print(data['rooms'].describe())\n",
    "print(data['rooms'].median())\n",
    "data['rooms'].hist(bins=20, range=(0, 19))\n",
    "plt.xlabel('Rooms')\n",
    "plt.ylabel('Quantity')\n",
    "plt.show()\n",
    "\n",
    "print(data['ceiling_height'].describe())\n",
    "print(data['ceiling_height'].median())\n",
    "data['ceiling_height'].hist(bins=10, range=(1, 100))\n",
    "plt.xlabel('Ceiling height')\n",
    "plt.ylabel('Quantity')\n",
    "plt.show()"
   ]
  },
  {
   "cell_type": "code",
   "execution_count": 196,
   "metadata": {},
   "outputs": [
    {
     "data": {
      "image/png": "[encoded data removed]",
      "text/plain": [
       "<Figure size 432x288 with 4 Axes>"
      ]
     },
     "metadata": {
      "needs_background": "light"
     },
     "output_type": "display_data"
    }
   ],
   "source": [
    "\n",
    "df=pd.DataFrame({'Total area':data['total_area'],'Last price':data['last_price'],'Rooms':data['rooms'],'Ceiling height':data['ceiling_height']}, columns=['Total area', 'Last price', 'Rooms', 'Ceiling height'])\n",
    "ax = df.hist(bins=100)\n",
    "plt.show()\n"
   ]
  },
  {
   "cell_type": "markdown",
   "metadata": {},
   "source": [
    "Средняя площадь размещаемых объектов недвижимости равна 60,32 квадратных метра, а медианное - 52 квадратных метра. Минимальная площадь при этом 12 квадратных метров. а макисмальная - 900 квадратных метров, что говорит о достаточно большом разбросе анализируемых значений. Гистограмма. построенная на данных о площади жилья имеет нормальное распределение, но имеются так же и выбросы, так например, аномальными, на первый взгляд, представляются значения свыше 190 квадратных метров, их количество мало в сравнении с другими значениями. \n",
    "\n",
    "Стоимость анализируемых объектов в среднем составляет 6540 тыс. рублей, что близко к медианному значению стоимости - 4646 тыс. рублей. Разброс значений стоимости достаточно большой (минимальное - 12190 рублей, и максимальное - 763 млн. рублей), так же странным значением кажется минимальная стоимость объекта, всего 12190 рублей, скорее всего это значение является выбросом. Гистограмма, построенная на данных о стоимости недвижимости имеет распределение Пуассона, и не дает явного представления о данных.\n",
    "\n",
    "Количество комнат в анализируемых объявлений в среднем на один объект равно двум, что равно и медианному значению. Минимальное количество комнат - 0, то есть квартиры-студии или со свободной планировкой. Максимальное - 19 комнат. Гистограмма имеет нормальное распределение.\n",
    "\n",
    "Говоря о данных о высоте потолков отметим, что минимальное значение - 1 метр, что скорее не реально, а максимальное - 100 метров, что так же представялется нереальным, скорее всего это выбросы, некорректно заполненные графы в объявлениях."
   ]
  },
  {
   "cell_type": "markdown",
   "metadata": {},
   "source": [
    "Изучим время продажи квартиры и построим гистограмму, найдем среднее и медиану."
   ]
  },
  {
   "cell_type": "code",
   "execution_count": 198,
   "metadata": {},
   "outputs": [
    {
     "name": "stdout",
     "output_type": "stream",
     "text": [
      "Медиана = 73.0\n",
      "count    23565.000000\n",
      "mean       156.420115\n",
      "std        213.517293\n",
      "min          0.000000\n",
      "25%         22.000000\n",
      "50%         73.000000\n",
      "75%        198.000000\n",
      "max       1580.000000\n",
      "Name: days_exposition, dtype: float64\n"
     ]
    },
    {
     "data": {
      "image/png": "[encoded data removed]",
      "text/plain": [
       "<Figure size 432x288 with 1 Axes>"
      ]
     },
     "metadata": {
      "needs_background": "light"
     },
     "output_type": "display_data"
    },
    {
     "data": {
      "image/png": "[encoded data removed]",
      "text/plain": [
       "<Figure size 432x288 with 1 Axes>"
      ]
     },
     "metadata": {
      "needs_background": "light"
     },
     "output_type": "display_data"
    }
   ],
   "source": [
    "print('Медиана =', data['days_exposition'].median())\n",
    "print(data['days_exposition'].describe())\n",
    "data['days_exposition'].hist(bins=10, range=(1, 1600))\n",
    "plt.show()\n",
    "data['days_exposition'].hist(bins=30, range=(1, 400))\n",
    "plt.show()"
   ]
  },
  {
   "cell_type": "markdown",
   "metadata": {},
   "source": [
    "Обычно продажа занимает от 45 до 60 дней. Продажа прошла быстро в том случае, с момента публикации объявление до снятия прошло до 22 дней, медленно - свыше 200 дней. Среднее значение - 156 дней. медианное - 73 дня."
   ]
  },
  {
   "cell_type": "markdown",
   "metadata": {},
   "source": [
    "Уберем редкие и выбивающиеся значения."
   ]
  },
  {
   "cell_type": "code",
   "execution_count": 199,
   "metadata": {},
   "outputs": [
    {
     "data": {
      "image/png": "[encoded data removed]",
      "text/plain": [
       "<Figure size 1080x216 with 1 Axes>"
      ]
     },
     "metadata": {
      "needs_background": "light"
     },
     "output_type": "display_data"
    },
    {
     "data": {
      "image/png": "[encoded data removed]",
      "text/plain": [
       "<Figure size 1080x216 with 1 Axes>"
      ]
     },
     "metadata": {
      "needs_background": "light"
     },
     "output_type": "display_data"
    },
    {
     "data": {
      "image/png": "[encoded data removed]",
      "text/plain": [
       "<Figure size 1080x216 with 1 Axes>"
      ]
     },
     "metadata": {
      "needs_background": "light"
     },
     "output_type": "display_data"
    },
    {
     "data": {
      "image/png": "[encoded data removed]",
      "text/plain": [
       "<Figure size 1080x216 with 1 Axes>"
      ]
     },
     "metadata": {
      "needs_background": "light"
     },
     "output_type": "display_data"
    },
    {
     "data": {
      "image/png": "[encoded data removed]",
      "text/plain": [
       "<Figure size 1080x216 with 1 Axes>"
      ]
     },
     "metadata": {
      "needs_background": "light"
     },
     "output_type": "display_data"
    }
   ],
   "source": [
    "a = data.boxplot('total_area', vert=False, figsize=(15, 3), return_type='dict')\n",
    "plt.show()\n",
    "b = data.boxplot('last_price', vert=False, figsize=(15, 3), return_type='dict')\n",
    "plt.show()\n",
    "c = data.boxplot('rooms', vert=False, figsize=(15, 3), return_type='dict')\n",
    "plt.show()\n",
    "d = data.boxplot('ceiling_height', vert=False, figsize=(15, 3), return_type='dict')\n",
    "plt.show()\n",
    "e = data.boxplot('days_exposition', vert=False, figsize=(15, 3), return_type='dict')\n",
    "plt.show()"
   ]
  },
  {
   "cell_type": "code",
   "execution_count": 200,
   "metadata": {},
   "outputs": [
    {
     "name": "stdout",
     "output_type": "stream",
     "text": [
      "[array([40., 12.]), array([ 69.7, 114.2])]\n",
      "[array([3400000.,   12190.]), array([ 6790000., 11866860.])]\n",
      "[array([1., 0.]), array([3., 6.])]\n",
      "[array([2., 2.]), array([2., 2.])]\n",
      "[array([22.,  0.]), array([198., 462.])]\n"
     ]
    }
   ],
   "source": [
    "whiskers_a = [item.get_xdata() for item in a['whiskers']]\n",
    "print(whiskers_a)\n",
    "whiskers_b = [item.get_xdata() for item in b['whiskers']]\n",
    "print(whiskers_b)\n",
    "whiskers_c = [item.get_xdata() for item in c['whiskers']]\n",
    "print(whiskers_c)\n",
    "whiskers_d = [item.get_xdata() for item in d['whiskers']]\n",
    "print(whiskers_d)\n",
    "whiskers_e = [item.get_xdata() for item in e['whiskers']]\n",
    "print(whiskers_e)"
   ]
  },
  {
   "cell_type": "code",
   "execution_count": 201,
   "metadata": {},
   "outputs": [],
   "source": [
    "total_area_median = data['total_area'].median()\n",
    "def n_t_a(total_area):\n",
    "    global total_area_median\n",
    "    if total_area < 12:\n",
    "        return total_area_median\n",
    "    if total_area > 114.2:\n",
    "        return total_area_median\n",
    "    else:\n",
    "        return total_area\n",
    "data['new_total_area'] = data['total_area'].apply(n_t_a)\n",
    "\n",
    "\n",
    "last_price_median = data['last_price'].median()\n",
    "def n_l_p(last_price):\n",
    "    global last_price_median\n",
    "    if last_price < 12190:\n",
    "        return last_price_median\n",
    "    if last_price > 11866860:\n",
    "        return last_price_median\n",
    "    else:\n",
    "        return last_price\n",
    "data['new_last_price'] = data['last_price'].apply(n_l_p)\n",
    "\n",
    "\n",
    "rooms_median = data['rooms'].median()\n",
    "def n_r(rooms):\n",
    "    global rooms_median\n",
    "    if rooms < 0:\n",
    "        return rooms_median\n",
    "    if rooms > 6:\n",
    "        return rooms_median\n",
    "    else:\n",
    "        return rooms\n",
    "data['new_rooms'] = data['rooms'].apply(n_r)\n",
    "\n",
    "\n",
    "ceiling_height_median = data['ceiling_height'].median()\n",
    "def n_c_h(ceiling_height):\n",
    "    global ceiling_height_median\n",
    "    if ceiling_height < 2:\n",
    "        return ceiling_height_median\n",
    "    if ceiling_height > 2:\n",
    "        return ceiling_height_median\n",
    "    else:\n",
    "        return ceiling_height\n",
    "data['new_ceiling_height'] = data['ceiling_height'].apply(n_c_h)\n",
    "\n",
    "\n",
    "days_exposition_median = data['days_exposition'].median()\n",
    "def n_d_e(days_exposition):\n",
    "    global days_exposition_median\n",
    "    if days_exposition < 1:\n",
    "        return days_exposition_median\n",
    "    if days_exposition > 462:\n",
    "        return days_exposition_median\n",
    "    else:\n",
    "        return days_exposition\n",
    "data['new_days_exposition'] = data['days_exposition'].apply(n_d_e)"
   ]
  },
  {
   "cell_type": "markdown",
   "metadata": {},
   "source": [
    "Механика действий при поиске выбросов и аномальных значений: строим диаграмму размаха для каждого из параметров, она показывает какие значения можно считать нормальными, а какие - выбросами (обозначены точками). Получаем граница, в рамках которых находятся нормальные значения, затем строим новые гистограммы, отражающие нормальное распеределение данных."
   ]
  },
  {
   "cell_type": "code",
   "execution_count": 202,
   "metadata": {},
   "outputs": [
    {
     "data": {
      "image/png": "[encoded data removed]",
      "text/plain": [
       "<Figure size 432x288 with 1 Axes>"
      ]
     },
     "metadata": {
      "needs_background": "light"
     },
     "output_type": "display_data"
    },
    {
     "data": {
      "image/png": "[encoded data removed]",
      "text/plain": [
       "<Figure size 432x288 with 1 Axes>"
      ]
     },
     "metadata": {
      "needs_background": "light"
     },
     "output_type": "display_data"
    },
    {
     "data": {
      "image/png": "[encoded data removed]",
      "text/plain": [
       "<Figure size 432x288 with 1 Axes>"
      ]
     },
     "metadata": {
      "needs_background": "light"
     },
     "output_type": "display_data"
    },
    {
     "data": {
      "image/png": "[encoded data removed]",
      "text/plain": [
       "<Figure size 432x288 with 1 Axes>"
      ]
     },
     "metadata": {
      "needs_background": "light"
     },
     "output_type": "display_data"
    },
    {
     "data": {
      "image/png": "[encoded data removed]",
      "text/plain": [
       "<Figure size 432x288 with 1 Axes>"
      ]
     },
     "metadata": {
      "needs_background": "light"
     },
     "output_type": "display_data"
    }
   ],
   "source": [
    "data['new_total_area'].hist(bins=10)\n",
    "plt.show()\n",
    "\n",
    "data['new_last_price'].hist(bins=10)\n",
    "plt.show()\n",
    "\n",
    "data['new_rooms'].hist(bins=7)\n",
    "plt.show()\n",
    "\n",
    "data['new_ceiling_height'].hist(bins=10)\n",
    "plt.show()\n",
    "\n",
    "data['new_days_exposition'].hist(bins=10)\n",
    "plt.show()"
   ]
  },
  {
   "cell_type": "markdown",
   "metadata": {},
   "source": [
    "При анализе можно отметить, что обнаружены характерные выбросы и редкие значения в данных о площади, наверняка, они реальны, просто выбиваются из общего числа, равно как и данные о стоимости - выбросов также достаточно много (чем больше квадратных метров, тем больше стоимость недвижимости - закономерно). Из-за значения в 100 метров считаем неадекватным анализ параметра высоты потолков, физически не может быть такой большой высоты, ровно как и значения 7 метров и выше. В целом данные обрели нормальный вид и имеют нормальное распределение."
   ]
  },
  {
   "cell_type": "markdown",
   "metadata": {},
   "source": [
    "Какие факторы больше всего влияют на стоимость квартиры? Изучите, зависит ли цена от квадратного метра, числа комнат, удалённости от центра. Изучите зависимость цены от того, на каком этаже расположена квартира: первом, последнем или другом. Также изучите зависимость от даты размещения: дня недели, месяца и года."
   ]
  },
  {
   "cell_type": "code",
   "execution_count": 203,
   "metadata": {},
   "outputs": [
    {
     "name": "stdout",
     "output_type": "stream",
     "text": [
      "0.5999853784522478\n",
      "0.38171643978598\n",
      "0.10935021788441357\n"
     ]
    },
    {
     "data": {
      "text/html": [
       "<style  type=\"text/css\" >\n",
       "</style><table id=\"T_8e26832c_4754_11ea_9eed_02420a001f5b\" ><thead>    <tr>        <th class=\"blank level0\" ></th>        <th class=\"col_heading level0 col0\" >new_last_price</th>    </tr>    <tr>        <th class=\"index_name level0\" >what_floor</th>        <th class=\"blank\" ></th>    </tr></thead><tbody>\n",
       "                <tr>\n",
       "                        <th id=\"T_8e26832c_4754_11ea_9eed_02420a001f5blevel0_row0\" class=\"row_heading level0 row0\" >1. первый</th>\n",
       "                        <td id=\"T_8e26832c_4754_11ea_9eed_02420a001f5brow0_col0\" class=\"data row0 col0\" >4145755.597799931</td>\n",
       "            </tr>\n",
       "            <tr>\n",
       "                        <th id=\"T_8e26832c_4754_11ea_9eed_02420a001f5blevel0_row1\" class=\"row_heading level0 row1\" >2. другой</th>\n",
       "                        <td id=\"T_8e26832c_4754_11ea_9eed_02420a001f5brow1_col0\" class=\"data row1 col0\" >4995788.844280273</td>\n",
       "            </tr>\n",
       "            <tr>\n",
       "                        <th id=\"T_8e26832c_4754_11ea_9eed_02420a001f5blevel0_row2\" class=\"row_heading level0 row2\" >3. последний</th>\n",
       "                        <td id=\"T_8e26832c_4754_11ea_9eed_02420a001f5brow2_col0\" class=\"data row2 col0\" >4498061.080480481</td>\n",
       "            </tr>\n",
       "    </tbody></table>"
      ],
      "text/plain": [
       "<pandas.io.formats.style.Styler at 0x7fa93aba6b00>"
      ]
     },
     "execution_count": 203,
     "metadata": {},
     "output_type": "execute_result"
    }
   ],
   "source": [
    "print(data['new_last_price'].corr(data['new_total_area']))\n",
    "print(data['new_last_price'].corr(data['new_rooms']))\n",
    "print(data['new_last_price'].corr(data['cityCenters_nearest']))\n",
    "\n",
    "res_nlp_floor = data.pivot_table(index = 'what_floor', values = 'new_last_price')\n",
    "res_nlp_floor.style.format(\"{}\")\n"
   ]
  },
  {
   "cell_type": "markdown",
   "metadata": {},
   "source": [
    "Анализируя взаимосвязь данных о стоимости недвижимости с другими параметрами можно обозначить, что в большей степени на стоимость объекта влияет площадь этого объекта, другими словами, чем больше площадь, тем больше стоимость объекта. Количество комнат и удаленность от центра также положительно сказываются на увеличение стоимости объекта.\n",
    "\n",
    "Что примечательно, средняя стоимость объектов на первом и последнем этажах сопоставима и отличается от стоимости объектов, размещенных на других этажах. Таким образом квартиры на первом и последнем этажах дешевле, чем квартира ну любом другом этаже."
   ]
  },
  {
   "cell_type": "code",
   "execution_count": 204,
   "metadata": {},
   "outputs": [
    {
     "data": {
      "text/html": [
       "<style  type=\"text/css\" >\n",
       "</style><table id=\"T_8ebd93c0_4754_11ea_9eed_02420a001f5b\" ><thead>    <tr>        <th class=\"blank level0\" ></th>        <th class=\"col_heading level0 col0\" >new_last_price</th>    </tr>    <tr>        <th class=\"index_name level0\" >day_of_week</th>        <th class=\"blank\" ></th>    </tr></thead><tbody>\n",
       "                <tr>\n",
       "                        <th id=\"T_8ebd93c0_4754_11ea_9eed_02420a001f5blevel0_row0\" class=\"row_heading level0 row0\" >0</th>\n",
       "                        <td id=\"T_8ebd93c0_4754_11ea_9eed_02420a001f5brow0_col0\" class=\"data row0 col0\" >4820269.350111235</td>\n",
       "            </tr>\n",
       "            <tr>\n",
       "                        <th id=\"T_8ebd93c0_4754_11ea_9eed_02420a001f5blevel0_row1\" class=\"row_heading level0 row1\" >1</th>\n",
       "                        <td id=\"T_8ebd93c0_4754_11ea_9eed_02420a001f5brow1_col0\" class=\"data row1 col0\" >4875341.313956281</td>\n",
       "            </tr>\n",
       "            <tr>\n",
       "                        <th id=\"T_8ebd93c0_4754_11ea_9eed_02420a001f5blevel0_row2\" class=\"row_heading level0 row2\" >2</th>\n",
       "                        <td id=\"T_8ebd93c0_4754_11ea_9eed_02420a001f5brow2_col0\" class=\"data row2 col0\" >4849489.12993921</td>\n",
       "            </tr>\n",
       "            <tr>\n",
       "                        <th id=\"T_8ebd93c0_4754_11ea_9eed_02420a001f5blevel0_row3\" class=\"row_heading level0 row3\" >3</th>\n",
       "                        <td id=\"T_8ebd93c0_4754_11ea_9eed_02420a001f5brow3_col0\" class=\"data row3 col0\" >4825857.238774556</td>\n",
       "            </tr>\n",
       "            <tr>\n",
       "                        <th id=\"T_8ebd93c0_4754_11ea_9eed_02420a001f5blevel0_row4\" class=\"row_heading level0 row4\" >4</th>\n",
       "                        <td id=\"T_8ebd93c0_4754_11ea_9eed_02420a001f5brow4_col0\" class=\"data row4 col0\" >4802025.61080402</td>\n",
       "            </tr>\n",
       "            <tr>\n",
       "                        <th id=\"T_8ebd93c0_4754_11ea_9eed_02420a001f5blevel0_row5\" class=\"row_heading level0 row5\" >5</th>\n",
       "                        <td id=\"T_8ebd93c0_4754_11ea_9eed_02420a001f5brow5_col0\" class=\"data row5 col0\" >4723163.590411672</td>\n",
       "            </tr>\n",
       "            <tr>\n",
       "                        <th id=\"T_8ebd93c0_4754_11ea_9eed_02420a001f5blevel0_row6\" class=\"row_heading level0 row6\" >6</th>\n",
       "                        <td id=\"T_8ebd93c0_4754_11ea_9eed_02420a001f5brow6_col0\" class=\"data row6 col0\" >4758697.549613785</td>\n",
       "            </tr>\n",
       "    </tbody></table>"
      ],
      "text/plain": [
       "<pandas.io.formats.style.Styler at 0x7fa91e41dfd0>"
      ]
     },
     "execution_count": 204,
     "metadata": {},
     "output_type": "execute_result"
    }
   ],
   "source": [
    "res_nlp_day = data.pivot_table(index = 'day_of_week', values = 'new_last_price')\n",
    "res_nlp_day.style.format(\"{}\")"
   ]
  },
  {
   "cell_type": "markdown",
   "metadata": {},
   "source": [
    "Анализируя данные, не удается выявить существенную разницу в стоимости объекта в зависимости от дня недели, в которое было размещено объявление."
   ]
  },
  {
   "cell_type": "code",
   "execution_count": 205,
   "metadata": {},
   "outputs": [
    {
     "data": {
      "text/html": [
       "<style  type=\"text/css\" >\n",
       "</style><table id=\"T_8f74af7e_4754_11ea_9eed_02420a001f5b\" ><thead>    <tr>        <th class=\"blank level0\" ></th>        <th class=\"col_heading level0 col0\" >new_last_price</th>    </tr>    <tr>        <th class=\"index_name level0\" >month</th>        <th class=\"blank\" ></th>    </tr></thead><tbody>\n",
       "                <tr>\n",
       "                        <th id=\"T_8f74af7e_4754_11ea_9eed_02420a001f5blevel0_row0\" class=\"row_heading level0 row0\" >1</th>\n",
       "                        <td id=\"T_8f74af7e_4754_11ea_9eed_02420a001f5brow0_col0\" class=\"data row0 col0\" >4778459.872898453</td>\n",
       "            </tr>\n",
       "            <tr>\n",
       "                        <th id=\"T_8f74af7e_4754_11ea_9eed_02420a001f5blevel0_row1\" class=\"row_heading level0 row1\" >2</th>\n",
       "                        <td id=\"T_8f74af7e_4754_11ea_9eed_02420a001f5brow1_col0\" class=\"data row1 col0\" >4818416.191198786</td>\n",
       "            </tr>\n",
       "            <tr>\n",
       "                        <th id=\"T_8f74af7e_4754_11ea_9eed_02420a001f5blevel0_row2\" class=\"row_heading level0 row2\" >3</th>\n",
       "                        <td id=\"T_8f74af7e_4754_11ea_9eed_02420a001f5brow2_col0\" class=\"data row2 col0\" >4783238.682330097</td>\n",
       "            </tr>\n",
       "            <tr>\n",
       "                        <th id=\"T_8f74af7e_4754_11ea_9eed_02420a001f5blevel0_row3\" class=\"row_heading level0 row3\" >4</th>\n",
       "                        <td id=\"T_8f74af7e_4754_11ea_9eed_02420a001f5brow3_col0\" class=\"data row3 col0\" >4918339.786926995</td>\n",
       "            </tr>\n",
       "            <tr>\n",
       "                        <th id=\"T_8f74af7e_4754_11ea_9eed_02420a001f5blevel0_row4\" class=\"row_heading level0 row4\" >5</th>\n",
       "                        <td id=\"T_8f74af7e_4754_11ea_9eed_02420a001f5brow4_col0\" class=\"data row4 col0\" >4792602.639175258</td>\n",
       "            </tr>\n",
       "            <tr>\n",
       "                        <th id=\"T_8f74af7e_4754_11ea_9eed_02420a001f5blevel0_row5\" class=\"row_heading level0 row5\" >6</th>\n",
       "                        <td id=\"T_8f74af7e_4754_11ea_9eed_02420a001f5brow5_col0\" class=\"data row5 col0\" >4672643.574127075</td>\n",
       "            </tr>\n",
       "            <tr>\n",
       "                        <th id=\"T_8f74af7e_4754_11ea_9eed_02420a001f5blevel0_row6\" class=\"row_heading level0 row6\" >7</th>\n",
       "                        <td id=\"T_8f74af7e_4754_11ea_9eed_02420a001f5brow6_col0\" class=\"data row6 col0\" >4815895.353499407</td>\n",
       "            </tr>\n",
       "            <tr>\n",
       "                        <th id=\"T_8f74af7e_4754_11ea_9eed_02420a001f5blevel0_row7\" class=\"row_heading level0 row7\" >8</th>\n",
       "                        <td id=\"T_8f74af7e_4754_11ea_9eed_02420a001f5brow7_col0\" class=\"data row7 col0\" >4821010.987924094</td>\n",
       "            </tr>\n",
       "            <tr>\n",
       "                        <th id=\"T_8f74af7e_4754_11ea_9eed_02420a001f5blevel0_row8\" class=\"row_heading level0 row8\" >9</th>\n",
       "                        <td id=\"T_8f74af7e_4754_11ea_9eed_02420a001f5brow8_col0\" class=\"data row8 col0\" >4925519.415821501</td>\n",
       "            </tr>\n",
       "            <tr>\n",
       "                        <th id=\"T_8f74af7e_4754_11ea_9eed_02420a001f5blevel0_row9\" class=\"row_heading level0 row9\" >10</th>\n",
       "                        <td id=\"T_8f74af7e_4754_11ea_9eed_02420a001f5brow9_col0\" class=\"data row9 col0\" >4793183.561195446</td>\n",
       "            </tr>\n",
       "            <tr>\n",
       "                        <th id=\"T_8f74af7e_4754_11ea_9eed_02420a001f5blevel0_row10\" class=\"row_heading level0 row10\" >11</th>\n",
       "                        <td id=\"T_8f74af7e_4754_11ea_9eed_02420a001f5brow10_col0\" class=\"data row10 col0\" >4845391.867372882</td>\n",
       "            </tr>\n",
       "            <tr>\n",
       "                        <th id=\"T_8f74af7e_4754_11ea_9eed_02420a001f5blevel0_row11\" class=\"row_heading level0 row11\" >12</th>\n",
       "                        <td id=\"T_8f74af7e_4754_11ea_9eed_02420a001f5brow11_col0\" class=\"data row11 col0\" >4836399.831501831</td>\n",
       "            </tr>\n",
       "    </tbody></table>"
      ],
      "text/plain": [
       "<pandas.io.formats.style.Styler at 0x7fa93a9d7940>"
      ]
     },
     "execution_count": 205,
     "metadata": {},
     "output_type": "execute_result"
    }
   ],
   "source": [
    "res_nlp_month = data.pivot_table(index = 'month', values = 'new_last_price')\n",
    "res_nlp_month.style.format(\"{}\")"
   ]
  },
  {
   "cell_type": "markdown",
   "metadata": {},
   "source": [
    "Также не удается выявить существенную разницу в стоимости объекта в зависимости от месяца года, в котором было размещено объявление."
   ]
  },
  {
   "cell_type": "code",
   "execution_count": 206,
   "metadata": {},
   "outputs": [
    {
     "data": {
      "text/html": [
       "<style  type=\"text/css\" >\n",
       "</style><table id=\"T_9096b604_4754_11ea_9eed_02420a001f5b\" ><thead>    <tr>        <th class=\"blank level0\" ></th>        <th class=\"col_heading level0 col0\" >new_last_price</th>    </tr>    <tr>        <th class=\"index_name level0\" >year</th>        <th class=\"blank\" ></th>    </tr></thead><tbody>\n",
       "                <tr>\n",
       "                        <th id=\"T_9096b604_4754_11ea_9eed_02420a001f5blevel0_row0\" class=\"row_heading level0 row0\" >2014</th>\n",
       "                        <td id=\"T_9096b604_4754_11ea_9eed_02420a001f5brow0_col0\" class=\"data row0 col0\" >5389696.661764706</td>\n",
       "            </tr>\n",
       "            <tr>\n",
       "                        <th id=\"T_9096b604_4754_11ea_9eed_02420a001f5blevel0_row1\" class=\"row_heading level0 row1\" >2015</th>\n",
       "                        <td id=\"T_9096b604_4754_11ea_9eed_02420a001f5brow1_col0\" class=\"data row1 col0\" >5150727.496569469</td>\n",
       "            </tr>\n",
       "            <tr>\n",
       "                        <th id=\"T_9096b604_4754_11ea_9eed_02420a001f5blevel0_row2\" class=\"row_heading level0 row2\" >2019</th>\n",
       "                        <td id=\"T_9096b604_4754_11ea_9eed_02420a001f5brow2_col0\" class=\"data row2 col0\" >5053692.228143504</td>\n",
       "            </tr>\n",
       "            <tr>\n",
       "                        <th id=\"T_9096b604_4754_11ea_9eed_02420a001f5blevel0_row3\" class=\"row_heading level0 row3\" >2016</th>\n",
       "                        <td id=\"T_9096b604_4754_11ea_9eed_02420a001f5brow3_col0\" class=\"data row3 col0\" >4778324.312568306</td>\n",
       "            </tr>\n",
       "            <tr>\n",
       "                        <th id=\"T_9096b604_4754_11ea_9eed_02420a001f5blevel0_row4\" class=\"row_heading level0 row4\" >2018</th>\n",
       "                        <td id=\"T_9096b604_4754_11ea_9eed_02420a001f5brow4_col0\" class=\"data row4 col0\" >4764145.897242517</td>\n",
       "            </tr>\n",
       "            <tr>\n",
       "                        <th id=\"T_9096b604_4754_11ea_9eed_02420a001f5blevel0_row5\" class=\"row_heading level0 row5\" >2017</th>\n",
       "                        <td id=\"T_9096b604_4754_11ea_9eed_02420a001f5brow5_col0\" class=\"data row5 col0\" >4754643.331944615</td>\n",
       "            </tr>\n",
       "    </tbody></table>"
      ],
      "text/plain": [
       "<pandas.io.formats.style.Styler at 0x7fa93aaa5be0>"
      ]
     },
     "execution_count": 206,
     "metadata": {},
     "output_type": "execute_result"
    }
   ],
   "source": [
    "res_nlp_year = data.pivot_table(index = 'year', values = 'new_last_price')\n",
    "res_nlp_year.sort_values(by = 'new_last_price', ascending = False).style.format(\"{}\")"
   ]
  },
  {
   "cell_type": "markdown",
   "metadata": {},
   "source": [
    "Не удается так же выявить взаимосвязи цены объекта и годом размещения этого объекта на продажу.\n",
    "\n",
    "Таким образом, существенное влияние на стоимость недвижимости оказывает площадь этой недвижимости, и исходя из этого количество комнат. Меньшее значение имеет дата размещения объекта на сайт."
   ]
  },
  {
   "cell_type": "markdown",
   "metadata": {},
   "source": [
    "Выберите 10 населённых пунктов с наибольшим числом объявлений. Посчитайте среднюю цену квадратного метра в этих населённых пунктах. Выделите населённые пункты с самой высокой и низкой стоимостью жилья. Эти данные можно найти по имени в столбце 'locality_name'."
   ]
  },
  {
   "cell_type": "code",
   "execution_count": 207,
   "metadata": {},
   "outputs": [
    {
     "data": {
      "text/html": [
       "<div>\n",
       "<style scoped>\n",
       "    .dataframe tbody tr th:only-of-type {\n",
       "        vertical-align: middle;\n",
       "    }\n",
       "\n",
       "    .dataframe tbody tr th {\n",
       "        vertical-align: top;\n",
       "    }\n",
       "\n",
       "    .dataframe thead th {\n",
       "        text-align: right;\n",
       "    }\n",
       "</style>\n",
       "<table border=\"1\" class=\"dataframe\">\n",
       "  <thead>\n",
       "    <tr style=\"text-align: right;\">\n",
       "      <th></th>\n",
       "      <th>total_images</th>\n",
       "      <th>last_price</th>\n",
       "      <th>total_area</th>\n",
       "      <th>first_day_exposition</th>\n",
       "      <th>rooms</th>\n",
       "      <th>ceiling_height</th>\n",
       "      <th>floors_total</th>\n",
       "      <th>living_area</th>\n",
       "      <th>floor</th>\n",
       "      <th>is_apartment</th>\n",
       "      <th>...</th>\n",
       "      <th>year</th>\n",
       "      <th>what_floor</th>\n",
       "      <th>living_total_area_ratio</th>\n",
       "      <th>kitchen_total_area_ratio</th>\n",
       "      <th>new_total_area</th>\n",
       "      <th>new_last_price</th>\n",
       "      <th>new_rooms</th>\n",
       "      <th>new_ceiling_height</th>\n",
       "      <th>new_days_exposition</th>\n",
       "      <th>new_locality_name</th>\n",
       "    </tr>\n",
       "  </thead>\n",
       "  <tbody>\n",
       "    <tr>\n",
       "      <td>0</td>\n",
       "      <td>20</td>\n",
       "      <td>13000000</td>\n",
       "      <td>108.0</td>\n",
       "      <td>2019-03-07</td>\n",
       "      <td>3</td>\n",
       "      <td>2</td>\n",
       "      <td>16</td>\n",
       "      <td>51.0</td>\n",
       "      <td>8</td>\n",
       "      <td>False</td>\n",
       "      <td>...</td>\n",
       "      <td>2019</td>\n",
       "      <td>2. другой</td>\n",
       "      <td>0.472222</td>\n",
       "      <td>0.231481</td>\n",
       "      <td>108.0</td>\n",
       "      <td>4646000.0</td>\n",
       "      <td>3.0</td>\n",
       "      <td>2.0</td>\n",
       "      <td>73.0</td>\n",
       "      <td>Санкт-Петербург</td>\n",
       "    </tr>\n",
       "    <tr>\n",
       "      <td>1</td>\n",
       "      <td>7</td>\n",
       "      <td>3350000</td>\n",
       "      <td>40.4</td>\n",
       "      <td>2018-12-04</td>\n",
       "      <td>1</td>\n",
       "      <td>2</td>\n",
       "      <td>11</td>\n",
       "      <td>18.6</td>\n",
       "      <td>1</td>\n",
       "      <td>False</td>\n",
       "      <td>...</td>\n",
       "      <td>2018</td>\n",
       "      <td>1. первый</td>\n",
       "      <td>0.460396</td>\n",
       "      <td>0.272277</td>\n",
       "      <td>40.4</td>\n",
       "      <td>3350000.0</td>\n",
       "      <td>1.0</td>\n",
       "      <td>2.0</td>\n",
       "      <td>81.0</td>\n",
       "      <td>Шушары</td>\n",
       "    </tr>\n",
       "    <tr>\n",
       "      <td>2</td>\n",
       "      <td>10</td>\n",
       "      <td>5196000</td>\n",
       "      <td>56.0</td>\n",
       "      <td>2015-08-20</td>\n",
       "      <td>2</td>\n",
       "      <td>2</td>\n",
       "      <td>5</td>\n",
       "      <td>34.3</td>\n",
       "      <td>4</td>\n",
       "      <td>False</td>\n",
       "      <td>...</td>\n",
       "      <td>2015</td>\n",
       "      <td>2. другой</td>\n",
       "      <td>0.612500</td>\n",
       "      <td>0.148214</td>\n",
       "      <td>56.0</td>\n",
       "      <td>5196000.0</td>\n",
       "      <td>2.0</td>\n",
       "      <td>2.0</td>\n",
       "      <td>73.0</td>\n",
       "      <td>Санкт-Петербург</td>\n",
       "    </tr>\n",
       "    <tr>\n",
       "      <td>3</td>\n",
       "      <td>0</td>\n",
       "      <td>64900000</td>\n",
       "      <td>159.0</td>\n",
       "      <td>2015-07-24</td>\n",
       "      <td>3</td>\n",
       "      <td>2</td>\n",
       "      <td>14</td>\n",
       "      <td>30.0</td>\n",
       "      <td>9</td>\n",
       "      <td>False</td>\n",
       "      <td>...</td>\n",
       "      <td>2015</td>\n",
       "      <td>2. другой</td>\n",
       "      <td>0.188679</td>\n",
       "      <td>0.056604</td>\n",
       "      <td>52.0</td>\n",
       "      <td>4646000.0</td>\n",
       "      <td>3.0</td>\n",
       "      <td>2.0</td>\n",
       "      <td>424.0</td>\n",
       "      <td>Санкт-Петербург</td>\n",
       "    </tr>\n",
       "    <tr>\n",
       "      <td>4</td>\n",
       "      <td>2</td>\n",
       "      <td>10000000</td>\n",
       "      <td>100.0</td>\n",
       "      <td>2018-06-19</td>\n",
       "      <td>2</td>\n",
       "      <td>3</td>\n",
       "      <td>14</td>\n",
       "      <td>32.0</td>\n",
       "      <td>13</td>\n",
       "      <td>False</td>\n",
       "      <td>...</td>\n",
       "      <td>2018</td>\n",
       "      <td>2. другой</td>\n",
       "      <td>0.320000</td>\n",
       "      <td>0.410000</td>\n",
       "      <td>100.0</td>\n",
       "      <td>10000000.0</td>\n",
       "      <td>2.0</td>\n",
       "      <td>2.0</td>\n",
       "      <td>121.0</td>\n",
       "      <td>Санкт-Петербург</td>\n",
       "    </tr>\n",
       "  </tbody>\n",
       "</table>\n",
       "<p>5 rows × 35 columns</p>\n",
       "</div>"
      ],
      "text/plain": [
       "   total_images  last_price  total_area first_day_exposition  rooms  \\\n",
       "0            20    13000000       108.0           2019-03-07      3   \n",
       "1             7     3350000        40.4           2018-12-04      1   \n",
       "2            10     5196000        56.0           2015-08-20      2   \n",
       "3             0    64900000       159.0           2015-07-24      3   \n",
       "4             2    10000000       100.0           2018-06-19      2   \n",
       "\n",
       "   ceiling_height  floors_total  living_area  floor  is_apartment  ...  year  \\\n",
       "0               2            16         51.0      8         False  ...  2019   \n",
       "1               2            11         18.6      1         False  ...  2018   \n",
       "2               2             5         34.3      4         False  ...  2015   \n",
       "3               2            14         30.0      9         False  ...  2015   \n",
       "4               3            14         32.0     13         False  ...  2018   \n",
       "\n",
       "   what_floor  living_total_area_ratio  kitchen_total_area_ratio  \\\n",
       "0   2. другой                 0.472222                  0.231481   \n",
       "1   1. первый                 0.460396                  0.272277   \n",
       "2   2. другой                 0.612500                  0.148214   \n",
       "3   2. другой                 0.188679                  0.056604   \n",
       "4   2. другой                 0.320000                  0.410000   \n",
       "\n",
       "  new_total_area  new_last_price  new_rooms  new_ceiling_height  \\\n",
       "0          108.0       4646000.0        3.0                 2.0   \n",
       "1           40.4       3350000.0        1.0                 2.0   \n",
       "2           56.0       5196000.0        2.0                 2.0   \n",
       "3           52.0       4646000.0        3.0                 2.0   \n",
       "4          100.0      10000000.0        2.0                 2.0   \n",
       "\n",
       "   new_days_exposition  new_locality_name  \n",
       "0                 73.0    Санкт-Петербург  \n",
       "1                 81.0             Шушары  \n",
       "2                 73.0    Санкт-Петербург  \n",
       "3                424.0    Санкт-Петербург  \n",
       "4                121.0    Санкт-Петербург  \n",
       "\n",
       "[5 rows x 35 columns]"
      ]
     },
     "execution_count": 207,
     "metadata": {},
     "output_type": "execute_result"
    }
   ],
   "source": [
    "import re\n",
    "\n",
    "replace_set = {'посёлок', 'село', 'поселок', 'городского', 'типа', 'деревня', 'садовое', 'товарищество', 'городской', 'при', 'железнодорожной', 'станции', 'коттеджный', 'садоводческое', 'некоммерческое'}\n",
    "data['new_locality_name'] = data['locality_name'].str.split(' ').apply(lambda x: ' '.join(k for k in x if k not in replace_set))\n",
    "\n",
    "data.head(5)"
   ]
  },
  {
   "cell_type": "markdown",
   "metadata": {},
   "source": [
    "При первом рассмотрении столбца locality_name обнаружили по разному записанные имена одного и того же населенного пункта, например - поселок Мурино, посёлок Мурино и Мурино. Наличие этих недостатков не позволит корректно посчитать число объявлений на населенный пункт, поэтому мы исключили слова, обозначающие тип населенного пункта, оставив само название."
   ]
  },
  {
   "cell_type": "code",
   "execution_count": 208,
   "metadata": {},
   "outputs": [
    {
     "data": {
      "text/html": [
       "<div>\n",
       "<style scoped>\n",
       "    .dataframe tbody tr th:only-of-type {\n",
       "        vertical-align: middle;\n",
       "    }\n",
       "\n",
       "    .dataframe tbody tr th {\n",
       "        vertical-align: top;\n",
       "    }\n",
       "\n",
       "    .dataframe thead th {\n",
       "        text-align: right;\n",
       "    }\n",
       "</style>\n",
       "<table border=\"1\" class=\"dataframe\">\n",
       "  <thead>\n",
       "    <tr style=\"text-align: right;\">\n",
       "      <th></th>\n",
       "      <th>total_images</th>\n",
       "      <th>last_price</th>\n",
       "      <th>total_area</th>\n",
       "      <th>first_day_exposition</th>\n",
       "      <th>rooms</th>\n",
       "      <th>ceiling_height</th>\n",
       "      <th>floors_total</th>\n",
       "      <th>living_area</th>\n",
       "      <th>floor</th>\n",
       "      <th>is_apartment</th>\n",
       "      <th>...</th>\n",
       "      <th>month</th>\n",
       "      <th>year</th>\n",
       "      <th>what_floor</th>\n",
       "      <th>living_total_area_ratio</th>\n",
       "      <th>kitchen_total_area_ratio</th>\n",
       "      <th>new_total_area</th>\n",
       "      <th>new_last_price</th>\n",
       "      <th>new_rooms</th>\n",
       "      <th>new_ceiling_height</th>\n",
       "      <th>new_days_exposition</th>\n",
       "    </tr>\n",
       "    <tr>\n",
       "      <th>new_locality_name</th>\n",
       "      <th></th>\n",
       "      <th></th>\n",
       "      <th></th>\n",
       "      <th></th>\n",
       "      <th></th>\n",
       "      <th></th>\n",
       "      <th></th>\n",
       "      <th></th>\n",
       "      <th></th>\n",
       "      <th></th>\n",
       "      <th></th>\n",
       "      <th></th>\n",
       "      <th></th>\n",
       "      <th></th>\n",
       "      <th></th>\n",
       "      <th></th>\n",
       "      <th></th>\n",
       "      <th></th>\n",
       "      <th></th>\n",
       "      <th></th>\n",
       "      <th></th>\n",
       "    </tr>\n",
       "  </thead>\n",
       "  <tbody>\n",
       "    <tr>\n",
       "      <td>Санкт-Петербург</td>\n",
       "      <td>15651</td>\n",
       "      <td>15651</td>\n",
       "      <td>15651</td>\n",
       "      <td>15651</td>\n",
       "      <td>15651</td>\n",
       "      <td>15651</td>\n",
       "      <td>15651</td>\n",
       "      <td>15651</td>\n",
       "      <td>15651</td>\n",
       "      <td>15651</td>\n",
       "      <td>...</td>\n",
       "      <td>15651</td>\n",
       "      <td>15651</td>\n",
       "      <td>15651</td>\n",
       "      <td>15651</td>\n",
       "      <td>15651</td>\n",
       "      <td>15651</td>\n",
       "      <td>15651</td>\n",
       "      <td>15651</td>\n",
       "      <td>15651</td>\n",
       "      <td>15651</td>\n",
       "    </tr>\n",
       "    <tr>\n",
       "      <td>Мурино</td>\n",
       "      <td>586</td>\n",
       "      <td>586</td>\n",
       "      <td>586</td>\n",
       "      <td>586</td>\n",
       "      <td>586</td>\n",
       "      <td>586</td>\n",
       "      <td>586</td>\n",
       "      <td>586</td>\n",
       "      <td>586</td>\n",
       "      <td>586</td>\n",
       "      <td>...</td>\n",
       "      <td>586</td>\n",
       "      <td>586</td>\n",
       "      <td>586</td>\n",
       "      <td>586</td>\n",
       "      <td>586</td>\n",
       "      <td>586</td>\n",
       "      <td>586</td>\n",
       "      <td>586</td>\n",
       "      <td>586</td>\n",
       "      <td>586</td>\n",
       "    </tr>\n",
       "    <tr>\n",
       "      <td>Кудрово</td>\n",
       "      <td>470</td>\n",
       "      <td>470</td>\n",
       "      <td>470</td>\n",
       "      <td>470</td>\n",
       "      <td>470</td>\n",
       "      <td>470</td>\n",
       "      <td>470</td>\n",
       "      <td>470</td>\n",
       "      <td>470</td>\n",
       "      <td>470</td>\n",
       "      <td>...</td>\n",
       "      <td>470</td>\n",
       "      <td>470</td>\n",
       "      <td>470</td>\n",
       "      <td>470</td>\n",
       "      <td>470</td>\n",
       "      <td>470</td>\n",
       "      <td>470</td>\n",
       "      <td>470</td>\n",
       "      <td>470</td>\n",
       "      <td>470</td>\n",
       "    </tr>\n",
       "    <tr>\n",
       "      <td>Шушары</td>\n",
       "      <td>439</td>\n",
       "      <td>439</td>\n",
       "      <td>439</td>\n",
       "      <td>439</td>\n",
       "      <td>439</td>\n",
       "      <td>439</td>\n",
       "      <td>439</td>\n",
       "      <td>439</td>\n",
       "      <td>439</td>\n",
       "      <td>439</td>\n",
       "      <td>...</td>\n",
       "      <td>439</td>\n",
       "      <td>439</td>\n",
       "      <td>439</td>\n",
       "      <td>439</td>\n",
       "      <td>439</td>\n",
       "      <td>439</td>\n",
       "      <td>439</td>\n",
       "      <td>439</td>\n",
       "      <td>439</td>\n",
       "      <td>439</td>\n",
       "    </tr>\n",
       "    <tr>\n",
       "      <td>Всеволожск</td>\n",
       "      <td>398</td>\n",
       "      <td>398</td>\n",
       "      <td>398</td>\n",
       "      <td>398</td>\n",
       "      <td>398</td>\n",
       "      <td>398</td>\n",
       "      <td>398</td>\n",
       "      <td>398</td>\n",
       "      <td>398</td>\n",
       "      <td>398</td>\n",
       "      <td>...</td>\n",
       "      <td>398</td>\n",
       "      <td>398</td>\n",
       "      <td>398</td>\n",
       "      <td>398</td>\n",
       "      <td>398</td>\n",
       "      <td>398</td>\n",
       "      <td>398</td>\n",
       "      <td>398</td>\n",
       "      <td>398</td>\n",
       "      <td>398</td>\n",
       "    </tr>\n",
       "    <tr>\n",
       "      <td>Пушкин</td>\n",
       "      <td>369</td>\n",
       "      <td>369</td>\n",
       "      <td>369</td>\n",
       "      <td>369</td>\n",
       "      <td>369</td>\n",
       "      <td>369</td>\n",
       "      <td>369</td>\n",
       "      <td>369</td>\n",
       "      <td>369</td>\n",
       "      <td>369</td>\n",
       "      <td>...</td>\n",
       "      <td>369</td>\n",
       "      <td>369</td>\n",
       "      <td>369</td>\n",
       "      <td>369</td>\n",
       "      <td>369</td>\n",
       "      <td>369</td>\n",
       "      <td>369</td>\n",
       "      <td>369</td>\n",
       "      <td>369</td>\n",
       "      <td>369</td>\n",
       "    </tr>\n",
       "    <tr>\n",
       "      <td>Колпино</td>\n",
       "      <td>338</td>\n",
       "      <td>338</td>\n",
       "      <td>338</td>\n",
       "      <td>338</td>\n",
       "      <td>338</td>\n",
       "      <td>338</td>\n",
       "      <td>338</td>\n",
       "      <td>338</td>\n",
       "      <td>338</td>\n",
       "      <td>338</td>\n",
       "      <td>...</td>\n",
       "      <td>338</td>\n",
       "      <td>338</td>\n",
       "      <td>338</td>\n",
       "      <td>338</td>\n",
       "      <td>338</td>\n",
       "      <td>338</td>\n",
       "      <td>338</td>\n",
       "      <td>338</td>\n",
       "      <td>338</td>\n",
       "      <td>338</td>\n",
       "    </tr>\n",
       "    <tr>\n",
       "      <td>Парголово</td>\n",
       "      <td>327</td>\n",
       "      <td>327</td>\n",
       "      <td>327</td>\n",
       "      <td>327</td>\n",
       "      <td>327</td>\n",
       "      <td>327</td>\n",
       "      <td>327</td>\n",
       "      <td>327</td>\n",
       "      <td>327</td>\n",
       "      <td>327</td>\n",
       "      <td>...</td>\n",
       "      <td>327</td>\n",
       "      <td>327</td>\n",
       "      <td>327</td>\n",
       "      <td>327</td>\n",
       "      <td>327</td>\n",
       "      <td>327</td>\n",
       "      <td>327</td>\n",
       "      <td>327</td>\n",
       "      <td>327</td>\n",
       "      <td>327</td>\n",
       "    </tr>\n",
       "    <tr>\n",
       "      <td>Гатчина</td>\n",
       "      <td>307</td>\n",
       "      <td>307</td>\n",
       "      <td>307</td>\n",
       "      <td>307</td>\n",
       "      <td>307</td>\n",
       "      <td>307</td>\n",
       "      <td>307</td>\n",
       "      <td>307</td>\n",
       "      <td>307</td>\n",
       "      <td>307</td>\n",
       "      <td>...</td>\n",
       "      <td>307</td>\n",
       "      <td>307</td>\n",
       "      <td>307</td>\n",
       "      <td>307</td>\n",
       "      <td>307</td>\n",
       "      <td>307</td>\n",
       "      <td>307</td>\n",
       "      <td>307</td>\n",
       "      <td>307</td>\n",
       "      <td>307</td>\n",
       "    </tr>\n",
       "    <tr>\n",
       "      <td>Выборг</td>\n",
       "      <td>237</td>\n",
       "      <td>237</td>\n",
       "      <td>237</td>\n",
       "      <td>237</td>\n",
       "      <td>237</td>\n",
       "      <td>237</td>\n",
       "      <td>237</td>\n",
       "      <td>237</td>\n",
       "      <td>237</td>\n",
       "      <td>237</td>\n",
       "      <td>...</td>\n",
       "      <td>237</td>\n",
       "      <td>237</td>\n",
       "      <td>237</td>\n",
       "      <td>237</td>\n",
       "      <td>237</td>\n",
       "      <td>237</td>\n",
       "      <td>237</td>\n",
       "      <td>237</td>\n",
       "      <td>237</td>\n",
       "      <td>237</td>\n",
       "    </tr>\n",
       "  </tbody>\n",
       "</table>\n",
       "<p>10 rows × 34 columns</p>\n",
       "</div>"
      ],
      "text/plain": [
       "                   total_images  last_price  total_area  first_day_exposition  \\\n",
       "new_locality_name                                                               \n",
       "Санкт-Петербург           15651       15651       15651                 15651   \n",
       "Мурино                      586         586         586                   586   \n",
       "Кудрово                     470         470         470                   470   \n",
       "Шушары                      439         439         439                   439   \n",
       "Всеволожск                  398         398         398                   398   \n",
       "Пушкин                      369         369         369                   369   \n",
       "Колпино                     338         338         338                   338   \n",
       "Парголово                   327         327         327                   327   \n",
       "Гатчина                     307         307         307                   307   \n",
       "Выборг                      237         237         237                   237   \n",
       "\n",
       "                   rooms  ceiling_height  floors_total  living_area  floor  \\\n",
       "new_locality_name                                                            \n",
       "Санкт-Петербург    15651           15651         15651        15651  15651   \n",
       "Мурино               586             586           586          586    586   \n",
       "Кудрово              470             470           470          470    470   \n",
       "Шушары               439             439           439          439    439   \n",
       "Всеволожск           398             398           398          398    398   \n",
       "Пушкин               369             369           369          369    369   \n",
       "Колпино              338             338           338          338    338   \n",
       "Парголово            327             327           327          327    327   \n",
       "Гатчина              307             307           307          307    307   \n",
       "Выборг               237             237           237          237    237   \n",
       "\n",
       "                   is_apartment  ...  month   year  what_floor  \\\n",
       "new_locality_name                ...                             \n",
       "Санкт-Петербург           15651  ...  15651  15651       15651   \n",
       "Мурино                      586  ...    586    586         586   \n",
       "Кудрово                     470  ...    470    470         470   \n",
       "Шушары                      439  ...    439    439         439   \n",
       "Всеволожск                  398  ...    398    398         398   \n",
       "Пушкин                      369  ...    369    369         369   \n",
       "Колпино                     338  ...    338    338         338   \n",
       "Парголово                   327  ...    327    327         327   \n",
       "Гатчина                     307  ...    307    307         307   \n",
       "Выборг                      237  ...    237    237         237   \n",
       "\n",
       "                   living_total_area_ratio  kitchen_total_area_ratio  \\\n",
       "new_locality_name                                                      \n",
       "Санкт-Петербург                      15651                     15651   \n",
       "Мурино                                 586                       586   \n",
       "Кудрово                                470                       470   \n",
       "Шушары                                 439                       439   \n",
       "Всеволожск                             398                       398   \n",
       "Пушкин                                 369                       369   \n",
       "Колпино                                338                       338   \n",
       "Парголово                              327                       327   \n",
       "Гатчина                                307                       307   \n",
       "Выборг                                 237                       237   \n",
       "\n",
       "                   new_total_area  new_last_price  new_rooms  \\\n",
       "new_locality_name                                              \n",
       "Санкт-Петербург             15651           15651      15651   \n",
       "Мурино                        586             586        586   \n",
       "Кудрово                       470             470        470   \n",
       "Шушары                        439             439        439   \n",
       "Всеволожск                    398             398        398   \n",
       "Пушкин                        369             369        369   \n",
       "Колпино                       338             338        338   \n",
       "Парголово                     327             327        327   \n",
       "Гатчина                       307             307        307   \n",
       "Выборг                        237             237        237   \n",
       "\n",
       "                   new_ceiling_height  new_days_exposition  \n",
       "new_locality_name                                           \n",
       "Санкт-Петербург                 15651                15651  \n",
       "Мурино                            586                  586  \n",
       "Кудрово                           470                  470  \n",
       "Шушары                            439                  439  \n",
       "Всеволожск                        398                  398  \n",
       "Пушкин                            369                  369  \n",
       "Колпино                           338                  338  \n",
       "Парголово                         327                  327  \n",
       "Гатчина                           307                  307  \n",
       "Выборг                            237                  237  \n",
       "\n",
       "[10 rows x 34 columns]"
      ]
     },
     "execution_count": 208,
     "metadata": {},
     "output_type": "execute_result"
    }
   ],
   "source": [
    "data['new_locality_name'].unique()\n",
    "data.groupby('new_locality_name').count().sort_values(by= 'total_images', ascending=False).head(10)"
   ]
  },
  {
   "cell_type": "markdown",
   "metadata": {},
   "source": [
    "Таким образом, определили топ-10 населенных пунктов по количеству размещенных объявлений."
   ]
  },
  {
   "cell_type": "code",
   "execution_count": 209,
   "metadata": {},
   "outputs": [
    {
     "data": {
      "text/html": [
       "<div>\n",
       "<style scoped>\n",
       "    .dataframe tbody tr th:only-of-type {\n",
       "        vertical-align: middle;\n",
       "    }\n",
       "\n",
       "    .dataframe tbody tr th {\n",
       "        vertical-align: top;\n",
       "    }\n",
       "\n",
       "    .dataframe thead th {\n",
       "        text-align: right;\n",
       "    }\n",
       "</style>\n",
       "<table border=\"1\" class=\"dataframe\">\n",
       "  <thead>\n",
       "    <tr style=\"text-align: right;\">\n",
       "      <th></th>\n",
       "      <th>new_price_per_meter</th>\n",
       "    </tr>\n",
       "    <tr>\n",
       "      <th>new_locality_name</th>\n",
       "      <th></th>\n",
       "    </tr>\n",
       "  </thead>\n",
       "  <tbody>\n",
       "    <tr>\n",
       "      <td>Санкт-Петербург</td>\n",
       "      <td>102075.533470</td>\n",
       "    </tr>\n",
       "    <tr>\n",
       "      <td>Пушкин</td>\n",
       "      <td>98731.550759</td>\n",
       "    </tr>\n",
       "    <tr>\n",
       "      <td>Кудрово</td>\n",
       "      <td>94996.321536</td>\n",
       "    </tr>\n",
       "    <tr>\n",
       "      <td>Парголово</td>\n",
       "      <td>90520.614136</td>\n",
       "    </tr>\n",
       "    <tr>\n",
       "      <td>Мурино</td>\n",
       "      <td>86041.116064</td>\n",
       "    </tr>\n",
       "    <tr>\n",
       "      <td>Шушары</td>\n",
       "      <td>79236.988012</td>\n",
       "    </tr>\n",
       "    <tr>\n",
       "      <td>Колпино</td>\n",
       "      <td>75408.490787</td>\n",
       "    </tr>\n",
       "    <tr>\n",
       "      <td>Гатчина</td>\n",
       "      <td>68800.966102</td>\n",
       "    </tr>\n",
       "    <tr>\n",
       "      <td>Всеволожск</td>\n",
       "      <td>68123.832930</td>\n",
       "    </tr>\n",
       "    <tr>\n",
       "      <td>Выборг</td>\n",
       "      <td>60487.423108</td>\n",
       "    </tr>\n",
       "  </tbody>\n",
       "</table>\n",
       "</div>"
      ],
      "text/plain": [
       "                   new_price_per_meter\n",
       "new_locality_name                     \n",
       "Санкт-Петербург          102075.533470\n",
       "Пушкин                    98731.550759\n",
       "Кудрово                   94996.321536\n",
       "Парголово                 90520.614136\n",
       "Мурино                    86041.116064\n",
       "Шушары                    79236.988012\n",
       "Колпино                   75408.490787\n",
       "Гатчина                   68800.966102\n",
       "Всеволожск                68123.832930\n",
       "Выборг                    60487.423108"
      ]
     },
     "execution_count": 209,
     "metadata": {},
     "output_type": "execute_result"
    }
   ],
   "source": [
    "data['new_price_per_meter'] = data['new_last_price']/data['new_total_area']\n",
    "res_ppm_ln = data.pivot_table(index = 'new_locality_name', values = 'new_price_per_meter')\n",
    "res_ppm_ln.query(\"new_locality_name == ['Санкт-Петербург', 'Мурино', 'Кудрово', 'Шушары', 'Всеволожск', 'Пушкин', 'Колпино', 'Парголово', 'Гатчина', 'Выборг']\").sort_values(by= 'new_price_per_meter', ascending=False)"
   ]
  },
  {
   "cell_type": "markdown",
   "metadata": {},
   "source": [
    "Анализируя среднюю стоимость топовых по количеству объявлений населенных пунктов можно отметить, что наибольшая цена квадратного метра зафиксирована в Санкт-Петербурге, в городе Пушкине и в Кудрове - 100 тыс. рублей за квадратный метр. Самая низкая из анализируемых населенных пунктов зафиксирована в Выборге - 60,5 тыс. рублей за квадратный метр."
   ]
  },
  {
   "cell_type": "markdown",
   "metadata": {},
   "source": [
    "Изучите предложения квартир: для каждой квартиры есть информация о расстоянии до центра. Выделите квартиры в Санкт-Петербурге ('locality_name'). Ваша задача — выяснить, какая область входит в центр. Создайте столбец с расстоянием до центра в километрах: округлите до целых значений. После этого посчитайте среднюю цену для каждого километра. Постройте график: он должен показывать, как цена зависит от удалённости от центра. Определите границу, где график сильно меняется — это и будет центральная зона."
   ]
  },
  {
   "cell_type": "code",
   "execution_count": 210,
   "metadata": {
    "scrolled": true
   },
   "outputs": [
    {
     "data": {
      "image/png": "[encoded data removed]",
      "text/plain": [
       "<Figure size 432x288 with 1 Axes>"
      ]
     },
     "metadata": {
      "needs_background": "light"
     },
     "output_type": "display_data"
    }
   ],
   "source": [
    "data['cityCenters_nearest_km'] = data['cityCenters_nearest']/1000\n",
    "data['cityCenters_nearest_km'] = data['cityCenters_nearest_km'].round()\n",
    "data_spb = data.query(\"new_locality_name == ['Санкт-Петербург']\")\n",
    "data_spb.pivot_table(index = 'new_price_per_meter', values = 'cityCenters_nearest_km').hist(bins=30)\n",
    "plt.show()"
   ]
  },
  {
   "cell_type": "markdown",
   "metadata": {},
   "source": [
    "Центральная зона расположена в промежутке от 1 до 3 км от центра Санкт-Петербурга. "
   ]
  },
  {
   "cell_type": "markdown",
   "metadata": {},
   "source": [
    "Выделите сегмент квартир в центре. Проанализируйте эту территорию и изучите следующие параметры: площадь, цена, число комнат, высота потолков. Также выделите факторы, которые влияют на стоимость квартиры (число комнат, этаж, удалённость от центра, дата размещения объявления). Сделайте выводы. Отличаются ли они от общих выводов по всему городу?"
   ]
  },
  {
   "cell_type": "code",
   "execution_count": 211,
   "metadata": {},
   "outputs": [
    {
     "name": "stdout",
     "output_type": "stream",
     "text": [
      "Медианная площадь: 62.3\n",
      "Средняя площадь: 67.43995294117647\n",
      "Минимальная площадь: 12.0\n",
      "Максимальная площадь: 114.2\n",
      "\n",
      "Медианная цена: 5695000.0\n",
      "Средняя цена: 6555474.9388235295\n",
      "Минимальная цена: 2100000.0\n",
      "Максимальная цена: 11840000.0\n",
      "\n",
      "Медианное число комнат: 3.0\n",
      "Среднее число комнат: 2.94\n",
      "Минимальное число комнат: 0.0\n",
      "Максимальное число комнат: 6.0\n",
      "\n",
      "Медианная высота потолков: 2.0\n",
      "Средняя высота потолков: 2.0\n",
      "Минимальная высота потолков: 2.0\n",
      "Максимальная высота потолков: 2.0\n"
     ]
    }
   ],
   "source": [
    "data_spb = data_spb.query(\"cityCenters_nearest_km == [1, 2, 3]\")\n",
    "print('Медианная площадь:', data_spb['new_total_area'].median())\n",
    "print('Средняя площадь:', data_spb['new_total_area'].mean())\n",
    "print('Минимальная площадь:', data_spb['new_total_area'].min())\n",
    "print('Максимальная площадь:', data_spb['new_total_area'].max())\n",
    "print()\n",
    "print('Медианная цена:', data_spb['new_last_price'].median())\n",
    "print('Средняя цена:', data_spb['new_last_price'].mean())\n",
    "print('Минимальная цена:', data_spb['new_last_price'].min())\n",
    "print('Максимальная цена:', data_spb['new_last_price'].max())\n",
    "print()\n",
    "print('Медианное число комнат:', data_spb['new_rooms'].median())\n",
    "print('Среднее число комнат:', data_spb['new_rooms'].mean())\n",
    "print('Минимальное число комнат:', data_spb['new_rooms'].min())\n",
    "print('Максимальное число комнат:', data_spb['new_rooms'].max())\n",
    "print()\n",
    "print('Медианная высота потолков:', data_spb['new_ceiling_height'].median())\n",
    "print('Средняя высота потолков:', data_spb['new_ceiling_height'].mean())\n",
    "print('Минимальная высота потолков:', data_spb['new_ceiling_height'].min())\n",
    "print('Максимальная высота потолков:', data_spb['new_ceiling_height'].max())"
   ]
  },
  {
   "cell_type": "markdown",
   "metadata": {},
   "source": [
    "Сравнивая данные по всему городу с данными центральной зоны можно отметить, что значительной разницы не обнаружено. Существенные различия можно отметить только по параметру медианной площади и медианной стоимости объекта: 62,3 кв.м , в отличие от 52 кв.м. по всему городу и 5,7 млн рублей за квартиру в центре и 4,6 млн рублей в целом по городу, а также максимальная стоимость объекта: в центральной зоне - 11,9 млн руб., а по всему городу 763 млн. рублей. "
   ]
  },
  {
   "cell_type": "code",
   "execution_count": 212,
   "metadata": {},
   "outputs": [
    {
     "name": "stdout",
     "output_type": "stream",
     "text": [
      "0.3668405102821979\n",
      "0.030501183736728745\n",
      "-0.007009791270186354\n"
     ]
    },
    {
     "data": {
      "text/html": [
       "<style  type=\"text/css\" >\n",
       "</style><table id=\"T_97af214c_4754_11ea_9eed_02420a001f5b\" ><thead>    <tr>        <th class=\"blank level0\" ></th>        <th class=\"col_heading level0 col0\" >new_last_price</th>    </tr>    <tr>        <th class=\"index_name level0\" >what_floor</th>        <th class=\"blank\" ></th>    </tr></thead><tbody>\n",
       "                <tr>\n",
       "                        <th id=\"T_97af214c_4754_11ea_9eed_02420a001f5blevel0_row0\" class=\"row_heading level0 row0\" >1. первый</th>\n",
       "                        <td id=\"T_97af214c_4754_11ea_9eed_02420a001f5brow0_col0\" class=\"data row0 col0\" >6099950.798387097</td>\n",
       "            </tr>\n",
       "            <tr>\n",
       "                        <th id=\"T_97af214c_4754_11ea_9eed_02420a001f5blevel0_row1\" class=\"row_heading level0 row1\" >2. другой</th>\n",
       "                        <td id=\"T_97af214c_4754_11ea_9eed_02420a001f5brow1_col0\" class=\"data row1 col0\" >6550568.844230769</td>\n",
       "            </tr>\n",
       "            <tr>\n",
       "                        <th id=\"T_97af214c_4754_11ea_9eed_02420a001f5blevel0_row2\" class=\"row_heading level0 row2\" >3. последний</th>\n",
       "                        <td id=\"T_97af214c_4754_11ea_9eed_02420a001f5brow2_col0\" class=\"data row2 col0\" >6842058.252427184</td>\n",
       "            </tr>\n",
       "    </tbody></table>"
      ],
      "text/plain": [
       "<pandas.io.formats.style.Styler at 0x7fa93a89dfd0>"
      ]
     },
     "execution_count": 212,
     "metadata": {},
     "output_type": "execute_result"
    }
   ],
   "source": [
    "print(data_spb['new_last_price'].corr(data_spb['new_total_area']))\n",
    "print(data_spb['new_last_price'].corr(data_spb['new_rooms']))\n",
    "print(data_spb['new_last_price'].corr(data_spb['cityCenters_nearest']))\n",
    "\n",
    "res_nlp_floor_spb = data_spb.pivot_table(index = 'what_floor', values = 'new_last_price')\n",
    "res_nlp_floor_spb.style.format(\"{}\")\n"
   ]
  },
  {
   "cell_type": "markdown",
   "metadata": {},
   "source": [
    "Важнейшим фактором ценообразования является площадь объекта, как и в анализе по всему городу, этот параметр в стоимости жилья в центральной зоне имеет превалирующие значение (коррелируются на уровне 0,6 и 0,36 сооветственно). Так же как и по всему городу, не маловажно количество комнат. Тогда как удаленность от центра в центральной зоне играет не имеет такого сильного влияния на цену объекта, в отличие от корреляции по всему городу. \n",
    "\n",
    "В отличие от всего города в центральной части стоимость квартир выше на последнем этаже, чем на первом и других, тогда как по всему городу более дорогие - не первые и не последние этажи многоквартирного дома."
   ]
  },
  {
   "cell_type": "code",
   "execution_count": 213,
   "metadata": {},
   "outputs": [
    {
     "data": {
      "text/html": [
       "<style  type=\"text/css\" >\n",
       "</style><table id=\"T_9855f512_4754_11ea_9eed_02420a001f5b\" ><thead>    <tr>        <th class=\"blank level0\" ></th>        <th class=\"col_heading level0 col0\" >new_last_price</th>    </tr>    <tr>        <th class=\"index_name level0\" >day_of_week</th>        <th class=\"blank\" ></th>    </tr></thead><tbody>\n",
       "                <tr>\n",
       "                        <th id=\"T_9855f512_4754_11ea_9eed_02420a001f5blevel0_row0\" class=\"row_heading level0 row0\" >0</th>\n",
       "                        <td id=\"T_9855f512_4754_11ea_9eed_02420a001f5brow0_col0\" class=\"data row0 col0\" >6463326.392</td>\n",
       "            </tr>\n",
       "            <tr>\n",
       "                        <th id=\"T_9855f512_4754_11ea_9eed_02420a001f5blevel0_row1\" class=\"row_heading level0 row1\" >1</th>\n",
       "                        <td id=\"T_9855f512_4754_11ea_9eed_02420a001f5brow1_col0\" class=\"data row1 col0\" >6646367.2</td>\n",
       "            </tr>\n",
       "            <tr>\n",
       "                        <th id=\"T_9855f512_4754_11ea_9eed_02420a001f5blevel0_row2\" class=\"row_heading level0 row2\" >2</th>\n",
       "                        <td id=\"T_9855f512_4754_11ea_9eed_02420a001f5brow2_col0\" class=\"data row2 col0\" >6570728.571428572</td>\n",
       "            </tr>\n",
       "            <tr>\n",
       "                        <th id=\"T_9855f512_4754_11ea_9eed_02420a001f5blevel0_row3\" class=\"row_heading level0 row3\" >3</th>\n",
       "                        <td id=\"T_9855f512_4754_11ea_9eed_02420a001f5brow3_col0\" class=\"data row3 col0\" >6202162.162162162</td>\n",
       "            </tr>\n",
       "            <tr>\n",
       "                        <th id=\"T_9855f512_4754_11ea_9eed_02420a001f5blevel0_row4\" class=\"row_heading level0 row4\" >4</th>\n",
       "                        <td id=\"T_9855f512_4754_11ea_9eed_02420a001f5brow4_col0\" class=\"data row4 col0\" >6774648.148148148</td>\n",
       "            </tr>\n",
       "            <tr>\n",
       "                        <th id=\"T_9855f512_4754_11ea_9eed_02420a001f5blevel0_row5\" class=\"row_heading level0 row5\" >5</th>\n",
       "                        <td id=\"T_9855f512_4754_11ea_9eed_02420a001f5brow5_col0\" class=\"data row5 col0\" >6774678.553571428</td>\n",
       "            </tr>\n",
       "            <tr>\n",
       "                        <th id=\"T_9855f512_4754_11ea_9eed_02420a001f5blevel0_row6\" class=\"row_heading level0 row6\" >6</th>\n",
       "                        <td id=\"T_9855f512_4754_11ea_9eed_02420a001f5brow6_col0\" class=\"data row6 col0\" >6829210.52631579</td>\n",
       "            </tr>\n",
       "    </tbody></table>"
      ],
      "text/plain": [
       "<pandas.io.formats.style.Styler at 0x7fa91e531ac8>"
      ]
     },
     "execution_count": 213,
     "metadata": {},
     "output_type": "execute_result"
    }
   ],
   "source": [
    "res_nlp_day_spb = data_spb.pivot_table(index = 'day_of_week', values = 'new_last_price')\n",
    "res_nlp_day_spb.style.format(\"{}\")"
   ]
  },
  {
   "cell_type": "markdown",
   "metadata": {},
   "source": [
    "Прямой взаимосвязи стоимости объекта в зависимости от дня недели размещения не установлено."
   ]
  },
  {
   "cell_type": "code",
   "execution_count": 214,
   "metadata": {},
   "outputs": [
    {
     "data": {
      "text/html": [
       "<style  type=\"text/css\" >\n",
       "</style><table id=\"T_98fdfe10_4754_11ea_9eed_02420a001f5b\" ><thead>    <tr>        <th class=\"blank level0\" ></th>        <th class=\"col_heading level0 col0\" >new_last_price</th>    </tr>    <tr>        <th class=\"index_name level0\" >month</th>        <th class=\"blank\" ></th>    </tr></thead><tbody>\n",
       "                <tr>\n",
       "                        <th id=\"T_98fdfe10_4754_11ea_9eed_02420a001f5blevel0_row0\" class=\"row_heading level0 row0\" >1</th>\n",
       "                        <td id=\"T_98fdfe10_4754_11ea_9eed_02420a001f5brow0_col0\" class=\"data row0 col0\" >6305824.561403509</td>\n",
       "            </tr>\n",
       "            <tr>\n",
       "                        <th id=\"T_98fdfe10_4754_11ea_9eed_02420a001f5blevel0_row1\" class=\"row_heading level0 row1\" >2</th>\n",
       "                        <td id=\"T_98fdfe10_4754_11ea_9eed_02420a001f5brow1_col0\" class=\"data row1 col0\" >6574481.472222222</td>\n",
       "            </tr>\n",
       "            <tr>\n",
       "                        <th id=\"T_98fdfe10_4754_11ea_9eed_02420a001f5blevel0_row2\" class=\"row_heading level0 row2\" >3</th>\n",
       "                        <td id=\"T_98fdfe10_4754_11ea_9eed_02420a001f5brow2_col0\" class=\"data row2 col0\" >6849387.804878049</td>\n",
       "            </tr>\n",
       "            <tr>\n",
       "                        <th id=\"T_98fdfe10_4754_11ea_9eed_02420a001f5blevel0_row3\" class=\"row_heading level0 row3\" >4</th>\n",
       "                        <td id=\"T_98fdfe10_4754_11ea_9eed_02420a001f5brow3_col0\" class=\"data row3 col0\" >6562734.927710843</td>\n",
       "            </tr>\n",
       "            <tr>\n",
       "                        <th id=\"T_98fdfe10_4754_11ea_9eed_02420a001f5blevel0_row4\" class=\"row_heading level0 row4\" >5</th>\n",
       "                        <td id=\"T_98fdfe10_4754_11ea_9eed_02420a001f5brow4_col0\" class=\"data row4 col0\" >6601978.723404256</td>\n",
       "            </tr>\n",
       "            <tr>\n",
       "                        <th id=\"T_98fdfe10_4754_11ea_9eed_02420a001f5blevel0_row5\" class=\"row_heading level0 row5\" >6</th>\n",
       "                        <td id=\"T_98fdfe10_4754_11ea_9eed_02420a001f5brow5_col0\" class=\"data row5 col0\" >6329562.5</td>\n",
       "            </tr>\n",
       "            <tr>\n",
       "                        <th id=\"T_98fdfe10_4754_11ea_9eed_02420a001f5blevel0_row6\" class=\"row_heading level0 row6\" >7</th>\n",
       "                        <td id=\"T_98fdfe10_4754_11ea_9eed_02420a001f5brow6_col0\" class=\"data row6 col0\" >6689000.0</td>\n",
       "            </tr>\n",
       "            <tr>\n",
       "                        <th id=\"T_98fdfe10_4754_11ea_9eed_02420a001f5blevel0_row7\" class=\"row_heading level0 row7\" >8</th>\n",
       "                        <td id=\"T_98fdfe10_4754_11ea_9eed_02420a001f5brow7_col0\" class=\"data row7 col0\" >6323076.923076923</td>\n",
       "            </tr>\n",
       "            <tr>\n",
       "                        <th id=\"T_98fdfe10_4754_11ea_9eed_02420a001f5blevel0_row8\" class=\"row_heading level0 row8\" >9</th>\n",
       "                        <td id=\"T_98fdfe10_4754_11ea_9eed_02420a001f5brow8_col0\" class=\"data row8 col0\" >6922408.974358974</td>\n",
       "            </tr>\n",
       "            <tr>\n",
       "                        <th id=\"T_98fdfe10_4754_11ea_9eed_02420a001f5blevel0_row9\" class=\"row_heading level0 row9\" >10</th>\n",
       "                        <td id=\"T_98fdfe10_4754_11ea_9eed_02420a001f5brow9_col0\" class=\"data row9 col0\" >6628441.176470588</td>\n",
       "            </tr>\n",
       "            <tr>\n",
       "                        <th id=\"T_98fdfe10_4754_11ea_9eed_02420a001f5blevel0_row10\" class=\"row_heading level0 row10\" >11</th>\n",
       "                        <td id=\"T_98fdfe10_4754_11ea_9eed_02420a001f5brow10_col0\" class=\"data row10 col0\" >6386655.555555556</td>\n",
       "            </tr>\n",
       "            <tr>\n",
       "                        <th id=\"T_98fdfe10_4754_11ea_9eed_02420a001f5blevel0_row11\" class=\"row_heading level0 row11\" >12</th>\n",
       "                        <td id=\"T_98fdfe10_4754_11ea_9eed_02420a001f5brow11_col0\" class=\"data row11 col0\" >6222360.655737705</td>\n",
       "            </tr>\n",
       "    </tbody></table>"
      ],
      "text/plain": [
       "<pandas.io.formats.style.Styler at 0x7fa93a9f4470>"
      ]
     },
     "execution_count": 214,
     "metadata": {},
     "output_type": "execute_result"
    }
   ],
   "source": [
    "res_nlp_month_spb = data_spb.pivot_table(index = 'month', values = 'new_last_price')\n",
    "res_nlp_month_spb.style.format(\"{}\")"
   ]
  },
  {
   "cell_type": "markdown",
   "metadata": {},
   "source": [
    "Не удается выделить существенные различий в стоимости объекта в зависимости от месяца публикации объявления."
   ]
  },
  {
   "cell_type": "code",
   "execution_count": 215,
   "metadata": {},
   "outputs": [
    {
     "data": {
      "text/html": [
       "<style  type=\"text/css\" >\n",
       "</style><table id=\"T_99a59706_4754_11ea_9eed_02420a001f5b\" ><thead>    <tr>        <th class=\"blank level0\" ></th>        <th class=\"col_heading level0 col0\" >new_last_price</th>    </tr>    <tr>        <th class=\"index_name level0\" >year</th>        <th class=\"blank\" ></th>    </tr></thead><tbody>\n",
       "                <tr>\n",
       "                        <th id=\"T_99a59706_4754_11ea_9eed_02420a001f5blevel0_row0\" class=\"row_heading level0 row0\" >2014</th>\n",
       "                        <td id=\"T_99a59706_4754_11ea_9eed_02420a001f5brow0_col0\" class=\"data row0 col0\" >5216800.0</td>\n",
       "            </tr>\n",
       "            <tr>\n",
       "                        <th id=\"T_99a59706_4754_11ea_9eed_02420a001f5blevel0_row1\" class=\"row_heading level0 row1\" >2015</th>\n",
       "                        <td id=\"T_99a59706_4754_11ea_9eed_02420a001f5brow1_col0\" class=\"data row1 col0\" >6352058.823529412</td>\n",
       "            </tr>\n",
       "            <tr>\n",
       "                        <th id=\"T_99a59706_4754_11ea_9eed_02420a001f5blevel0_row2\" class=\"row_heading level0 row2\" >2016</th>\n",
       "                        <td id=\"T_99a59706_4754_11ea_9eed_02420a001f5brow2_col0\" class=\"data row2 col0\" >7032348.214285715</td>\n",
       "            </tr>\n",
       "            <tr>\n",
       "                        <th id=\"T_99a59706_4754_11ea_9eed_02420a001f5blevel0_row3\" class=\"row_heading level0 row3\" >2017</th>\n",
       "                        <td id=\"T_99a59706_4754_11ea_9eed_02420a001f5brow3_col0\" class=\"data row3 col0\" >6417640.705128205</td>\n",
       "            </tr>\n",
       "            <tr>\n",
       "                        <th id=\"T_99a59706_4754_11ea_9eed_02420a001f5blevel0_row4\" class=\"row_heading level0 row4\" >2018</th>\n",
       "                        <td id=\"T_99a59706_4754_11ea_9eed_02420a001f5brow4_col0\" class=\"data row4 col0\" >6514705.390041494</td>\n",
       "            </tr>\n",
       "            <tr>\n",
       "                        <th id=\"T_99a59706_4754_11ea_9eed_02420a001f5blevel0_row5\" class=\"row_heading level0 row5\" >2019</th>\n",
       "                        <td id=\"T_99a59706_4754_11ea_9eed_02420a001f5brow5_col0\" class=\"data row5 col0\" >6801829.463157895</td>\n",
       "            </tr>\n",
       "    </tbody></table>"
      ],
      "text/plain": [
       "<pandas.io.formats.style.Styler at 0x7fa93a995240>"
      ]
     },
     "execution_count": 215,
     "metadata": {},
     "output_type": "execute_result"
    }
   ],
   "source": [
    "res_nlp_year_spb = data_spb.pivot_table(index = 'year', values = 'new_last_price')\n",
    "res_nlp_year_spb.style.format(\"{}\")"
   ]
  },
  {
   "cell_type": "markdown",
   "metadata": {},
   "source": [
    "Не удается также выделить взаимосвязи стоимости недвижимости на год размещения объявления о ее продаже. Но так же можно и предположить, что в 2014 году средняя стоимость была ниже из-за наступившего тогда экономического кризиса, в следствие чего спрос на недвижимость в центре снизился. Далее ситуация примерно стабильная."
   ]
  },
  {
   "cell_type": "markdown",
   "metadata": {},
   "source": [
    "### Шаг 5. Общий вывод"
   ]
  },
  {
   "cell_type": "markdown",
   "metadata": {},
   "source": [
    "В данном прокте мы исследовали объявления о продаже квартир в Санкт-Петербурге и соседних населенных пунктах. Была проведена оценка данных, удавлены пропущенные значения, установлен корректный тип данных для значений каждого столбца. В ходе исследования были изучены такие параметры как площадь, цена, число комнат, этажность, дата размещения и их влияние на стоимость размещаемой недвижимости. Провели два анализа - по всему городу Санкт-Петербургу и его центральной зоны, сопоставили выводы по каждому из параметров. Подводя итог, стоит отметить что существенным параметром при формировании цены недвижимости как во всем городе, так и в центральной зоне является общая площадь объекта недвижимости, причем в центральной зоне это прослеживается в большей степени. Не далось установить взаимосвязи между датой размещения и стоимостью недвижимости в целом по городу, но в центральной зоне удалось выявить небольшую взаимосвязь по месяцу и году размещения объявления о продаже. Удалось так же выявить, что стоимость квадратного метра на первом и последнем этажах как в целом по городу, так и по центральной зоне дешевле, чем на других этажах. Подводя итог, недвижимость в центральной зоне имеет больше параметров, влияющих на ценообразование, так как в основном в центральной зоне размещена элитная недвижимость."
   ]
  }
 ],
 "metadata": {
  "kernelspec": {
   "display_name": "Python 3",
   "language": "python",
   "name": "python3"
  },
  "language_info": {
   "codemirror_mode": {
    "name": "ipython",
    "version": 3
   },
   "file_extension": ".py",
   "mimetype": "text/x-python",
   "name": "python",
   "nbconvert_exporter": "python",
   "pygments_lexer": "ipython3",
   "version": "3.7.3"
  }
 },
 "nbformat": 4,
 "nbformat_minor": 2
}
